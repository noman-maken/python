{
 "cells": [
  {
   "cell_type": "code",
   "execution_count": 1,
   "metadata": {},
   "outputs": [
    {
     "name": "stdout",
     "output_type": "stream",
     "text": [
      "Hello World\n"
     ]
    }
   ],
   "source": [
    "print(\"Hello World\")"
   ]
  },
  {
   "cell_type": "code",
   "execution_count": 2,
   "metadata": {},
   "outputs": [
    {
     "name": "stdout",
     "output_type": "stream",
     "text": [
      "Hello World\n"
     ]
    }
   ],
   "source": [
    "a = \"Hello World\"\n",
    "print(a)"
   ]
  },
  {
   "cell_type": "code",
   "execution_count": 3,
   "metadata": {},
   "outputs": [
    {
     "name": "stdout",
     "output_type": "stream",
     "text": [
      "56\n"
     ]
    }
   ],
   "source": [
    "print(56)"
   ]
  },
  {
   "cell_type": "code",
   "execution_count": 4,
   "metadata": {},
   "outputs": [
    {
     "name": "stdout",
     "output_type": "stream",
     "text": [
      "45.9\n"
     ]
    }
   ],
   "source": [
    "print(45.90)"
   ]
  },
  {
   "cell_type": "markdown",
   "metadata": {},
   "source": [
    "# Multiple Value Print"
   ]
  },
  {
   "cell_type": "code",
   "execution_count": 5,
   "metadata": {},
   "outputs": [
    {
     "name": "stdout",
     "output_type": "stream",
     "text": [
      "Hello User 56\n"
     ]
    }
   ],
   "source": [
    "print(\"Hello\", \"User\", 56)"
   ]
  },
  {
   "cell_type": "code",
   "execution_count": 7,
   "metadata": {},
   "outputs": [
    {
     "name": "stdout",
     "output_type": "stream",
     "text": [
      "Muhammad Noman Aslam\n"
     ]
    }
   ],
   "source": [
    "print(\"Muhammad\", \"Noman\", \"Aslam\")"
   ]
  },
  {
   "cell_type": "markdown",
   "metadata": {},
   "source": [
    "# Basic Arithmetic Operator"
   ]
  },
  {
   "cell_type": "code",
   "execution_count": 8,
   "metadata": {},
   "outputs": [
    {
     "name": "stdout",
     "output_type": "stream",
     "text": [
      "Sum is: 120\n",
      "Substract is: 20\n"
     ]
    }
   ],
   "source": [
    "num1 = 70\n",
    "numb2 = 50\n",
    "sumValue = num1 + numb2\n",
    "subValue = num1 - numb2\n",
    "\n",
    "print(\"Sum is:\", sumValue)\n",
    "print(\"Substract is:\", subValue)"
   ]
  },
  {
   "cell_type": "code",
   "execution_count": 9,
   "metadata": {},
   "outputs": [
    {
     "name": "stdout",
     "output_type": "stream",
     "text": [
      "Sum is: 120\n",
      "Substract is: 20\n"
     ]
    }
   ],
   "source": [
    "num1 = 70\n",
    "numb2 = 50\n",
    "sumValue = num1 + numb2 # 70 + 50 = 120\n",
    "subValue = num1 - numb2 # 70 - 50\n",
    "\n",
    "print(\"Sum is:\", sumValue)\n",
    "print(\"Substract is:\", subValue)"
   ]
  },
  {
   "cell_type": "code",
   "execution_count": 10,
   "metadata": {},
   "outputs": [
    {
     "name": "stdout",
     "output_type": "stream",
     "text": [
      "Multiplication is 3500\n"
     ]
    }
   ],
   "source": [
    "print(\"Multiplication is\", num1 * numb2)"
   ]
  },
  {
   "cell_type": "code",
   "execution_count": 11,
   "metadata": {},
   "outputs": [
    {
     "name": "stdout",
     "output_type": "stream",
     "text": [
      "Division is 1.4\n"
     ]
    }
   ],
   "source": [
    "print(\"Division is\", num1 / numb2)"
   ]
  },
  {
   "cell_type": "markdown",
   "metadata": {},
   "source": [
    "# String"
   ]
  },
  {
   "cell_type": "code",
   "execution_count": 12,
   "metadata": {},
   "outputs": [],
   "source": [
    "name = \"Urwa Mubeen\"\n",
    "className = \"Artificial Intelligence\""
   ]
  },
  {
   "cell_type": "code",
   "execution_count": 14,
   "metadata": {},
   "outputs": [
    {
     "name": "stdout",
     "output_type": "stream",
     "text": [
      "Hello Urwa Mubeen\n",
      "Your Application is accepted forArtificial Intelligence\n"
     ]
    }
   ],
   "source": [
    "message = \"Hello\" + \" \"+ name + \"\\n\" + \"Your Application is accepted for\" + className\n",
    "print(message)"
   ]
  },
  {
   "cell_type": "code",
   "execution_count": 16,
   "metadata": {},
   "outputs": [
    {
     "name": "stdout",
     "output_type": "stream",
     "text": [
      "Hello Urwa Mubeen\n",
      "Your Application is accepted forArtificial Intelligence\n"
     ]
    }
   ],
   "source": [
    "message = \"Hello\" + \" \"+ name + \"\\n\" + \"Your Application is accepted for\" + className\n",
    "print(message)"
   ]
  },
  {
   "cell_type": "markdown",
   "metadata": {},
   "source": [
    "# Pemdas"
   ]
  },
  {
   "cell_type": "markdown",
   "metadata": {},
   "source": [
    "* P parranthesis() \n",
    "* Exponent **\n",
    "* Multilication *\n",
    "* D Division /\n",
    "* Addition +\n",
    "* S Substraction -"
   ]
  },
  {
   "cell_type": "code",
   "execution_count": 18,
   "metadata": {},
   "outputs": [
    {
     "data": {
      "text/plain": [
       "16.5"
      ]
     },
     "execution_count": 18,
     "metadata": {},
     "output_type": "execute_result"
    }
   ],
   "source": [
    "2*3**2-4+5/2\n",
    "\n",
    "#9\n",
    "#18\n",
    "#2.5\n",
    "#20.5\n",
    "#16.5"
   ]
  },
  {
   "cell_type": "code",
   "execution_count": 25,
   "metadata": {},
   "outputs": [
    {
     "data": {
      "text/plain": [
       "44.0"
      ]
     },
     "execution_count": 25,
     "metadata": {},
     "output_type": "execute_result"
    }
   ],
   "source": [
    "2**2/2*22"
   ]
  },
  {
   "cell_type": "markdown",
   "metadata": {},
   "source": [
    "# List"
   ]
  },
  {
   "cell_type": "code",
   "execution_count": 26,
   "metadata": {},
   "outputs": [
    {
     "name": "stdout",
     "output_type": "stream",
     "text": [
      "[92, 54, 67, 56, 56]\n"
     ]
    }
   ],
   "source": [
    "marks = [92, 54, 67, 56, 56]\n",
    "print(marks)"
   ]
  },
  {
   "cell_type": "code",
   "execution_count": 27,
   "metadata": {},
   "outputs": [
    {
     "data": {
      "text/plain": [
       "92"
      ]
     },
     "execution_count": 27,
     "metadata": {},
     "output_type": "execute_result"
    }
   ],
   "source": [
    "marks[0]"
   ]
  },
  {
   "cell_type": "code",
   "execution_count": 28,
   "metadata": {},
   "outputs": [
    {
     "data": {
      "text/plain": [
       "56"
      ]
     },
     "execution_count": 28,
     "metadata": {},
     "output_type": "execute_result"
    }
   ],
   "source": [
    "marks[-2]"
   ]
  },
  {
   "cell_type": "code",
   "execution_count": 29,
   "metadata": {},
   "outputs": [],
   "source": [
    "marks = [92, 54, 67, 56, 56]\n",
    "\n",
    "#marks[0] = 92\n",
    "#marks[1] = 54\n",
    "#marks[-1] = 56\n",
    "#marks[-2] = 56"
   ]
  },
  {
   "cell_type": "code",
   "execution_count": 30,
   "metadata": {},
   "outputs": [],
   "source": [
    "names = [\"Noman\", \"Urwa\", \"Ahsan\", \"Shabbir\", \"Waseem\", \"Atif\"]"
   ]
  },
  {
   "cell_type": "code",
   "execution_count": 31,
   "metadata": {},
   "outputs": [
    {
     "name": "stdout",
     "output_type": "stream",
     "text": [
      "['Noman', 'Urwa', 'Ahsan', 'Shabbir', 'Waseem', 'Atif']\n"
     ]
    }
   ],
   "source": [
    "print(names)"
   ]
  },
  {
   "cell_type": "code",
   "execution_count": 33,
   "metadata": {},
   "outputs": [
    {
     "name": "stdout",
     "output_type": "stream",
     "text": [
      "Noman Secured 92 marks \n"
     ]
    }
   ],
   "source": [
    "msg = names[0] + \" Secured \" + str(marks[0]) + \" marks \"\n",
    "print(msg)"
   ]
  },
  {
   "cell_type": "code",
   "execution_count": 35,
   "metadata": {},
   "outputs": [
    {
     "name": "stdout",
     "output_type": "stream",
     "text": [
      "Noman Secured 92 marks\n"
     ]
    }
   ],
   "source": [
    "msg = names[0] + \" \" + \"Secured\" + \" \" + str(marks[0]) + \" \" + \"marks\"\n",
    "print(msg)"
   ]
  },
  {
   "cell_type": "code",
   "execution_count": 36,
   "metadata": {},
   "outputs": [
    {
     "name": "stdout",
     "output_type": "stream",
     "text": [
      "Waseem Secured 56 marks\n"
     ]
    }
   ],
   "source": [
    "msg = names[4] + \" \" + \"Secured\" + \" \" + str(marks[3]) + \" \" + \"marks\"\n",
    "print(msg)"
   ]
  },
  {
   "cell_type": "code",
   "execution_count": null,
   "metadata": {},
   "outputs": [],
   "source": []
  }
 ],
 "metadata": {
  "kernelspec": {
   "display_name": "Python 3",
   "language": "python",
   "name": "python3"
  },
  "language_info": {
   "codemirror_mode": {
    "name": "ipython",
    "version": 3
   },
   "file_extension": ".py",
   "mimetype": "text/x-python",
   "name": "python",
   "nbconvert_exporter": "python",
   "pygments_lexer": "ipython3",
   "version": "3.7.6"
  }
 },
 "nbformat": 4,
 "nbformat_minor": 4
}
