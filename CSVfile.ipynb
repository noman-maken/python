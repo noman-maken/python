{
 "cells": [
  {
   "cell_type": "code",
   "execution_count": 1,
   "metadata": {},
   "outputs": [],
   "source": [
    "import csv"
   ]
  },
  {
   "cell_type": "code",
   "execution_count": 5,
   "metadata": {},
   "outputs": [
    {
     "name": "stdout",
     "output_type": "stream",
     "text": [
      "<_csv.reader object at 0x0000019A6D0957B8>\n"
     ]
    }
   ],
   "source": [
    "with open(\"contacts.csv\") as f:\n",
    "    read = csv.reader(f)\n",
    "    print(read)"
   ]
  },
  {
   "cell_type": "code",
   "execution_count": 8,
   "metadata": {},
   "outputs": [
    {
     "name": "stdout",
     "output_type": "stream",
     "text": [
      "['BEGIN:VCARD']\n",
      "['VERSION:3.0']\n",
      "['N:Abbas;Waseem;;;']\n",
      "['FN:Waseem Abbas']\n",
      "['EMAIL;TYPE=INTERNET;TYPE=HOME:waseemabbas26272@gmail.com']\n",
      "['END:VCARD']\n",
      "['BEGIN:VCARD']\n",
      "['VERSION:3.0']\n",
      "['N:Ahsan;Noman;;;']\n",
      "['FN:Noman Ahsan']\n",
      "['EMAIL;TYPE=INTERNET;TYPE=HOME:nomanahsan4060@gmail.com']\n",
      "['END:VCARD']\n",
      "['BEGIN:VCARD']\n",
      "['VERSION:3.0']\n",
      "['N:AI;Sajid;;;']\n",
      "['FN:Sajid AI']\n",
      "['EMAIL;TYPE=INTERNET;TYPE=HOME:princesajid116@gmail.com']\n",
      "['END:VCARD']\n",
      "['BEGIN:VCARD']\n",
      "['VERSION:3.0']\n",
      "['N:Amjad;Manahil;;;']\n",
      "['FN:Manahil Amjad']\n",
      "['EMAIL;TYPE=INTERNET;TYPE=HOME:Lorealmalik@gmail.com']\n",
      "['END:VCARD']\n",
      "['BEGIN:VCARD']\n",
      "['VERSION:3.0']\n",
      "['N:Ansari;Hamza;;;']\n",
      "['FN:Hamza Ansari']\n",
      "['EMAIL;TYPE=INTERNET;TYPE=HOME:hamzaansari2076@gmail.com']\n",
      "['END:VCARD']\n",
      "['BEGIN:VCARD']\n",
      "['VERSION:3.0']\n",
      "['N:Aslam Maken;Muhammad Noman;;;']\n",
      "['FN:Muhammad Noman Aslam Maken']\n",
      "['EMAIL;TYPE=INTERNET;TYPE=HOME:mnomanaslam64@gmail.com']\n",
      "['END:VCARD']\n",
      "['BEGIN:VCARD']\n",
      "['VERSION:3.0']\n",
      "['N:;Dawood;;;']\n",
      "['FN:Dawood']\n",
      "['EMAIL;TYPE=INTERNET;TYPE=HOME:dawoodahmad048@gmail.com']\n",
      "['END:VCARD']\n",
      "['BEGIN:VCARD']\n",
      "['VERSION:3.0']\n",
      "['N:;Haroon;;;']\n",
      "['FN:Haroon']\n",
      "['EMAIL;TYPE=INTERNET;TYPE=HOME:bc190204185@vu.edu.pk']\n",
      "['END:VCARD']\n",
      "['BEGIN:VCARD']\n",
      "['VERSION:3.0']\n",
      "['N:Hussain;Atif;;;']\n",
      "['FN:Atif Hussain']\n",
      "['EMAIL;TYPE=INTERNET;TYPE=HOME:atifhussain.paki@gmail.com']\n",
      "['END:VCARD']\n",
      "['BEGIN:VCARD']\n",
      "['VERSION:3.0']\n",
      "['N:;Kamil;;;']\n",
      "['FN:Kamil']\n",
      "['EMAIL;TYPE=INTERNET;TYPE=HOME:malikkamil595@gmail.com']\n",
      "['END:VCARD']\n",
      "['BEGIN:VCARD']\n",
      "['VERSION:3.0']\n",
      "['N:Khan;Bilal;;;']\n",
      "['FN:Bilal Khan']\n",
      "['EMAIL;TYPE=INTERNET;TYPE=HOME:bilalbaloch4748@gmail.com']\n",
      "['END:VCARD']\n",
      "['BEGIN:VCARD']\n",
      "['VERSION:3.0']\n",
      "['N:;Leeza;;;']\n",
      "['FN:Leeza']\n",
      "['EMAIL;TYPE=INTERNET;TYPE=HOME:aleezayqadeer@gmail.com']\n",
      "['END:VCARD']\n",
      "['BEGIN:VCARD']\n",
      "['VERSION:3.0']\n",
      "['N:Mubeen;Urwa;;;']\n",
      "['FN:Urwa Mubeen']\n",
      "['EMAIL;TYPE=INTERNET;TYPE=HOME:urwaurwi0@gmail.com']\n",
      "['END:VCARD']\n",
      "['BEGIN:VCARD']\n",
      "['VERSION:3.0']\n",
      "['N:;Romi;;;']\n",
      "['FN:Romi']\n",
      "['EMAIL;TYPE=INTERNET;TYPE=HOME:romananawaz123@gmail.com']\n",
      "['END:VCARD']\n",
      "['BEGIN:VCARD']\n",
      "['VERSION:3.0']\n",
      "['N:;Shabbir;;;']\n",
      "['FN:Shabbir']\n",
      "['EMAIL;TYPE=INTERNET;TYPE=HOME:shabbirawan698@gmail.com']\n",
      "['END:VCARD']\n",
      "['BEGIN:VCARD']\n",
      "['VERSION:3.0']\n",
      "['N:Sundas;Zeba;;;']\n",
      "['FN:Zeba Sundas']\n",
      "['EMAIL;TYPE=INTERNET;TYPE=HOME:zebasundasbsit@gmail.com']\n",
      "['END:VCARD']\n"
     ]
    }
   ],
   "source": [
    "with open(\"contacts.csv\") as f:\n",
    "    read = csv.reader(f)\n",
    "    for i in read:\n",
    "        print(i)"
   ]
  },
  {
   "cell_type": "code",
   "execution_count": 9,
   "metadata": {},
   "outputs": [
    {
     "name": "stdout",
     "output_type": "stream",
     "text": [
      "[['BEGIN:VCARD'], ['VERSION:3.0'], ['N:Abbas;Waseem;;;'], ['FN:Waseem Abbas'], ['EMAIL;TYPE=INTERNET;TYPE=HOME:waseemabbas26272@gmail.com'], ['END:VCARD'], ['BEGIN:VCARD'], ['VERSION:3.0'], ['N:Ahsan;Noman;;;'], ['FN:Noman Ahsan'], ['EMAIL;TYPE=INTERNET;TYPE=HOME:nomanahsan4060@gmail.com'], ['END:VCARD'], ['BEGIN:VCARD'], ['VERSION:3.0'], ['N:AI;Sajid;;;'], ['FN:Sajid AI'], ['EMAIL;TYPE=INTERNET;TYPE=HOME:princesajid116@gmail.com'], ['END:VCARD'], ['BEGIN:VCARD'], ['VERSION:3.0'], ['N:Amjad;Manahil;;;'], ['FN:Manahil Amjad'], ['EMAIL;TYPE=INTERNET;TYPE=HOME:Lorealmalik@gmail.com'], ['END:VCARD'], ['BEGIN:VCARD'], ['VERSION:3.0'], ['N:Ansari;Hamza;;;'], ['FN:Hamza Ansari'], ['EMAIL;TYPE=INTERNET;TYPE=HOME:hamzaansari2076@gmail.com'], ['END:VCARD'], ['BEGIN:VCARD'], ['VERSION:3.0'], ['N:Aslam Maken;Muhammad Noman;;;'], ['FN:Muhammad Noman Aslam Maken'], ['EMAIL;TYPE=INTERNET;TYPE=HOME:mnomanaslam64@gmail.com'], ['END:VCARD'], ['BEGIN:VCARD'], ['VERSION:3.0'], ['N:;Dawood;;;'], ['FN:Dawood'], ['EMAIL;TYPE=INTERNET;TYPE=HOME:dawoodahmad048@gmail.com'], ['END:VCARD'], ['BEGIN:VCARD'], ['VERSION:3.0'], ['N:;Haroon;;;'], ['FN:Haroon'], ['EMAIL;TYPE=INTERNET;TYPE=HOME:bc190204185@vu.edu.pk'], ['END:VCARD'], ['BEGIN:VCARD'], ['VERSION:3.0'], ['N:Hussain;Atif;;;'], ['FN:Atif Hussain'], ['EMAIL;TYPE=INTERNET;TYPE=HOME:atifhussain.paki@gmail.com'], ['END:VCARD'], ['BEGIN:VCARD'], ['VERSION:3.0'], ['N:;Kamil;;;'], ['FN:Kamil'], ['EMAIL;TYPE=INTERNET;TYPE=HOME:malikkamil595@gmail.com'], ['END:VCARD'], ['BEGIN:VCARD'], ['VERSION:3.0'], ['N:Khan;Bilal;;;'], ['FN:Bilal Khan'], ['EMAIL;TYPE=INTERNET;TYPE=HOME:bilalbaloch4748@gmail.com'], ['END:VCARD'], ['BEGIN:VCARD'], ['VERSION:3.0'], ['N:;Leeza;;;'], ['FN:Leeza'], ['EMAIL;TYPE=INTERNET;TYPE=HOME:aleezayqadeer@gmail.com'], ['END:VCARD'], ['BEGIN:VCARD'], ['VERSION:3.0'], ['N:Mubeen;Urwa;;;'], ['FN:Urwa Mubeen'], ['EMAIL;TYPE=INTERNET;TYPE=HOME:urwaurwi0@gmail.com'], ['END:VCARD'], ['BEGIN:VCARD'], ['VERSION:3.0'], ['N:;Romi;;;'], ['FN:Romi'], ['EMAIL;TYPE=INTERNET;TYPE=HOME:romananawaz123@gmail.com'], ['END:VCARD'], ['BEGIN:VCARD'], ['VERSION:3.0'], ['N:;Shabbir;;;'], ['FN:Shabbir'], ['EMAIL;TYPE=INTERNET;TYPE=HOME:shabbirawan698@gmail.com'], ['END:VCARD'], ['BEGIN:VCARD'], ['VERSION:3.0'], ['N:Sundas;Zeba;;;'], ['FN:Zeba Sundas'], ['EMAIL;TYPE=INTERNET;TYPE=HOME:zebasundasbsit@gmail.com'], ['END:VCARD']]\n"
     ]
    }
   ],
   "source": [
    "with open(\"contacts.csv\") as f:\n",
    "    read1 = csv.reader(f)\n",
    "    contacts = list(read1)\n",
    "    print(contacts)"
   ]
  },
  {
   "cell_type": "code",
   "execution_count": 12,
   "metadata": {},
   "outputs": [
    {
     "name": "stdout",
     "output_type": "stream",
     "text": [
      "[['BEGIN:VCARD']]\n",
      "[['VERSION:3.0']]\n",
      "[['N:Abbas;Waseem;;;']]\n",
      "[['FN:Waseem Abbas']]\n",
      "[['EMAIL;TYPE=INTERNET;TYPE=HOME:waseemabbas26272@gmail.com']]\n",
      "[['END:VCARD']]\n",
      "[['BEGIN:VCARD']]\n",
      "[['VERSION:3.0']]\n",
      "[['N:Ahsan;Noman;;;']]\n",
      "[['FN:Noman Ahsan']]\n",
      "[['EMAIL;TYPE=INTERNET;TYPE=HOME:nomanahsan4060@gmail.com']]\n",
      "[['END:VCARD']]\n",
      "[['BEGIN:VCARD']]\n",
      "[['VERSION:3.0']]\n",
      "[['N:AI;Sajid;;;']]\n",
      "[['FN:Sajid AI']]\n",
      "[['EMAIL;TYPE=INTERNET;TYPE=HOME:princesajid116@gmail.com']]\n",
      "[['END:VCARD']]\n",
      "[['BEGIN:VCARD']]\n",
      "[['VERSION:3.0']]\n",
      "[['N:Amjad;Manahil;;;']]\n",
      "[['FN:Manahil Amjad']]\n",
      "[['EMAIL;TYPE=INTERNET;TYPE=HOME:Lorealmalik@gmail.com']]\n",
      "[['END:VCARD']]\n",
      "[['BEGIN:VCARD']]\n",
      "[['VERSION:3.0']]\n",
      "[['N:Ansari;Hamza;;;']]\n",
      "[['FN:Hamza Ansari']]\n",
      "[['EMAIL;TYPE=INTERNET;TYPE=HOME:hamzaansari2076@gmail.com']]\n",
      "[['END:VCARD']]\n",
      "[['BEGIN:VCARD']]\n",
      "[['VERSION:3.0']]\n",
      "[['N:Aslam Maken;Muhammad Noman;;;']]\n",
      "[['FN:Muhammad Noman Aslam Maken']]\n",
      "[['EMAIL;TYPE=INTERNET;TYPE=HOME:mnomanaslam64@gmail.com']]\n",
      "[['END:VCARD']]\n",
      "[['BEGIN:VCARD']]\n",
      "[['VERSION:3.0']]\n",
      "[['N:;Dawood;;;']]\n",
      "[['FN:Dawood']]\n",
      "[['EMAIL;TYPE=INTERNET;TYPE=HOME:dawoodahmad048@gmail.com']]\n",
      "[['END:VCARD']]\n",
      "[['BEGIN:VCARD']]\n",
      "[['VERSION:3.0']]\n",
      "[['N:;Haroon;;;']]\n",
      "[['FN:Haroon']]\n",
      "[['EMAIL;TYPE=INTERNET;TYPE=HOME:bc190204185@vu.edu.pk']]\n",
      "[['END:VCARD']]\n",
      "[['BEGIN:VCARD']]\n",
      "[['VERSION:3.0']]\n",
      "[['N:Hussain;Atif;;;']]\n",
      "[['FN:Atif Hussain']]\n",
      "[['EMAIL;TYPE=INTERNET;TYPE=HOME:atifhussain.paki@gmail.com']]\n",
      "[['END:VCARD']]\n",
      "[['BEGIN:VCARD']]\n",
      "[['VERSION:3.0']]\n",
      "[['N:;Kamil;;;']]\n",
      "[['FN:Kamil']]\n",
      "[['EMAIL;TYPE=INTERNET;TYPE=HOME:malikkamil595@gmail.com']]\n",
      "[['END:VCARD']]\n",
      "[['BEGIN:VCARD']]\n",
      "[['VERSION:3.0']]\n",
      "[['N:Khan;Bilal;;;']]\n",
      "[['FN:Bilal Khan']]\n",
      "[['EMAIL;TYPE=INTERNET;TYPE=HOME:bilalbaloch4748@gmail.com']]\n",
      "[['END:VCARD']]\n",
      "[['BEGIN:VCARD']]\n",
      "[['VERSION:3.0']]\n",
      "[['N:;Leeza;;;']]\n",
      "[['FN:Leeza']]\n",
      "[['EMAIL;TYPE=INTERNET;TYPE=HOME:aleezayqadeer@gmail.com']]\n",
      "[['END:VCARD']]\n",
      "[['BEGIN:VCARD']]\n",
      "[['VERSION:3.0']]\n",
      "[['N:Mubeen;Urwa;;;']]\n",
      "[['FN:Urwa Mubeen']]\n",
      "[['EMAIL;TYPE=INTERNET;TYPE=HOME:urwaurwi0@gmail.com']]\n",
      "[['END:VCARD']]\n",
      "[['BEGIN:VCARD']]\n",
      "[['VERSION:3.0']]\n",
      "[['N:;Romi;;;']]\n",
      "[['FN:Romi']]\n",
      "[['EMAIL;TYPE=INTERNET;TYPE=HOME:romananawaz123@gmail.com']]\n",
      "[['END:VCARD']]\n",
      "[['BEGIN:VCARD']]\n",
      "[['VERSION:3.0']]\n",
      "[['N:;Shabbir;;;']]\n",
      "[['FN:Shabbir']]\n",
      "[['EMAIL;TYPE=INTERNET;TYPE=HOME:shabbirawan698@gmail.com']]\n",
      "[['END:VCARD']]\n",
      "[['BEGIN:VCARD']]\n",
      "[['VERSION:3.0']]\n",
      "[['N:Sundas;Zeba;;;']]\n",
      "[['FN:Zeba Sundas']]\n",
      "[['EMAIL;TYPE=INTERNET;TYPE=HOME:zebasundasbsit@gmail.com']]\n",
      "[['END:VCARD']]\n"
     ]
    }
   ],
   "source": [
    "with open(\"contacts.csv\") as f:\n",
    "    read = csv.reader(f)\n",
    "    \n",
    "    for i in read:\n",
    "        print([i])"
   ]
  },
  {
   "cell_type": "code",
   "execution_count": 11,
   "metadata": {},
   "outputs": [
    {
     "data": {
      "text/plain": [
       "[]"
      ]
     },
     "execution_count": 11,
     "metadata": {},
     "output_type": "execute_result"
    }
   ],
   "source": [
    "contacts"
   ]
  },
  {
   "cell_type": "code",
   "execution_count": 13,
   "metadata": {},
   "outputs": [],
   "source": [
    "with open(\"contacts.csv\") as f:\n",
    "    read1 = csv.reader(f)\n",
    "    contacts = list(read1)\n",
    "    f.close()"
   ]
  },
  {
   "cell_type": "code",
   "execution_count": 16,
   "metadata": {},
   "outputs": [],
   "source": [
    "f = open(\"contacts.csv\")\n",
    "read1 = csv.reader(f)\n",
    "contacts = list(read1)\n",
    "f.close()"
   ]
  },
  {
   "cell_type": "code",
   "execution_count": 17,
   "metadata": {},
   "outputs": [
    {
     "data": {
      "text/plain": [
       "<_io.TextIOWrapper name='contacts.csv' mode='r' encoding='cp1252'>"
      ]
     },
     "execution_count": 17,
     "metadata": {},
     "output_type": "execute_result"
    }
   ],
   "source": [
    "f"
   ]
  },
  {
   "cell_type": "code",
   "execution_count": 24,
   "metadata": {},
   "outputs": [
    {
     "name": "stdout",
     "output_type": "stream",
     "text": [
      "<_csv.reader object at 0x0000019A6D0A9518>\n"
     ]
    }
   ],
   "source": [
    "print(read1)"
   ]
  },
  {
   "cell_type": "code",
   "execution_count": 25,
   "metadata": {},
   "outputs": [
    {
     "name": "stdout",
     "output_type": "stream",
     "text": [
      "[['BEGIN:VCARD'], ['VERSION:3.0'], ['N:Abbas;Waseem;;;'], ['FN:Waseem Abbas'], ['EMAIL;TYPE=INTERNET;TYPE=HOME:waseemabbas26272@gmail.com'], ['END:VCARD'], ['BEGIN:VCARD'], ['VERSION:3.0'], ['N:Ahsan;Noman;;;'], ['FN:Noman Ahsan'], ['EMAIL;TYPE=INTERNET;TYPE=HOME:nomanahsan4060@gmail.com'], ['END:VCARD'], ['BEGIN:VCARD'], ['VERSION:3.0'], ['N:AI;Sajid;;;'], ['FN:Sajid AI'], ['EMAIL;TYPE=INTERNET;TYPE=HOME:princesajid116@gmail.com'], ['END:VCARD'], ['BEGIN:VCARD'], ['VERSION:3.0'], ['N:Amjad;Manahil;;;'], ['FN:Manahil Amjad'], ['EMAIL;TYPE=INTERNET;TYPE=HOME:Lorealmalik@gmail.com'], ['END:VCARD'], ['BEGIN:VCARD'], ['VERSION:3.0'], ['N:Ansari;Hamza;;;'], ['FN:Hamza Ansari'], ['EMAIL;TYPE=INTERNET;TYPE=HOME:hamzaansari2076@gmail.com'], ['END:VCARD'], ['BEGIN:VCARD'], ['VERSION:3.0'], ['N:Aslam Maken;Muhammad Noman;;;'], ['FN:Muhammad Noman Aslam Maken'], ['EMAIL;TYPE=INTERNET;TYPE=HOME:mnomanaslam64@gmail.com'], ['END:VCARD'], ['BEGIN:VCARD'], ['VERSION:3.0'], ['N:;Dawood;;;'], ['FN:Dawood'], ['EMAIL;TYPE=INTERNET;TYPE=HOME:dawoodahmad048@gmail.com'], ['END:VCARD'], ['BEGIN:VCARD'], ['VERSION:3.0'], ['N:;Haroon;;;'], ['FN:Haroon'], ['EMAIL;TYPE=INTERNET;TYPE=HOME:bc190204185@vu.edu.pk'], ['END:VCARD'], ['BEGIN:VCARD'], ['VERSION:3.0'], ['N:Hussain;Atif;;;'], ['FN:Atif Hussain'], ['EMAIL;TYPE=INTERNET;TYPE=HOME:atifhussain.paki@gmail.com'], ['END:VCARD'], ['BEGIN:VCARD'], ['VERSION:3.0'], ['N:;Kamil;;;'], ['FN:Kamil'], ['EMAIL;TYPE=INTERNET;TYPE=HOME:malikkamil595@gmail.com'], ['END:VCARD'], ['BEGIN:VCARD'], ['VERSION:3.0'], ['N:Khan;Bilal;;;'], ['FN:Bilal Khan'], ['EMAIL;TYPE=INTERNET;TYPE=HOME:bilalbaloch4748@gmail.com'], ['END:VCARD'], ['BEGIN:VCARD'], ['VERSION:3.0'], ['N:;Leeza;;;'], ['FN:Leeza'], ['EMAIL;TYPE=INTERNET;TYPE=HOME:aleezayqadeer@gmail.com'], ['END:VCARD'], ['BEGIN:VCARD'], ['VERSION:3.0'], ['N:Mubeen;Urwa;;;'], ['FN:Urwa Mubeen'], ['EMAIL;TYPE=INTERNET;TYPE=HOME:urwaurwi0@gmail.com'], ['END:VCARD'], ['BEGIN:VCARD'], ['VERSION:3.0'], ['N:;Romi;;;'], ['FN:Romi'], ['EMAIL;TYPE=INTERNET;TYPE=HOME:romananawaz123@gmail.com'], ['END:VCARD'], ['BEGIN:VCARD'], ['VERSION:3.0'], ['N:;Shabbir;;;'], ['FN:Shabbir'], ['EMAIL;TYPE=INTERNET;TYPE=HOME:shabbirawan698@gmail.com'], ['END:VCARD'], ['BEGIN:VCARD'], ['VERSION:3.0'], ['N:Sundas;Zeba;;;'], ['FN:Zeba Sundas'], ['EMAIL;TYPE=INTERNET;TYPE=HOME:zebasundasbsit@gmail.com'], ['END:VCARD']]\n"
     ]
    }
   ],
   "source": [
    "print(contacts)"
   ]
  },
  {
   "cell_type": "code",
   "execution_count": 27,
   "metadata": {},
   "outputs": [
    {
     "data": {
      "text/plain": [
       "{'contacts'}"
      ]
     },
     "execution_count": 27,
     "metadata": {},
     "output_type": "execute_result"
    }
   ],
   "source": [
    "{'contacts'}"
   ]
  },
  {
   "cell_type": "code",
   "execution_count": 28,
   "metadata": {},
   "outputs": [
    {
     "data": {
      "text/plain": [
       "[['BEGIN:VCARD'],\n",
       " ['VERSION:3.0'],\n",
       " ['N:Abbas;Waseem;;;'],\n",
       " ['FN:Waseem Abbas'],\n",
       " ['EMAIL;TYPE=INTERNET;TYPE=HOME:waseemabbas26272@gmail.com'],\n",
       " ['END:VCARD'],\n",
       " ['BEGIN:VCARD'],\n",
       " ['VERSION:3.0'],\n",
       " ['N:Ahsan;Noman;;;'],\n",
       " ['FN:Noman Ahsan'],\n",
       " ['EMAIL;TYPE=INTERNET;TYPE=HOME:nomanahsan4060@gmail.com'],\n",
       " ['END:VCARD'],\n",
       " ['BEGIN:VCARD'],\n",
       " ['VERSION:3.0'],\n",
       " ['N:AI;Sajid;;;'],\n",
       " ['FN:Sajid AI'],\n",
       " ['EMAIL;TYPE=INTERNET;TYPE=HOME:princesajid116@gmail.com'],\n",
       " ['END:VCARD'],\n",
       " ['BEGIN:VCARD'],\n",
       " ['VERSION:3.0'],\n",
       " ['N:Amjad;Manahil;;;'],\n",
       " ['FN:Manahil Amjad'],\n",
       " ['EMAIL;TYPE=INTERNET;TYPE=HOME:Lorealmalik@gmail.com'],\n",
       " ['END:VCARD'],\n",
       " ['BEGIN:VCARD'],\n",
       " ['VERSION:3.0'],\n",
       " ['N:Ansari;Hamza;;;'],\n",
       " ['FN:Hamza Ansari'],\n",
       " ['EMAIL;TYPE=INTERNET;TYPE=HOME:hamzaansari2076@gmail.com'],\n",
       " ['END:VCARD'],\n",
       " ['BEGIN:VCARD'],\n",
       " ['VERSION:3.0'],\n",
       " ['N:Aslam Maken;Muhammad Noman;;;'],\n",
       " ['FN:Muhammad Noman Aslam Maken'],\n",
       " ['EMAIL;TYPE=INTERNET;TYPE=HOME:mnomanaslam64@gmail.com'],\n",
       " ['END:VCARD'],\n",
       " ['BEGIN:VCARD'],\n",
       " ['VERSION:3.0'],\n",
       " ['N:;Dawood;;;'],\n",
       " ['FN:Dawood'],\n",
       " ['EMAIL;TYPE=INTERNET;TYPE=HOME:dawoodahmad048@gmail.com'],\n",
       " ['END:VCARD'],\n",
       " ['BEGIN:VCARD'],\n",
       " ['VERSION:3.0'],\n",
       " ['N:;Haroon;;;'],\n",
       " ['FN:Haroon'],\n",
       " ['EMAIL;TYPE=INTERNET;TYPE=HOME:bc190204185@vu.edu.pk'],\n",
       " ['END:VCARD'],\n",
       " ['BEGIN:VCARD'],\n",
       " ['VERSION:3.0'],\n",
       " ['N:Hussain;Atif;;;'],\n",
       " ['FN:Atif Hussain'],\n",
       " ['EMAIL;TYPE=INTERNET;TYPE=HOME:atifhussain.paki@gmail.com'],\n",
       " ['END:VCARD'],\n",
       " ['BEGIN:VCARD'],\n",
       " ['VERSION:3.0'],\n",
       " ['N:;Kamil;;;'],\n",
       " ['FN:Kamil'],\n",
       " ['EMAIL;TYPE=INTERNET;TYPE=HOME:malikkamil595@gmail.com'],\n",
       " ['END:VCARD'],\n",
       " ['BEGIN:VCARD'],\n",
       " ['VERSION:3.0'],\n",
       " ['N:Khan;Bilal;;;'],\n",
       " ['FN:Bilal Khan'],\n",
       " ['EMAIL;TYPE=INTERNET;TYPE=HOME:bilalbaloch4748@gmail.com'],\n",
       " ['END:VCARD'],\n",
       " ['BEGIN:VCARD'],\n",
       " ['VERSION:3.0'],\n",
       " ['N:;Leeza;;;'],\n",
       " ['FN:Leeza'],\n",
       " ['EMAIL;TYPE=INTERNET;TYPE=HOME:aleezayqadeer@gmail.com'],\n",
       " ['END:VCARD'],\n",
       " ['BEGIN:VCARD'],\n",
       " ['VERSION:3.0'],\n",
       " ['N:Mubeen;Urwa;;;'],\n",
       " ['FN:Urwa Mubeen'],\n",
       " ['EMAIL;TYPE=INTERNET;TYPE=HOME:urwaurwi0@gmail.com'],\n",
       " ['END:VCARD'],\n",
       " ['BEGIN:VCARD'],\n",
       " ['VERSION:3.0'],\n",
       " ['N:;Romi;;;'],\n",
       " ['FN:Romi'],\n",
       " ['EMAIL;TYPE=INTERNET;TYPE=HOME:romananawaz123@gmail.com'],\n",
       " ['END:VCARD'],\n",
       " ['BEGIN:VCARD'],\n",
       " ['VERSION:3.0'],\n",
       " ['N:;Shabbir;;;'],\n",
       " ['FN:Shabbir'],\n",
       " ['EMAIL;TYPE=INTERNET;TYPE=HOME:shabbirawan698@gmail.com'],\n",
       " ['END:VCARD'],\n",
       " ['BEGIN:VCARD'],\n",
       " ['VERSION:3.0'],\n",
       " ['N:Sundas;Zeba;;;'],\n",
       " ['FN:Zeba Sundas'],\n",
       " ['EMAIL;TYPE=INTERNET;TYPE=HOME:zebasundasbsit@gmail.com'],\n",
       " ['END:VCARD']]"
      ]
     },
     "execution_count": 28,
     "metadata": {},
     "output_type": "execute_result"
    }
   ],
   "source": [
    "(contacts)"
   ]
  },
  {
   "cell_type": "code",
   "execution_count": 31,
   "metadata": {},
   "outputs": [],
   "source": [
    "with open(\"noman.csv\", \"w\", newline=\"\") as file:\n",
    "    w = csv.writer(file,delimiter = \",\")\n",
    "    w.writerow([\"Name\",\"Roll Number\", \"Class\"])\n",
    "    w.writerow([\"Noman\",\"PIAIC\", \"AI\"])\n",
    "    w.writerow([\"Ahsan\",\"PIAIC1122\", \"AI\"])"
   ]
  },
  {
   "cell_type": "code",
   "execution_count": 33,
   "metadata": {},
   "outputs": [],
   "source": [
    "with open(\"noman.csv\", \"w\", newline=\"\") as file:\n",
    "    w = csv.writer(file,delimiter = \",\")\n",
    "    w.writerow([\"Name\",\"Roll Number\", \"Class\"])\n",
    "    w.writerow([\"Noman\",\"PIAIC\", \"AI\"])\n",
    "    w.writerow([\"Rashid\",\"PIAIC11222232\", \"AIc\"])"
   ]
  },
  {
   "cell_type": "code",
   "execution_count": 40,
   "metadata": {},
   "outputs": [],
   "source": [
    "with open(\"noman.csv\", \"w\", newline=\"\") as file:\n",
    "    w = csv.writer(file,delimiter = \",\")\n",
    "    w.writerow([\"Name\",\"Roll Number\", \"Class\"])\n",
    "    w.writerow([\"Noman\",\"PIAIC\", \"AI\"])\n",
    "    w.writerow([\"Rashid\",\"PIAIC11222232\", \"AIc\"])\n",
    "    w.writerow([\"Rashid\",\"PIAIC11222232\", \"AIc\"])\n",
    "    w.writerow([\"Rashid\",\"PIAIC11222232\", \"AIc\"])\n",
    "    w.writerow([\"Rashid\",\"PIAIC737373\", \"IOT\"])\n",
    "    w.writerow([\"Rashid\",\"PAIC7374373737\", \"CNC\"])\n",
    "    w.writerow([\"Rashid\",\"PAIC834883\", \"BCC\"])"
   ]
  },
  {
   "cell_type": "code",
   "execution_count": 41,
   "metadata": {
    "scrolled": true
   },
   "outputs": [
    {
     "name": "stdout",
     "output_type": "stream",
     "text": [
      "[['Name', 'Roll Number', 'Class']]\n",
      "[['Noman', 'PIAIC', 'AI']]\n",
      "[['Rashid', 'PIAIC11222232', 'AIc']]\n",
      "[['Rashid', 'PIAIC11222232', 'AIc']]\n",
      "[['Rashid', 'PIAIC11222232', 'AIc']]\n",
      "[['Rashid', 'PIAIC737373', 'IOT']]\n",
      "[['Rashid', 'PAIC7374373737', 'CNC']]\n",
      "[['Rashid', 'PAIC834883', 'BCC']]\n"
     ]
    }
   ],
   "source": [
    "with open(\"noman.csv\") as f:\n",
    "    read = csv.reader(f)\n",
    "    \n",
    "    for i in read:\n",
    "        print([i])"
   ]
  },
  {
   "cell_type": "code",
   "execution_count": 45,
   "metadata": {},
   "outputs": [
    {
     "name": "stdout",
     "output_type": "stream",
     "text": [
      "['Rashid', 'PAIC834883', 'BCC']\n"
     ]
    }
   ],
   "source": [
    "print(i)"
   ]
  },
  {
   "cell_type": "code",
   "execution_count": 47,
   "metadata": {},
   "outputs": [
    {
     "data": {
      "text/plain": [
       "'BCC'"
      ]
     },
     "execution_count": 47,
     "metadata": {},
     "output_type": "execute_result"
    }
   ],
   "source": [
    "i[-1]"
   ]
  },
  {
   "cell_type": "code",
   "execution_count": 52,
   "metadata": {},
   "outputs": [
    {
     "name": "stdout",
     "output_type": "stream",
     "text": [
      "You made any mistake\n"
     ]
    }
   ],
   "source": [
    "lst = [1,2,3,4,5]\n",
    "try:\n",
    "    a = 5/2\n",
    "    b=lst[7]\n",
    "except:\n",
    "    print(\"You made any mistake\")\n",
    "else:\n",
    "    print(b)"
   ]
  },
  {
   "cell_type": "code",
   "execution_count": null,
   "metadata": {},
   "outputs": [],
   "source": []
  }
 ],
 "metadata": {
  "kernelspec": {
   "display_name": "Python 3",
   "language": "python",
   "name": "python3"
  },
  "language_info": {
   "codemirror_mode": {
    "name": "ipython",
    "version": 3
   },
   "file_extension": ".py",
   "mimetype": "text/x-python",
   "name": "python",
   "nbconvert_exporter": "python",
   "pygments_lexer": "ipython3",
   "version": "3.7.6"
  }
 },
 "nbformat": 4,
 "nbformat_minor": 4
}
