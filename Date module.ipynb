{
 "cells": [
  {
   "cell_type": "code",
   "execution_count": null,
   "metadata": {},
   "outputs": [],
   "source": [
    "Which function overloads the + operator?\n",
    "a) __add__() (a)\n",
    "b) __plus__()\n",
    "c) __sum__()\n",
    "d) none of the mentioned"
   ]
  },
  {
   "cell_type": "code",
   "execution_count": null,
   "metadata": {},
   "outputs": [],
   "source": [
    "Which operator is overloaded by __invert__()?\n",
    "a) !\n",
    "b) ~ (b)\n",
    "c) ^\n",
    "d) –"
   ]
  },
  {
   "cell_type": "code",
   "execution_count": null,
   "metadata": {},
   "outputs": [],
   "source": [
    "Which function overloads the == operator?\n",
    "a) __eq__()\n",
    "b) __equ__() (b)\n",
    "c) __isequal__()\n",
    "d) none of the mentioned"
   ]
  },
  {
   "cell_type": "code",
   "execution_count": 1,
   "metadata": {},
   "outputs": [
    {
     "name": "stdout",
     "output_type": "stream",
     "text": [
      "oiuewfdsjeroj\n"
     ]
    }
   ],
   "source": [
    "class A():\n",
    "    def disp(self): #parent class\n",
    "        print(\"oiuewfdsjeroj\")\n",
    "class B(A): #child class\n",
    "    pass\n",
    "obj = B()\n",
    "obj.disp()\n",
    "\n",
    "#Class B inherits class A hence the function disp () becomes part of class B’s definition. \n",
    "#Hence disp() method is properly executed and the line is printed."
   ]
  },
  {
   "cell_type": "code",
   "execution_count": null,
   "metadata": {},
   "outputs": [],
   "source": [
    "Inheritance is a powerful feature in object oriented programming.\n",
    "It refers to defining a new class with little or no modification to an existing class. \n",
    "The new class is called derived (or child) class and the one from which it inherits is called the base (or parent) class."
   ]
  },
  {
   "cell_type": "markdown",
   "metadata": {},
   "source": [
    "# Date Time Modules"
   ]
  },
  {
   "cell_type": "code",
   "execution_count": 5,
   "metadata": {},
   "outputs": [
    {
     "name": "stdout",
     "output_type": "stream",
     "text": [
      "2030-07-24\n"
     ]
    }
   ],
   "source": [
    "import datetime\n",
    "d=datetime.date(2030,7,24)\n",
    "print(d)\n",
    "\n",
    "#we are simply printing the date entered by us. We enter the date in the format: yyyy,m,dd. \n",
    "#The date is then printed in the format: yyyy-mm-dd. Hence the output is: 2017-07-24."
   ]
  },
  {
   "cell_type": "code",
   "execution_count": null,
   "metadata": {},
   "outputs": [],
   "source": [
    "#yyyy,mm,dd"
   ]
  },
  {
   "cell_type": "code",
   "execution_count": 14,
   "metadata": {},
   "outputs": [
    {
     "name": "stdout",
     "output_type": "stream",
     "text": [
      "2017-12-18\n"
     ]
    }
   ],
   "source": [
    "import datetime\n",
    "d=datetime.date(2017,12,18)\n",
    "print(d)\n",
    "\n",
    "#The code shown above will result in an error because of the format of the date entered. \n",
    "#Had the date been entered as: d=datetime.date(2017,6,18), no error would have been thrown."
   ]
  },
  {
   "cell_type": "code",
   "execution_count": null,
   "metadata": {},
   "outputs": [],
   "source": [
    "import datetime\n",
    "d=datetime.date(2017,06,18)\n",
    "print(d)\n"
   ]
  },
  {
   "cell_type": "code",
   "execution_count": 15,
   "metadata": {},
   "outputs": [
    {
     "name": "stdout",
     "output_type": "stream",
     "text": [
      "2020-06-18\n"
     ]
    }
   ],
   "source": [
    "import datetime\n",
    "tday=datetime.date.today()\n",
    "print(tday)\n",
    "\n",
    "#The code shown above prints the system date in the format yyyy-mm-dd. Hence the output of this code is: 2020-06-18."
   ]
  },
  {
   "cell_type": "code",
   "execution_count": 18,
   "metadata": {},
   "outputs": [
    {
     "name": "stdout",
     "output_type": "stream",
     "text": [
      "3\n"
     ]
    }
   ],
   "source": [
    "tday=datetime.date.today()\n",
    "print(tday.weekday())\n",
    "\n",
    "#The code shown above prints an integer depending on which day of the week it is. \n",
    "#Monday-0, Tuesday-1, Wednesday-2, Thursday-3, Friday-4, Saturday-5, Sunday-6. \n",
    "#Hence the output is 3 in the case shown above."
   ]
  },
  {
   "cell_type": "code",
   "execution_count": 22,
   "metadata": {},
   "outputs": [
    {
     "name": "stdout",
     "output_type": "stream",
     "text": [
      "4\n"
     ]
    }
   ],
   "source": [
    "tday=datetime.date.today()\n",
    "print(tday.isoweekday())"
   ]
  },
  {
   "cell_type": "code",
   "execution_count": 19,
   "metadata": {},
   "outputs": [
    {
     "name": "stdout",
     "output_type": "stream",
     "text": [
      "4\n"
     ]
    }
   ],
   "source": [
    "tday=datetime.date.today()\n",
    "print(tday.isoweekday())\n",
    "\n",
    "#This code prints an integer depending on which day of the week it is. \n",
    "#Monday-1, Tuesday-2, Wednesday-3, Thursday-4, Friday-5, Saturday-6, Sunday-7. Hence the output of the code shown above is 3."
   ]
  },
  {
   "cell_type": "code",
   "execution_count": 28,
   "metadata": {},
   "outputs": [
    {
     "name": "stdout",
     "output_type": "stream",
     "text": [
      "194 days, 0:00:00\n"
     ]
    }
   ],
   "source": [
    "hday=datetime.date.today()\n",
    "bday=datetime.date(2020,12,29)\n",
    "RESULT=bday - hday\n",
    "print(RESULT)"
   ]
  },
  {
   "cell_type": "code",
   "execution_count": null,
   "metadata": {},
   "outputs": [],
   "source": [
    "The value returned when we use the function weekday() is ____0_ \n",
    "and that for the function isoweekday() is _____1___ if the system date is 19th June, 2017 (Monday).\n",
    "\n",
    "a) 0,0\n",
    "b) 0,1\n",
    "c) 1,0\n",
    "d) 1,1"
   ]
  },
  {
   "cell_type": "code",
   "execution_count": null,
   "metadata": {},
   "outputs": [],
   "source": [
    "The value returned when we use the function isoweekday() is 1 and that for the function weekday() is 0 if the system date is 18th June, 2020 (Thursday)."
   ]
  },
  {
   "cell_type": "code",
   "execution_count": 33,
   "metadata": {},
   "outputs": [
    {
     "name": "stdout",
     "output_type": "stream",
     "text": [
      "2023-03-15\n"
     ]
    }
   ],
   "source": [
    "tday=datetime.date.today()\n",
    "tdelta=datetime.timedelta(days=1000)\n",
    "print(tday+tdelta)\n",
    "\n",
    "#The code shown above will add the specified number of days to the current date and print the new date. "
   ]
  },
  {
   "cell_type": "markdown",
   "metadata": {},
   "source": [
    "# Message"
   ]
  },
  {
   "cell_type": "code",
   "execution_count": 36,
   "metadata": {},
   "outputs": [
    {
     "name": "stdout",
     "output_type": "stream",
     "text": [
      "Hello Noman\n",
      "    Your Application is accepted for AI\n"
     ]
    }
   ],
   "source": [
    "name = \"Noman\"\n",
    "Class = \"AI\"\n",
    "msg = \"\"\"Hello {}\n",
    "    Your Application is accepted for {}\"\"\".format(name, Class)\n",
    "print(msg)"
   ]
  },
  {
   "cell_type": "code",
   "execution_count": 37,
   "metadata": {},
   "outputs": [
    {
     "name": "stdout",
     "output_type": "stream",
     "text": [
      "Hello Noman\n",
      "    Your Application is accepted for Class\n"
     ]
    }
   ],
   "source": [
    "msg = \"\"\"Hello {a}\n",
    "    Your Application is accepted for {b}\"\"\".format(a=\"Noman\", b=\"Class\")\n",
    "print(msg)"
   ]
  },
  {
   "cell_type": "code",
   "execution_count": 40,
   "metadata": {},
   "outputs": [
    {
     "name": "stdout",
     "output_type": "stream",
     "text": [
      "Hello kjhsdihdius\n",
      "    Your Application is accepted for biuefdhref\n"
     ]
    }
   ],
   "source": [
    "name = \"kjhsdihdius\"\n",
    "Class = \"biuefdhref\"\n",
    "msg = \"\"\"Hello {a}\n",
    "    Your Application is accepted for {b}\"\"\".format(a=name, b=Class)\n",
    "print(msg)"
   ]
  },
  {
   "cell_type": "code",
   "execution_count": 42,
   "metadata": {},
   "outputs": [
    {
     "name": "stdout",
     "output_type": "stream",
     "text": [
      "Your Name:iurfhldfjsoli feoisduj\n",
      "Your Class:iwenfiojdehjidsf\n",
      "Hello iurfhldfjsoli feoisduj\n",
      "    Your Application is accepted for iwenfiojdehjidsf\n"
     ]
    }
   ],
   "source": [
    "name = input((\"Your Name:\"))\n",
    "Class = input((\"Your Class:\"))\n",
    "msg = \"\"\"Hello {a}\n",
    "    Your Application is accepted for {b}\"\"\".format(a=name, b=Class)\n",
    "print(msg)"
   ]
  },
  {
   "cell_type": "code",
   "execution_count": 44,
   "metadata": {},
   "outputs": [],
   "source": [
    "_XClasas = \"djhdij\""
   ]
  },
  {
   "cell_type": "code",
   "execution_count": 45,
   "metadata": {},
   "outputs": [
    {
     "data": {
      "text/plain": [
       "'djhdij'"
      ]
     },
     "execution_count": 45,
     "metadata": {},
     "output_type": "execute_result"
    }
   ],
   "source": [
    "_XClasas"
   ]
  },
  {
   "cell_type": "code",
   "execution_count": null,
   "metadata": {},
   "outputs": [],
   "source": [
    "eDHDHhddhjh23"
   ]
  }
 ],
 "metadata": {
  "kernelspec": {
   "display_name": "Python 3",
   "language": "python",
   "name": "python3"
  },
  "language_info": {
   "codemirror_mode": {
    "name": "ipython",
    "version": 3
   },
   "file_extension": ".py",
   "mimetype": "text/x-python",
   "name": "python",
   "nbconvert_exporter": "python",
   "pygments_lexer": "ipython3",
   "version": "3.7.6"
  }
 },
 "nbformat": 4,
 "nbformat_minor": 4
}
