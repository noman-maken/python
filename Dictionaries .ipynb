{
 "cells": [
  {
   "cell_type": "code",
   "execution_count": 1,
   "metadata": {},
   "outputs": [],
   "source": [
    "emp1 = [\"Noman\", 20, \"Male\", 30000]"
   ]
  },
  {
   "cell_type": "code",
   "execution_count": 2,
   "metadata": {},
   "outputs": [
    {
     "data": {
      "text/plain": [
       "['Noman', 20, 'Male', 30000]"
      ]
     },
     "execution_count": 2,
     "metadata": {},
     "output_type": "execute_result"
    }
   ],
   "source": [
    "emp1"
   ]
  },
  {
   "cell_type": "code",
   "execution_count": 3,
   "metadata": {},
   "outputs": [],
   "source": [
    "emp1 = [[\"emp_Name\", \"age\", \"gender\", \"Salary\"],\n",
    "        [\"Noman\", 20, \"Male\", 30000]\n",
    "       ]"
   ]
  },
  {
   "cell_type": "code",
   "execution_count": 4,
   "metadata": {},
   "outputs": [
    {
     "data": {
      "text/plain": [
       "[['emp_Name', 'age', 'gender', 'Salary'], ['Noman', 20, 'Male', 30000]]"
      ]
     },
     "execution_count": 4,
     "metadata": {},
     "output_type": "execute_result"
    }
   ],
   "source": [
    "emp1"
   ]
  },
  {
   "cell_type": "markdown",
   "metadata": {},
   "source": [
    "Dictionary is a key value pair\n"
   ]
  },
  {
   "cell_type": "code",
   "execution_count": 5,
   "metadata": {},
   "outputs": [],
   "source": [
    "emp = {\"emp_Name\": \"Noman\", \"age\": 20, \"gender\": \"Male\", \"salary\": 30000}"
   ]
  },
  {
   "cell_type": "code",
   "execution_count": 6,
   "metadata": {},
   "outputs": [
    {
     "data": {
      "text/plain": [
       "{'emp_Name': 'Noman', 'age': 20, 'gender': 'Male', 'salary': 30000}"
      ]
     },
     "execution_count": 6,
     "metadata": {},
     "output_type": "execute_result"
    }
   ],
   "source": [
    "emp"
   ]
  },
  {
   "cell_type": "code",
   "execution_count": 7,
   "metadata": {},
   "outputs": [
    {
     "data": {
      "text/plain": [
       "dict"
      ]
     },
     "execution_count": 7,
     "metadata": {},
     "output_type": "execute_result"
    }
   ],
   "source": [
    "type(emp)"
   ]
  },
  {
   "cell_type": "code",
   "execution_count": 8,
   "metadata": {},
   "outputs": [
    {
     "name": "stdout",
     "output_type": "stream",
     "text": [
      "<class 'dict'>\n"
     ]
    }
   ],
   "source": [
    "print(type(emp))"
   ]
  },
  {
   "cell_type": "code",
   "execution_count": 9,
   "metadata": {},
   "outputs": [
    {
     "data": {
      "text/plain": [
       "4"
      ]
     },
     "execution_count": 9,
     "metadata": {},
     "output_type": "execute_result"
    }
   ],
   "source": [
    "len(emp)"
   ]
  },
  {
   "cell_type": "code",
   "execution_count": 10,
   "metadata": {},
   "outputs": [
    {
     "data": {
      "text/plain": [
       "2"
      ]
     },
     "execution_count": 10,
     "metadata": {},
     "output_type": "execute_result"
    }
   ],
   "source": [
    "len(emp1)"
   ]
  },
  {
   "cell_type": "code",
   "execution_count": 11,
   "metadata": {},
   "outputs": [
    {
     "data": {
      "text/plain": [
       "['emp_Name', 'age', 'gender', 'Salary']"
      ]
     },
     "execution_count": 11,
     "metadata": {},
     "output_type": "execute_result"
    }
   ],
   "source": [
    "emp1[0]"
   ]
  },
  {
   "cell_type": "code",
   "execution_count": 12,
   "metadata": {},
   "outputs": [],
   "source": [
    "emp2 = [\"Noman\", 20, \"Male\", 30000]"
   ]
  },
  {
   "cell_type": "code",
   "execution_count": 13,
   "metadata": {},
   "outputs": [
    {
     "data": {
      "text/plain": [
       "{'emp_Name': 'Noman', 'age': 20, 'gender': 'Male', 'salary': 30000}"
      ]
     },
     "execution_count": 13,
     "metadata": {},
     "output_type": "execute_result"
    }
   ],
   "source": [
    "emp"
   ]
  },
  {
   "cell_type": "code",
   "execution_count": 14,
   "metadata": {},
   "outputs": [
    {
     "data": {
      "text/plain": [
       "'Noman'"
      ]
     },
     "execution_count": 14,
     "metadata": {},
     "output_type": "execute_result"
    }
   ],
   "source": [
    "emp2[0]"
   ]
  },
  {
   "cell_type": "code",
   "execution_count": 15,
   "metadata": {},
   "outputs": [
    {
     "data": {
      "text/plain": [
       "4"
      ]
     },
     "execution_count": 15,
     "metadata": {},
     "output_type": "execute_result"
    }
   ],
   "source": [
    "len(emp2)"
   ]
  },
  {
   "cell_type": "code",
   "execution_count": 16,
   "metadata": {},
   "outputs": [
    {
     "data": {
      "text/plain": [
       "{'emp_Name': 'Noman', 'age': 20, 'gender': 'Male', 'salary': 30000}"
      ]
     },
     "execution_count": 16,
     "metadata": {},
     "output_type": "execute_result"
    }
   ],
   "source": [
    "emp"
   ]
  },
  {
   "cell_type": "code",
   "execution_count": 17,
   "metadata": {},
   "outputs": [
    {
     "data": {
      "text/plain": [
       "20"
      ]
     },
     "execution_count": 17,
     "metadata": {},
     "output_type": "execute_result"
    }
   ],
   "source": [
    "emp['age']"
   ]
  },
  {
   "cell_type": "markdown",
   "metadata": {},
   "source": [
    "Dictionary unorderd list hoti ha"
   ]
  },
  {
   "cell_type": "code",
   "execution_count": 18,
   "metadata": {},
   "outputs": [],
   "source": [
    "emp[0] = \"Muhammad Noman Aslam\""
   ]
  },
  {
   "cell_type": "code",
   "execution_count": 19,
   "metadata": {},
   "outputs": [
    {
     "data": {
      "text/plain": [
       "{'emp_Name': 'Noman',\n",
       " 'age': 20,\n",
       " 'gender': 'Male',\n",
       " 'salary': 30000,\n",
       " 0: 'Muhammad Noman Aslam'}"
      ]
     },
     "execution_count": 19,
     "metadata": {},
     "output_type": "execute_result"
    }
   ],
   "source": [
    "emp"
   ]
  },
  {
   "cell_type": "code",
   "execution_count": 20,
   "metadata": {},
   "outputs": [
    {
     "data": {
      "text/plain": [
       "['Noman', 20, 'Male', 30000]"
      ]
     },
     "execution_count": 20,
     "metadata": {},
     "output_type": "execute_result"
    }
   ],
   "source": [
    "emp2"
   ]
  },
  {
   "cell_type": "code",
   "execution_count": 21,
   "metadata": {},
   "outputs": [],
   "source": [
    "emp2[0] = \"Muhammad Noman Aslam\""
   ]
  },
  {
   "cell_type": "code",
   "execution_count": 22,
   "metadata": {},
   "outputs": [
    {
     "data": {
      "text/plain": [
       "['Muhammad Noman Aslam', 20, 'Male', 30000]"
      ]
     },
     "execution_count": 22,
     "metadata": {},
     "output_type": "execute_result"
    }
   ],
   "source": [
    "emp2"
   ]
  },
  {
   "cell_type": "code",
   "execution_count": 23,
   "metadata": {},
   "outputs": [],
   "source": [
    "emp['emp_Name'] = \"Noman\""
   ]
  },
  {
   "cell_type": "code",
   "execution_count": 24,
   "metadata": {},
   "outputs": [
    {
     "data": {
      "text/plain": [
       "{'emp_Name': 'Noman',\n",
       " 'age': 20,\n",
       " 'gender': 'Male',\n",
       " 'salary': 30000,\n",
       " 0: 'Muhammad Noman Aslam'}"
      ]
     },
     "execution_count": 24,
     "metadata": {},
     "output_type": "execute_result"
    }
   ],
   "source": [
    "emp"
   ]
  },
  {
   "cell_type": "code",
   "execution_count": 25,
   "metadata": {},
   "outputs": [],
   "source": [
    "del emp[0]"
   ]
  },
  {
   "cell_type": "code",
   "execution_count": 26,
   "metadata": {},
   "outputs": [
    {
     "data": {
      "text/plain": [
       "{'emp_Name': 'Noman', 'age': 20, 'gender': 'Male', 'salary': 30000}"
      ]
     },
     "execution_count": 26,
     "metadata": {},
     "output_type": "execute_result"
    }
   ],
   "source": [
    "emp"
   ]
  },
  {
   "cell_type": "code",
   "execution_count": 27,
   "metadata": {},
   "outputs": [],
   "source": [
    "emp[\"Job\"] = [\"Web Designer\", \"Web Developer\"]"
   ]
  },
  {
   "cell_type": "code",
   "execution_count": 28,
   "metadata": {},
   "outputs": [
    {
     "data": {
      "text/plain": [
       "{'emp_Name': 'Noman',\n",
       " 'age': 20,\n",
       " 'gender': 'Male',\n",
       " 'salary': 30000,\n",
       " 'Job': ['Web Designer', 'Web Developer']}"
      ]
     },
     "execution_count": 28,
     "metadata": {},
     "output_type": "execute_result"
    }
   ],
   "source": [
    "emp"
   ]
  },
  {
   "cell_type": "code",
   "execution_count": 29,
   "metadata": {},
   "outputs": [
    {
     "data": {
      "text/plain": [
       "['Web Designer', 'Web Developer']"
      ]
     },
     "execution_count": 29,
     "metadata": {},
     "output_type": "execute_result"
    }
   ],
   "source": [
    "emp['Job']"
   ]
  },
  {
   "cell_type": "code",
   "execution_count": 30,
   "metadata": {},
   "outputs": [],
   "source": [
    "emp[\"subordinate\"] = {\"Web Designer\": \"Amjad\", \"Web Developer\": \"Hussain\"}"
   ]
  },
  {
   "cell_type": "code",
   "execution_count": 31,
   "metadata": {},
   "outputs": [
    {
     "data": {
      "text/plain": [
       "{'emp_Name': 'Noman',\n",
       " 'age': 20,\n",
       " 'gender': 'Male',\n",
       " 'salary': 30000,\n",
       " 'Job': ['Web Designer', 'Web Developer'],\n",
       " 'subordinate': {'Web Designer': 'Amjad', 'Web Developer': 'Hussain'}}"
      ]
     },
     "execution_count": 31,
     "metadata": {},
     "output_type": "execute_result"
    }
   ],
   "source": [
    "emp"
   ]
  },
  {
   "cell_type": "code",
   "execution_count": 32,
   "metadata": {},
   "outputs": [],
   "source": [
    "#hum dictory se value bana skte "
   ]
  },
  {
   "cell_type": "code",
   "execution_count": 33,
   "metadata": {},
   "outputs": [],
   "source": [
    "emp[(1,2)] = 7"
   ]
  },
  {
   "cell_type": "code",
   "execution_count": 34,
   "metadata": {},
   "outputs": [
    {
     "data": {
      "text/plain": [
       "{'emp_Name': 'Noman',\n",
       " 'age': 20,\n",
       " 'gender': 'Male',\n",
       " 'salary': 30000,\n",
       " 'Job': ['Web Designer', 'Web Developer'],\n",
       " 'subordinate': {'Web Designer': 'Amjad', 'Web Developer': 'Hussain'},\n",
       " (1, 2): 7}"
      ]
     },
     "execution_count": 34,
     "metadata": {},
     "output_type": "execute_result"
    }
   ],
   "source": [
    "emp"
   ]
  },
  {
   "cell_type": "code",
   "execution_count": 35,
   "metadata": {},
   "outputs": [],
   "source": [
    "#List aur dictionary se key nh bn skti srf tuple se bn skti ha float se bn skti ha "
   ]
  },
  {
   "cell_type": "code",
   "execution_count": 36,
   "metadata": {},
   "outputs": [],
   "source": [
    "del emp[(1,2)]"
   ]
  },
  {
   "cell_type": "code",
   "execution_count": 37,
   "metadata": {
    "scrolled": true
   },
   "outputs": [
    {
     "data": {
      "text/plain": [
       "{'emp_Name': 'Noman',\n",
       " 'age': 20,\n",
       " 'gender': 'Male',\n",
       " 'salary': 30000,\n",
       " 'Job': ['Web Designer', 'Web Developer'],\n",
       " 'subordinate': {'Web Designer': 'Amjad', 'Web Developer': 'Hussain'}}"
      ]
     },
     "execution_count": 37,
     "metadata": {},
     "output_type": "execute_result"
    }
   ],
   "source": [
    "emp"
   ]
  },
  {
   "cell_type": "code",
   "execution_count": 38,
   "metadata": {},
   "outputs": [],
   "source": [
    "emp3 = {'emp_Name': 'Riaz',\n",
    " 'age': 30,\n",
    " 'gender': 'Male',\n",
    " 'salary': 30000,\n",
    " 'Job': ['Web Designer', 'Web Developer'],\n",
    " 'subordinate': {'Web Designer': 'Raza', 'Web Developer': 'Hassan'}}"
   ]
  },
  {
   "cell_type": "code",
   "execution_count": 39,
   "metadata": {},
   "outputs": [
    {
     "data": {
      "text/plain": [
       "{'emp_Name': 'Riaz',\n",
       " 'age': 30,\n",
       " 'gender': 'Male',\n",
       " 'salary': 30000,\n",
       " 'Job': ['Web Designer', 'Web Developer'],\n",
       " 'subordinate': {'Web Designer': 'Raza', 'Web Developer': 'Hassan'}}"
      ]
     },
     "execution_count": 39,
     "metadata": {},
     "output_type": "execute_result"
    }
   ],
   "source": [
    "emp3"
   ]
  },
  {
   "cell_type": "code",
   "execution_count": 40,
   "metadata": {},
   "outputs": [
    {
     "data": {
      "text/plain": [
       "[{'emp_Name': 'Noman',\n",
       "  'age': 20,\n",
       "  'gender': 'Male',\n",
       "  'salary': 30000,\n",
       "  'Job': ['Web Designer', 'Web Developer'],\n",
       "  'subordinate': {'Web Designer': 'Amjad', 'Web Developer': 'Hussain'}}]"
      ]
     },
     "execution_count": 40,
     "metadata": {},
     "output_type": "execute_result"
    }
   ],
   "source": [
    "emp4 = [emp]\n",
    "emp4"
   ]
  },
  {
   "cell_type": "code",
   "execution_count": 41,
   "metadata": {},
   "outputs": [],
   "source": [
    "emp4.append(emp3)"
   ]
  },
  {
   "cell_type": "code",
   "execution_count": 42,
   "metadata": {},
   "outputs": [
    {
     "data": {
      "text/plain": [
       "[{'emp_Name': 'Noman',\n",
       "  'age': 20,\n",
       "  'gender': 'Male',\n",
       "  'salary': 30000,\n",
       "  'Job': ['Web Designer', 'Web Developer'],\n",
       "  'subordinate': {'Web Designer': 'Amjad', 'Web Developer': 'Hussain'}},\n",
       " {'emp_Name': 'Riaz',\n",
       "  'age': 30,\n",
       "  'gender': 'Male',\n",
       "  'salary': 30000,\n",
       "  'Job': ['Web Designer', 'Web Developer'],\n",
       "  'subordinate': {'Web Designer': 'Raza', 'Web Developer': 'Hassan'}}]"
      ]
     },
     "execution_count": 42,
     "metadata": {},
     "output_type": "execute_result"
    }
   ],
   "source": [
    "emp4"
   ]
  },
  {
   "cell_type": "code",
   "execution_count": 43,
   "metadata": {},
   "outputs": [
    {
     "data": {
      "text/plain": [
       "{'emp_Name': 'Noman',\n",
       " 'age': 20,\n",
       " 'gender': 'Male',\n",
       " 'salary': 30000,\n",
       " 'Job': ['Web Designer', 'Web Developer'],\n",
       " 'subordinate': {'Web Designer': 'Amjad', 'Web Developer': 'Hussain'}}"
      ]
     },
     "execution_count": 43,
     "metadata": {},
     "output_type": "execute_result"
    }
   ],
   "source": [
    "emp4[0]"
   ]
  },
  {
   "cell_type": "code",
   "execution_count": 44,
   "metadata": {},
   "outputs": [
    {
     "data": {
      "text/plain": [
       "{'emp_Name': 'Riaz',\n",
       " 'age': 30,\n",
       " 'gender': 'Male',\n",
       " 'salary': 30000,\n",
       " 'Job': ['Web Designer', 'Web Developer'],\n",
       " 'subordinate': {'Web Designer': 'Raza', 'Web Developer': 'Hassan'}}"
      ]
     },
     "execution_count": 44,
     "metadata": {},
     "output_type": "execute_result"
    }
   ],
   "source": [
    "emp4[1]"
   ]
  },
  {
   "cell_type": "code",
   "execution_count": 45,
   "metadata": {},
   "outputs": [
    {
     "data": {
      "text/plain": [
       "{'emp_Name': 'Riaz',\n",
       " 'age': 30,\n",
       " 'gender': 'Male',\n",
       " 'salary': 30000,\n",
       " 'Job': ['Web Designer', 'Web Developer'],\n",
       " 'subordinate': {'Web Designer': 'Raza', 'Web Developer': 'Hassan'}}"
      ]
     },
     "execution_count": 45,
     "metadata": {},
     "output_type": "execute_result"
    }
   ],
   "source": [
    "emp4[1]"
   ]
  },
  {
   "cell_type": "code",
   "execution_count": 46,
   "metadata": {},
   "outputs": [
    {
     "data": {
      "text/plain": [
       "{'emp_Name': 'Noman',\n",
       " 'age': 20,\n",
       " 'gender': 'Male',\n",
       " 'salary': 30000,\n",
       " 'Job': ['Web Designer', 'Web Developer'],\n",
       " 'subordinate': {'Web Designer': 'Amjad', 'Web Developer': 'Hussain'}}"
      ]
     },
     "execution_count": 46,
     "metadata": {},
     "output_type": "execute_result"
    }
   ],
   "source": [
    "emp"
   ]
  },
  {
   "cell_type": "code",
   "execution_count": 47,
   "metadata": {},
   "outputs": [
    {
     "data": {
      "text/plain": [
       "[{'emp_Name': 'Noman',\n",
       "  'age': 20,\n",
       "  'gender': 'Male',\n",
       "  'salary': 30000,\n",
       "  'Job': ['Web Designer', 'Web Developer'],\n",
       "  'subordinate': {'Web Designer': 'Amjad', 'Web Developer': 'Hussain'}},\n",
       " {'emp_Name': 'Riaz',\n",
       "  'age': 30,\n",
       "  'gender': 'Male',\n",
       "  'salary': 30000,\n",
       "  'Job': ['Web Designer', 'Web Developer'],\n",
       "  'subordinate': {'Web Designer': 'Raza', 'Web Developer': 'Hassan'}}]"
      ]
     },
     "execution_count": 47,
     "metadata": {},
     "output_type": "execute_result"
    }
   ],
   "source": [
    "emp4"
   ]
  },
  {
   "cell_type": "code",
   "execution_count": 48,
   "metadata": {},
   "outputs": [
    {
     "data": {
      "text/plain": [
       "{'emp_Name': 'Noman',\n",
       " 'age': 20,\n",
       " 'gender': 'Male',\n",
       " 'salary': 30000,\n",
       " 'Job': ['Web Designer', 'Web Developer'],\n",
       " 'subordinate': {'Web Designer': 'Amjad', 'Web Developer': 'Hussain'}}"
      ]
     },
     "execution_count": 48,
     "metadata": {},
     "output_type": "execute_result"
    }
   ],
   "source": [
    "emp"
   ]
  },
  {
   "cell_type": "code",
   "execution_count": 49,
   "metadata": {},
   "outputs": [
    {
     "data": {
      "text/plain": [
       "{'emp_Name': 'Noman',\n",
       " 'age': 20,\n",
       " 'gender': 'Male',\n",
       " 'salary': 30000,\n",
       " 'Job': ['Web Designer', 'Web Developer'],\n",
       " 'subordinate': {'Web Designer': 'Amjad', 'Web Developer': 'Hussain'}}"
      ]
     },
     "execution_count": 49,
     "metadata": {},
     "output_type": "execute_result"
    }
   ],
   "source": [
    "emp"
   ]
  },
  {
   "cell_type": "code",
   "execution_count": 50,
   "metadata": {},
   "outputs": [
    {
     "name": "stdout",
     "output_type": "stream",
     "text": [
      "emp_Name\n",
      "age\n",
      "gender\n",
      "salary\n",
      "Job\n",
      "subordinate\n"
     ]
    }
   ],
   "source": [
    "for j in emp:\n",
    "    print(j)"
   ]
  },
  {
   "cell_type": "code",
   "execution_count": 51,
   "metadata": {},
   "outputs": [
    {
     "name": "stdout",
     "output_type": "stream",
     "text": [
      "emp_Name Noman\n",
      "age 20\n",
      "gender Male\n",
      "salary 30000\n",
      "Job ['Web Designer', 'Web Developer']\n",
      "subordinate {'Web Designer': 'Amjad', 'Web Developer': 'Hussain'}\n"
     ]
    }
   ],
   "source": [
    "for j in emp:\n",
    "    print(j,emp[j])"
   ]
  },
  {
   "cell_type": "code",
   "execution_count": 52,
   "metadata": {},
   "outputs": [
    {
     "name": "stdout",
     "output_type": "stream",
     "text": [
      "subordinate Noman\n",
      "subordinate 20\n",
      "subordinate Male\n",
      "subordinate 30000\n",
      "subordinate ['Web Designer', 'Web Developer']\n",
      "subordinate {'Web Designer': 'Amjad', 'Web Developer': 'Hussain'}\n"
     ]
    }
   ],
   "source": [
    "for key in emp:\n",
    "    print(j,emp[key])"
   ]
  },
  {
   "cell_type": "code",
   "execution_count": 53,
   "metadata": {},
   "outputs": [
    {
     "name": "stdout",
     "output_type": "stream",
     "text": [
      "emp_Name\n",
      "age\n",
      "gender\n",
      "salary\n",
      "Job\n",
      "subordinate\n"
     ]
    }
   ],
   "source": [
    "for key in emp.keys():\n",
    "    print(key)"
   ]
  },
  {
   "cell_type": "code",
   "execution_count": 54,
   "metadata": {},
   "outputs": [
    {
     "name": "stdout",
     "output_type": "stream",
     "text": [
      "Noman\n",
      "20\n",
      "Male\n",
      "30000\n",
      "['Web Designer', 'Web Developer']\n",
      "{'Web Designer': 'Amjad', 'Web Developer': 'Hussain'}\n"
     ]
    }
   ],
   "source": [
    "for value in emp.values():\n",
    "    print(value)"
   ]
  },
  {
   "cell_type": "code",
   "execution_count": 55,
   "metadata": {},
   "outputs": [
    {
     "name": "stdout",
     "output_type": "stream",
     "text": [
      "('emp_Name', 'Noman')\n",
      "('age', 20)\n",
      "('gender', 'Male')\n",
      "('salary', 30000)\n",
      "('Job', ['Web Designer', 'Web Developer'])\n",
      "('subordinate', {'Web Designer': 'Amjad', 'Web Developer': 'Hussain'})\n"
     ]
    }
   ],
   "source": [
    "for i in emp.items():\n",
    "    print(i)"
   ]
  },
  {
   "cell_type": "code",
   "execution_count": 56,
   "metadata": {},
   "outputs": [
    {
     "name": "stdout",
     "output_type": "stream",
     "text": [
      "emp_Name Noman\n",
      "age 20\n",
      "gender Male\n",
      "salary 30000\n",
      "Job ['Web Designer', 'Web Developer']\n",
      "subordinate {'Web Designer': 'Amjad', 'Web Developer': 'Hussain'}\n"
     ]
    }
   ],
   "source": [
    "for i,j in emp.items():\n",
    "    print(i,j)"
   ]
  },
  {
   "cell_type": "code",
   "execution_count": 57,
   "metadata": {},
   "outputs": [],
   "source": [
    "a,b,c = 1,2,3"
   ]
  },
  {
   "cell_type": "code",
   "execution_count": 58,
   "metadata": {},
   "outputs": [
    {
     "data": {
      "text/plain": [
       "1"
      ]
     },
     "execution_count": 58,
     "metadata": {},
     "output_type": "execute_result"
    }
   ],
   "source": [
    "a"
   ]
  },
  {
   "cell_type": "code",
   "execution_count": 59,
   "metadata": {},
   "outputs": [
    {
     "data": {
      "text/plain": [
       "2"
      ]
     },
     "execution_count": 59,
     "metadata": {},
     "output_type": "execute_result"
    }
   ],
   "source": [
    "b"
   ]
  },
  {
   "cell_type": "code",
   "execution_count": 60,
   "metadata": {},
   "outputs": [
    {
     "data": {
      "text/plain": [
       "3"
      ]
     },
     "execution_count": 60,
     "metadata": {},
     "output_type": "execute_result"
    }
   ],
   "source": [
    "c"
   ]
  },
  {
   "cell_type": "code",
   "execution_count": 61,
   "metadata": {},
   "outputs": [
    {
     "data": {
      "text/plain": [
       "{'emp_Name': 'Noman',\n",
       " 'age': 20,\n",
       " 'gender': 'Male',\n",
       " 'salary': 30000,\n",
       " 'Job': ['Web Designer', 'Web Developer'],\n",
       " 'subordinate': {'Web Designer': 'Amjad', 'Web Developer': 'Hussain'}}"
      ]
     },
     "execution_count": 61,
     "metadata": {},
     "output_type": "execute_result"
    }
   ],
   "source": [
    "emp"
   ]
  },
  {
   "cell_type": "code",
   "execution_count": 62,
   "metadata": {},
   "outputs": [
    {
     "data": {
      "text/plain": [
       "[{'emp_Name': 'Noman',\n",
       "  'age': 20,\n",
       "  'gender': 'Male',\n",
       "  'salary': 30000,\n",
       "  'Job': ['Web Designer', 'Web Developer'],\n",
       "  'subordinate': {'Web Designer': 'Amjad', 'Web Developer': 'Hussain'}},\n",
       " {'emp_Name': 'Riaz',\n",
       "  'age': 30,\n",
       "  'gender': 'Male',\n",
       "  'salary': 30000,\n",
       "  'Job': ['Web Designer', 'Web Developer'],\n",
       "  'subordinate': {'Web Designer': 'Raza', 'Web Developer': 'Hassan'}}]"
      ]
     },
     "execution_count": 62,
     "metadata": {},
     "output_type": "execute_result"
    }
   ],
   "source": [
    "emp4"
   ]
  },
  {
   "cell_type": "code",
   "execution_count": 63,
   "metadata": {},
   "outputs": [
    {
     "data": {
      "text/plain": [
       "'Hassan'"
      ]
     },
     "execution_count": 63,
     "metadata": {},
     "output_type": "execute_result"
    }
   ],
   "source": [
    "emp4[1]['subordinate']['Web Developer']"
   ]
  },
  {
   "cell_type": "code",
   "execution_count": 64,
   "metadata": {},
   "outputs": [],
   "source": [
    "emp4[0]['Job'].append(\"AI\")"
   ]
  },
  {
   "cell_type": "code",
   "execution_count": 65,
   "metadata": {},
   "outputs": [
    {
     "data": {
      "text/plain": [
       "[{'emp_Name': 'Noman',\n",
       "  'age': 20,\n",
       "  'gender': 'Male',\n",
       "  'salary': 30000,\n",
       "  'Job': ['Web Designer', 'Web Developer', 'AI'],\n",
       "  'subordinate': {'Web Designer': 'Amjad', 'Web Developer': 'Hussain'}},\n",
       " {'emp_Name': 'Riaz',\n",
       "  'age': 30,\n",
       "  'gender': 'Male',\n",
       "  'salary': 30000,\n",
       "  'Job': ['Web Designer', 'Web Developer'],\n",
       "  'subordinate': {'Web Designer': 'Raza', 'Web Developer': 'Hassan'}}]"
      ]
     },
     "execution_count": 65,
     "metadata": {},
     "output_type": "execute_result"
    }
   ],
   "source": [
    "emp4"
   ]
  },
  {
   "cell_type": "code",
   "execution_count": 66,
   "metadata": {},
   "outputs": [],
   "source": [
    "emp4[0]['emp_Name'] = \"Muhammad Noman Aslam Maken\""
   ]
  },
  {
   "cell_type": "code",
   "execution_count": 67,
   "metadata": {},
   "outputs": [
    {
     "data": {
      "text/plain": [
       "{'emp_Name': 'Muhammad Noman Aslam Maken',\n",
       " 'age': 20,\n",
       " 'gender': 'Male',\n",
       " 'salary': 30000,\n",
       " 'Job': ['Web Designer', 'Web Developer', 'AI'],\n",
       " 'subordinate': {'Web Designer': 'Amjad', 'Web Developer': 'Hussain'}}"
      ]
     },
     "execution_count": 67,
     "metadata": {},
     "output_type": "execute_result"
    }
   ],
   "source": [
    "emp"
   ]
  },
  {
   "cell_type": "code",
   "execution_count": 68,
   "metadata": {},
   "outputs": [
    {
     "data": {
      "text/plain": [
       "{'emp_Name': 'Muhammad Noman Aslam Maken',\n",
       " 'age': 20,\n",
       " 'gender': 'Male',\n",
       " 'salary': 30000,\n",
       " 'Job': ['Web Designer', 'Web Developer', 'AI'],\n",
       " 'subordinate': {'Web Designer': 'Amjad', 'Web Developer': 'Hussain'}}"
      ]
     },
     "execution_count": 68,
     "metadata": {},
     "output_type": "execute_result"
    }
   ],
   "source": [
    "emp"
   ]
  },
  {
   "cell_type": "code",
   "execution_count": 69,
   "metadata": {},
   "outputs": [
    {
     "data": {
      "text/plain": [
       "[['emp_Name', 'age', 'gender', 'Salary'], ['Noman', 20, 'Male', 30000]]"
      ]
     },
     "execution_count": 69,
     "metadata": {},
     "output_type": "execute_result"
    }
   ],
   "source": [
    "emp1"
   ]
  },
  {
   "cell_type": "code",
   "execution_count": 70,
   "metadata": {},
   "outputs": [
    {
     "data": {
      "text/plain": [
       "[{'emp_Name': 'Muhammad Noman Aslam Maken',\n",
       "  'age': 20,\n",
       "  'gender': 'Male',\n",
       "  'salary': 30000,\n",
       "  'Job': ['Web Designer', 'Web Developer', 'AI'],\n",
       "  'subordinate': {'Web Designer': 'Amjad', 'Web Developer': 'Hussain'}},\n",
       " {'emp_Name': 'Riaz',\n",
       "  'age': 30,\n",
       "  'gender': 'Male',\n",
       "  'salary': 30000,\n",
       "  'Job': ['Web Designer', 'Web Developer'],\n",
       "  'subordinate': {'Web Designer': 'Raza', 'Web Developer': 'Hassan'}}]"
      ]
     },
     "execution_count": 70,
     "metadata": {},
     "output_type": "execute_result"
    }
   ],
   "source": [
    "emp4"
   ]
  },
  {
   "cell_type": "code",
   "execution_count": 71,
   "metadata": {},
   "outputs": [
    {
     "data": {
      "text/plain": [
       "{'emp_Name': 'Muhammad Noman Aslam Maken',\n",
       " 'age': 20,\n",
       " 'gender': 'Male',\n",
       " 'salary': 30000,\n",
       " 'Job': ['Web Designer', 'Web Developer', 'AI'],\n",
       " 'subordinate': {'Web Designer': 'Amjad', 'Web Developer': 'Hussain'}}"
      ]
     },
     "execution_count": 71,
     "metadata": {},
     "output_type": "execute_result"
    }
   ],
   "source": [
    "emp"
   ]
  },
  {
   "cell_type": "code",
   "execution_count": 72,
   "metadata": {},
   "outputs": [
    {
     "data": {
      "text/plain": [
       "[['emp_Name', 'age', 'gender', 'Salary'], ['Noman', 20, 'Male', 30000]]"
      ]
     },
     "execution_count": 72,
     "metadata": {},
     "output_type": "execute_result"
    }
   ],
   "source": [
    "emp1"
   ]
  },
  {
   "cell_type": "code",
   "execution_count": 73,
   "metadata": {},
   "outputs": [
    {
     "data": {
      "text/plain": [
       "{'emp_Name': 'Riaz',\n",
       " 'age': 30,\n",
       " 'gender': 'Male',\n",
       " 'salary': 30000,\n",
       " 'Job': ['Web Designer', 'Web Developer'],\n",
       " 'subordinate': {'Web Designer': 'Raza', 'Web Developer': 'Hassan'}}"
      ]
     },
     "execution_count": 73,
     "metadata": {},
     "output_type": "execute_result"
    }
   ],
   "source": [
    "emp3"
   ]
  },
  {
   "cell_type": "code",
   "execution_count": 74,
   "metadata": {},
   "outputs": [
    {
     "data": {
      "text/plain": [
       "['Muhammad Noman Aslam', 20, 'Male', 30000]"
      ]
     },
     "execution_count": 74,
     "metadata": {},
     "output_type": "execute_result"
    }
   ],
   "source": [
    "emp2"
   ]
  },
  {
   "cell_type": "code",
   "execution_count": 75,
   "metadata": {},
   "outputs": [],
   "source": [
    "emp5 = [emp3]"
   ]
  },
  {
   "cell_type": "code",
   "execution_count": 76,
   "metadata": {},
   "outputs": [
    {
     "data": {
      "text/plain": [
       "[{'emp_Name': 'Riaz',\n",
       "  'age': 30,\n",
       "  'gender': 'Male',\n",
       "  'salary': 30000,\n",
       "  'Job': ['Web Designer', 'Web Developer'],\n",
       "  'subordinate': {'Web Designer': 'Raza', 'Web Developer': 'Hassan'}}]"
      ]
     },
     "execution_count": 76,
     "metadata": {},
     "output_type": "execute_result"
    }
   ],
   "source": [
    "emp5"
   ]
  },
  {
   "cell_type": "code",
   "execution_count": 77,
   "metadata": {},
   "outputs": [],
   "source": [
    "emp5.append({'emp_Name': 'Hammad',\n",
    "  'age': 30,\n",
    "  'gender': 'Male',\n",
    "  'salary': 30000,\n",
    "  'Job': ['Web Designer', 'Web Developer'],\n",
    "  'subordinate': {'Web Designer': 'Ahsan', 'Web Developer': 'Farhan'}})"
   ]
  },
  {
   "cell_type": "code",
   "execution_count": 78,
   "metadata": {},
   "outputs": [
    {
     "data": {
      "text/plain": [
       "[{'emp_Name': 'Riaz',\n",
       "  'age': 30,\n",
       "  'gender': 'Male',\n",
       "  'salary': 30000,\n",
       "  'Job': ['Web Designer', 'Web Developer'],\n",
       "  'subordinate': {'Web Designer': 'Raza', 'Web Developer': 'Hassan'}},\n",
       " {'emp_Name': 'Hammad',\n",
       "  'age': 30,\n",
       "  'gender': 'Male',\n",
       "  'salary': 30000,\n",
       "  'Job': ['Web Designer', 'Web Developer'],\n",
       "  'subordinate': {'Web Designer': 'Ahsan', 'Web Developer': 'Farhan'}}]"
      ]
     },
     "execution_count": 78,
     "metadata": {},
     "output_type": "execute_result"
    }
   ],
   "source": [
    "emp5"
   ]
  },
  {
   "cell_type": "code",
   "execution_count": null,
   "metadata": {},
   "outputs": [],
   "source": []
  }
 ],
 "metadata": {
  "kernelspec": {
   "display_name": "Python 3",
   "language": "python",
   "name": "python3"
  },
  "language_info": {
   "codemirror_mode": {
    "name": "ipython",
    "version": 3
   },
   "file_extension": ".py",
   "mimetype": "text/x-python",
   "name": "python",
   "nbconvert_exporter": "python",
   "pygments_lexer": "ipython3",
   "version": "3.7.6"
  }
 },
 "nbformat": 4,
 "nbformat_minor": 2
}
