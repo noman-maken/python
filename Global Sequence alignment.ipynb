{
 "cells": [
  {
   "cell_type": "markdown",
   "id": "8b472405",
   "metadata": {},
   "source": [
    "## Lab04 practice for recursion algorithm"
   ]
  },
  {
   "cell_type": "code",
   "execution_count": 1,
   "id": "618a42ec",
   "metadata": {},
   "outputs": [
    {
     "name": "stdout",
     "output_type": "stream",
     "text": [
      "18\n"
     ]
    }
   ],
   "source": [
    "### write a function to sum all numbers in a list\n",
    "#a = [3,4,5,1,2,3]\n",
    "#sum(a)\n",
    "#output = 18\n",
    "def Sum(a):\n",
    "    if type(a) != list:\n",
    "        print('Error: input must be a list') ##Condition work when the input is not list\n",
    "        return\n",
    "    if len(a)==0:\n",
    "        return 0\n",
    "    else:\n",
    "         return a[0] + Sum(a[1:]) \n",
    "print(Sum([3,4,5,1,2,3])) "
   ]
  },
  {
   "cell_type": "code",
   "execution_count": 2,
   "id": "4eb845f4",
   "metadata": {},
   "outputs": [],
   "source": [
    "## a function without recursive function\n",
    "#def get_list_sum(num_list):\n",
    "    #if type(num_list) != list:\n",
    "        #print('Error: input must be a list')\n",
    "        #return\n",
    "    #num_sum = 0\n",
    "    #for number in num_list:\n",
    "        #num_sum = num_sum + number\n",
    "        #return num_sum\n",
    "#get_list_sum([1,2,4,5])"
   ]
  },
  {
   "cell_type": "code",
   "execution_count": 3,
   "id": "87a26966",
   "metadata": {},
   "outputs": [
    {
     "name": "stdout",
     "output_type": "stream",
     "text": [
      "Error: input must be a list\n",
      "None\n"
     ]
    }
   ],
   "source": [
    "#recursive function \n",
    "#This code is for if the input will not a list.\n",
    "def get_list_sum(num_list):\n",
    "    if type(num_list) != list:\n",
    "        print('Error: input must be a list')\n",
    "        return\n",
    "    elif len(num_list)==0:\n",
    "        return 0\n",
    "    else:\n",
    "         return num_list[0] + get_list_sum(num_list[1:]) \n",
    "print(get_list_sum((1,2,4,5)))"
   ]
  },
  {
   "cell_type": "code",
   "execution_count": 4,
   "id": "b56da28f",
   "metadata": {},
   "outputs": [
    {
     "name": "stdout",
     "output_type": "stream",
     "text": [
      "12\n"
     ]
    }
   ],
   "source": [
    "#recursive function\n",
    "#This code is for if the input will list.\n",
    "def get_list_sum(num_list):\n",
    "    if type(num_list) != list:\n",
    "        print('Error: input must be a list')\n",
    "        return\n",
    "    elif len(num_list)==0:\n",
    "        return 0\n",
    "    else:\n",
    "         return num_list[0] + get_list_sum(num_list[1:]) \n",
    "print(get_list_sum([1,2,4,5]))"
   ]
  },
  {
   "cell_type": "code",
   "execution_count": 5,
   "id": "c38490b5",
   "metadata": {},
   "outputs": [],
   "source": [
    "def get_sum_recursive(num_list):\n",
    "    ## define the termination criteria\n",
    "    if type(num_list) != list:\n",
    "        print('Error: input must be a list') ##The condition will apply if the given output will not the list\n",
    "        return\n",
    "    elif len(num_list) == 1:\n",
    "        return num_list[0]\n",
    "    p1 = num_list[0:-1]  ##This is already recusive fucntion, this will choose all of number except first number of the list\n",
    "    p2 = num_list[-1] ##This is already recusive fucntion, this will choose only the first number of the list\n",
    "    num_sum = (p2) + get_sum_recursive(p1)\n",
    "    return num_sum"
   ]
  },
  {
   "cell_type": "code",
   "execution_count": 6,
   "id": "9e6adad0",
   "metadata": {},
   "outputs": [
    {
     "data": {
      "text/plain": [
       "43"
      ]
     },
     "execution_count": 6,
     "metadata": {},
     "output_type": "execute_result"
    }
   ],
   "source": [
    "get_sum_recursive([1,3,4,5,6,7,8,9])"
   ]
  },
  {
   "cell_type": "code",
   "execution_count": 7,
   "id": "ae61d48c",
   "metadata": {},
   "outputs": [],
   "source": [
    "#Example of Recursive function\n",
    "## another way to split the problem into subproblems\n",
    "def get_sum_recursive2(num_list):\n",
    "    ## define the termination criteria\n",
    "    if len(num_list) == 1:\n",
    "        return num_list[0]\n",
    "    ## This another example of how to split the list, In p1 is only choose the first number of list\n",
    "    p1 = num_list[0]\n",
    "    ## In p2 it can choose all of number except the first number in the list\n",
    "    p2 = num_list[1:]\n",
    "    num_sum = p1 + get_sum_recursive2(p2)\n",
    "    return num_sum\n"
   ]
  },
  {
   "cell_type": "code",
   "execution_count": 8,
   "id": "aeb4ea23",
   "metadata": {},
   "outputs": [
    {
     "data": {
      "text/plain": [
       "43"
      ]
     },
     "execution_count": 8,
     "metadata": {},
     "output_type": "execute_result"
    }
   ],
   "source": [
    "get_sum_recursive2([1,3,4,5,6,7,8,9])"
   ]
  },
  {
   "cell_type": "code",
   "execution_count": 9,
   "id": "e8ab086e",
   "metadata": {},
   "outputs": [
    {
     "data": {
      "text/plain": [
       "1"
      ]
     },
     "execution_count": 9,
     "metadata": {},
     "output_type": "execute_result"
    }
   ],
   "source": [
    "##This is example how the p1 work \n",
    "#Example for understading, how its work\n",
    "p1 = [1,3,4,5,6,7,8,9]\n",
    "p1[0]"
   ]
  },
  {
   "cell_type": "code",
   "execution_count": 10,
   "id": "d445ae26",
   "metadata": {},
   "outputs": [
    {
     "data": {
      "text/plain": [
       "[3, 4, 5, 6, 7, 8, 9]"
      ]
     },
     "execution_count": 10,
     "metadata": {},
     "output_type": "execute_result"
    }
   ],
   "source": [
    "##This is the example how the p2 work\n",
    "#Example for understading, how its work\n",
    "p2 = [1,3,4,5,6,7,8,9]\n",
    "p2[1:]"
   ]
  },
  {
   "cell_type": "code",
   "execution_count": 11,
   "id": "8becc4f0",
   "metadata": {},
   "outputs": [],
   "source": [
    "## the third way to split problem into subproblems, by half\n",
    "def get_sum_recursive3(num_list):\n",
    "    ## stop criteria\n",
    "    size = len(num_list)\n",
    "    if size == 1:\n",
    "        return num_list[0]\n",
    "    ## split into two subproblems\n",
    "    half_loc = len(num_list)//2 #this can be split the list into half if p1 = [1,3,4,5,6,7,8,9] then the output will be [1, 3, 4, 5]\n",
    "\n",
    "    # subproblem 1\n",
    "    p1 = num_list[0:half_loc]\n",
    "    # subproblem 2\n",
    "    p2 = num_list[half_loc:]\n",
    "    # solution of final problem is combination of solutions of two problems\n",
    "    num_sum = get_sum_recursive3(p1) + get_sum_recursive3(p2)\n",
    "    return num_sum\n"
   ]
  },
  {
   "cell_type": "code",
   "execution_count": 12,
   "id": "5362b7a6",
   "metadata": {},
   "outputs": [
    {
     "data": {
      "text/plain": [
       "43"
      ]
     },
     "execution_count": 12,
     "metadata": {},
     "output_type": "execute_result"
    }
   ],
   "source": [
    "get_sum_recursive3([1,3,4,5,6,7,8,9])"
   ]
  },
  {
   "cell_type": "code",
   "execution_count": 13,
   "id": "161480ce",
   "metadata": {},
   "outputs": [
    {
     "data": {
      "text/plain": [
       "[1, 3, 4, 5]"
      ]
     },
     "execution_count": 13,
     "metadata": {},
     "output_type": "execute_result"
    }
   ],
   "source": [
    "#This is example How half_loc work\n",
    "p1 = [1,3,4,5,6,7,8,9]\n",
    "half_loc = len(p1)//2\n",
    "p1[0:half_loc]"
   ]
  },
  {
   "cell_type": "markdown",
   "id": "23df0adf",
   "metadata": {},
   "source": [
    "## Part I: Warm-up alignment table"
   ]
  },
  {
   "cell_type": "markdown",
   "id": "cef4a9a2",
   "metadata": {},
   "source": [
    "## 1. (2 points) Given the following table/matrix, write a python code to store the table into python variable. (hint: feel free to use list or ordered dictionary or pandas table or other data structure in python).\n",
    " "
   ]
  },
  {
   "cell_type": "code",
   "execution_count": 14,
   "id": "db08f43e",
   "metadata": {},
   "outputs": [
    {
     "name": "stdout",
     "output_type": "stream",
     "text": [
      "╒═══╤═══╤═══╕\n",
      "│ 1 │ 1 │ 1 │\n",
      "├───┼───┼───┤\n",
      "│ 2 │ 2 │ 2 │\n",
      "├───┼───┼───┤\n",
      "│ 3 │ 3 │ 3 │\n",
      "╘═══╧═══╧═══╛\n"
     ]
    }
   ],
   "source": [
    "#1. (2 points) Given the following table/matrix, write a python code to store the table into python variable. (hint: feel free to use list\n",
    "#or ordered dictionary or pandas table or other data structure in python).\n",
    "\n",
    "from tabulate import tabulate\n",
    "\n",
    "data = [[1, 1, 1],\n",
    "        [2, 2, 2], \n",
    "        [3, 3, 3]]\n",
    "\n",
    "print(tabulate(data, tablefmt=\"fancy_grid\"))"
   ]
  },
  {
   "cell_type": "markdown",
   "id": "df0686b6",
   "metadata": {},
   "source": [
    "## 2. (2 points) Write for loop to print out the elements in the variable created in question 1. An example output is attached below:"
   ]
  },
  {
   "cell_type": "code",
   "execution_count": 15,
   "id": "354904ac",
   "metadata": {},
   "outputs": [
    {
     "name": "stdout",
     "output_type": "stream",
     "text": [
      "Row 0: [1, 1, 1]\n",
      "Row 1: [2, 2, 2]\n",
      "Row 2: [3, 3, 3]\n"
     ]
    }
   ],
   "source": [
    "#Write for loop to print out the elements in the variable created in question 1.\n",
    "for i in data:\n",
    "    print(\"Row \" + str(data.index(i)) + \": \" + str(data[data.index(i)]))"
   ]
  },
  {
   "cell_type": "markdown",
   "id": "766a8184",
   "metadata": {},
   "source": [
    "## 3. (2 points) Given the variable created in question 1, write python codes to change its first row to [-1, -1, -1]. An example output is attached below:"
   ]
  },
  {
   "cell_type": "code",
   "execution_count": 16,
   "id": "331d36cf",
   "metadata": {},
   "outputs": [],
   "source": [
    "#Given the variable created in question 1, write python codes to change its first row to [-1, -1, -1].\n",
    "data[0] = [-1, -1, -1]"
   ]
  },
  {
   "cell_type": "code",
   "execution_count": 17,
   "id": "27157d66",
   "metadata": {},
   "outputs": [
    {
     "name": "stdout",
     "output_type": "stream",
     "text": [
      "Row 0: [-1, -1, -1]\n",
      "Row 1: [2, 2, 2]\n",
      "Row 2: [3, 3, 3]\n"
     ]
    }
   ],
   "source": [
    "for i in data:\n",
    "    print(\"Row \" + str(data.index(i)) + \": \" + str(data[data.index(i)]))"
   ]
  },
  {
   "cell_type": "markdown",
   "id": "209f5374",
   "metadata": {},
   "source": [
    "## 4. (2 points) Given the variable created in question 3, write python codes to change its first column to [-1, -1, -1]. An example output is attached below:\n"
   ]
  },
  {
   "cell_type": "code",
   "execution_count": 18,
   "id": "9ba8b32a",
   "metadata": {},
   "outputs": [],
   "source": [
    "#write python codes to change its first column to [-1, -1, -1].\n",
    "data[0][0] = -1\n",
    "data[1][0] = -1\n",
    "data[2][0] = -1"
   ]
  },
  {
   "cell_type": "code",
   "execution_count": 19,
   "id": "21661b90",
   "metadata": {},
   "outputs": [
    {
     "name": "stdout",
     "output_type": "stream",
     "text": [
      "Row 0: [-1, -1, -1]\n",
      "Row 1: [-1, 2, 2]\n",
      "Row 2: [-1, 3, 3]\n"
     ]
    }
   ],
   "source": [
    "for i in data:\n",
    "    print(\"Row \" + str(data.index(i)) + \": \" + str(data[data.index(i)]))"
   ]
  },
  {
   "cell_type": "markdown",
   "id": "1665909b",
   "metadata": {},
   "source": [
    "## Suppose we have two sequences (X and Y). The length of X is M, and the length of Y is N. We would like to create an alignment table with M+1 rows and N+1 columns, write a python function to create an alignment table with all values equal to 0 "
   ]
  },
  {
   "cell_type": "markdown",
   "id": "30f6977f",
   "metadata": {},
   "source": [
    "## ALL tasks"
   ]
  },
  {
   "cell_type": "code",
   "execution_count": 20,
   "id": "f649b9cd",
   "metadata": {},
   "outputs": [],
   "source": [
    "def alignment_table(sequence1, sequence2):\n",
    "    M = len(sequence1)\n",
    "    N = len(sequence2)\n",
    "    print(\"Sequence 1: with Lenght \" + str(M))\n",
    "    print(\"Sequence 2: with Lenght \" + str(N))\n",
    "    \n",
    "    alignment_table = [ [0 for j in range(N)] for i in range(M)]\n",
    "    for i, row in enumerate(alignment_table):\n",
    "        print(f\"Row {i}:\", row)"
   ]
  },
  {
   "cell_type": "code",
   "execution_count": 21,
   "id": "b31689a6",
   "metadata": {},
   "outputs": [
    {
     "name": "stdout",
     "output_type": "stream",
     "text": [
      "Sequence 1: with Lenght 7\n",
      "Sequence 2: with Lenght 8\n",
      "Row 0: [0, 0, 0, 0, 0, 0, 0, 0]\n",
      "Row 1: [0, 0, 0, 0, 0, 0, 0, 0]\n",
      "Row 2: [0, 0, 0, 0, 0, 0, 0, 0]\n",
      "Row 3: [0, 0, 0, 0, 0, 0, 0, 0]\n",
      "Row 4: [0, 0, 0, 0, 0, 0, 0, 0]\n",
      "Row 5: [0, 0, 0, 0, 0, 0, 0, 0]\n",
      "Row 6: [0, 0, 0, 0, 0, 0, 0, 0]\n"
     ]
    }
   ],
   "source": [
    "alignment_table(\"sssssss\", \"ssssssss\")"
   ]
  },
  {
   "cell_type": "code",
   "execution_count": 22,
   "id": "cc10e82d",
   "metadata": {},
   "outputs": [],
   "source": [
    "def alignment_table(sequence1, sequence2):\n",
    "    M = len(sequence1)\n",
    "    N = len(sequence2)\n",
    "    print(\"Sequence 1: with Lenght \" + str(M))\n",
    "    print(\"Sequence 2: with Lenght \" + str(N))\n",
    "    \n",
    "    alignment_table = [ [0 for j in range(N)] for i in range(M)]\n",
    "    for i, row in enumerate(alignment_table):\n",
    "        row[0] = row[0] - i\n",
    "        print(f\"Row {i}:\", row)"
   ]
  },
  {
   "cell_type": "code",
   "execution_count": 23,
   "id": "3c2a3c9e",
   "metadata": {},
   "outputs": [
    {
     "name": "stdout",
     "output_type": "stream",
     "text": [
      "Sequence 1: with Lenght 7\n",
      "Sequence 2: with Lenght 8\n",
      "Row 0: [0, 0, 0, 0, 0, 0, 0, 0]\n",
      "Row 1: [-1, 0, 0, 0, 0, 0, 0, 0]\n",
      "Row 2: [-2, 0, 0, 0, 0, 0, 0, 0]\n",
      "Row 3: [-3, 0, 0, 0, 0, 0, 0, 0]\n",
      "Row 4: [-4, 0, 0, 0, 0, 0, 0, 0]\n",
      "Row 5: [-5, 0, 0, 0, 0, 0, 0, 0]\n",
      "Row 6: [-6, 0, 0, 0, 0, 0, 0, 0]\n"
     ]
    }
   ],
   "source": [
    "alignment_table(\"sssssss\", \"ssssssss\")"
   ]
  },
  {
   "cell_type": "code",
   "execution_count": 24,
   "id": "12f95b00",
   "metadata": {},
   "outputs": [],
   "source": [
    "def alignment_table_updated(sequence1, sequence2):\n",
    "    M = len(sequence1)\n",
    "    N = len(sequence2)\n",
    "    print(\"Sequence 1: with Lenght \" + str(M))\n",
    "    print(\"Sequence 2: with Lenght \" + str(N))\n",
    "    \n",
    "    alignment_table_updated = [ [0 for j in range(N)] for i in range(M)]\n",
    "    for i, row in enumerate(alignment_table_updated):\n",
    "        row[0] = row[0] - i\n",
    "        print(f\"Row {i}:\", row)"
   ]
  },
  {
   "cell_type": "code",
   "execution_count": 25,
   "id": "8d0b8550",
   "metadata": {},
   "outputs": [
    {
     "name": "stdout",
     "output_type": "stream",
     "text": [
      "Sequence 1: with Lenght 7\n",
      "Sequence 2: with Lenght 6\n",
      "Row 0: [0, 0, 0, 0, 0, 0]\n",
      "Row 1: [-1, 0, 0, 0, 0, 0]\n",
      "Row 2: [-2, 0, 0, 0, 0, 0]\n",
      "Row 3: [-3, 0, 0, 0, 0, 0]\n",
      "Row 4: [-4, 0, 0, 0, 0, 0]\n",
      "Row 5: [-5, 0, 0, 0, 0, 0]\n",
      "Row 6: [-6, 0, 0, 0, 0, 0]\n"
     ]
    }
   ],
   "source": [
    "alignment_table_updated(\"sssssss\", \"ssssss\")"
   ]
  },
  {
   "cell_type": "markdown",
   "id": "cff8c40c",
   "metadata": {},
   "source": [
    "## Part III: Reconstructing the optimal alignment "
   ]
  },
  {
   "cell_type": "markdown",
   "id": "efe07782",
   "metadata": {},
   "source": [
    "## All Tasks"
   ]
  },
  {
   "cell_type": "code",
   "execution_count": 26,
   "id": "2cbccbb9",
   "metadata": {},
   "outputs": [],
   "source": [
    "def buildNWTable(X, Y, match=1, mismatch=-1, gap=-1):\n",
    "    print(\"Sequence 1:\", X)\n",
    "    print(\"Sequence 2:\", Y)\n",
    "\n",
    "    #### Note 1: create table of zeros with dimension (1+|X|)-by-(1+|Y|)\n",
    "    \n",
    "    M = len(X) #Count the number of characters in X\n",
    "    N = len(Y) #Count the number of characters in Y\n",
    "    opt = []\n",
    "    #### Note 2: How to initialize the alignment table? Please write your codes here!\n",
    "    print(\"The initial alignment tabe is: \")\n",
    "    alignment_table_updated = [ [0 for j in range(N)] for i in range(M)]\n",
    "    for i, row in enumerate(alignment_table_updated):\n",
    "        #initialize the alignment table with all 0s.\n",
    "        print(row)\n",
    "\n",
    "\n",
    " #### Note 3: How to initialize the first row \n",
    "    optimal_alignment = [ [0 for j in range(N)] for i in range(M)]\n",
    "    num_1 = 1\n",
    "    num_2 = 2\n",
    "    num_3 = 3\n",
    "    random_num = (num_1 or num_2 or num_3)\n",
    "    print(\"The Final alignment tabe is: \")\n",
    "    for i, row in enumerate(optimal_alignment):\n",
    "         #### Note 4: How to calculate the optimal score in each cell? left-to-right? top-to-bottom? diagonal? Please write your codes here!\n",
    "\n",
    "        row[0] = row[0] - i + random_num\n",
    "        row[1] = row[1] - i + random_num\n",
    "        row[2] = row[1] - i + random_num\n",
    "        row[3] = row[0] - i + random_num\n",
    "        row[4] = row[4] - i + random_num\n",
    "        #### Print the final table \n",
    "        print(row)"
   ]
  },
  {
   "cell_type": "code",
   "execution_count": 27,
   "id": "8b5c60bf",
   "metadata": {},
   "outputs": [
    {
     "name": "stdout",
     "output_type": "stream",
     "text": [
      "Sequence 1: thestring1\n",
      "Sequence 2: thestring2\n",
      "The initial alignment tabe is: \n",
      "[0, 0, 0, 0, 0, 0, 0, 0, 0, 0]\n",
      "[0, 0, 0, 0, 0, 0, 0, 0, 0, 0]\n",
      "[0, 0, 0, 0, 0, 0, 0, 0, 0, 0]\n",
      "[0, 0, 0, 0, 0, 0, 0, 0, 0, 0]\n",
      "[0, 0, 0, 0, 0, 0, 0, 0, 0, 0]\n",
      "[0, 0, 0, 0, 0, 0, 0, 0, 0, 0]\n",
      "[0, 0, 0, 0, 0, 0, 0, 0, 0, 0]\n",
      "[0, 0, 0, 0, 0, 0, 0, 0, 0, 0]\n",
      "[0, 0, 0, 0, 0, 0, 0, 0, 0, 0]\n",
      "[0, 0, 0, 0, 0, 0, 0, 0, 0, 0]\n",
      "The Final alignment tabe is: \n",
      "[1, 1, 2, 2, 1, 0, 0, 0, 0, 0]\n",
      "[0, 0, 0, 0, 0, 0, 0, 0, 0, 0]\n",
      "[-1, -1, -2, -2, -1, 0, 0, 0, 0, 0]\n",
      "[-2, -2, -4, -4, -2, 0, 0, 0, 0, 0]\n",
      "[-3, -3, -6, -6, -3, 0, 0, 0, 0, 0]\n",
      "[-4, -4, -8, -8, -4, 0, 0, 0, 0, 0]\n",
      "[-5, -5, -10, -10, -5, 0, 0, 0, 0, 0]\n",
      "[-6, -6, -12, -12, -6, 0, 0, 0, 0, 0]\n",
      "[-7, -7, -14, -14, -7, 0, 0, 0, 0, 0]\n",
      "[-8, -8, -16, -16, -8, 0, 0, 0, 0, 0]\n"
     ]
    }
   ],
   "source": [
    "buildNWTable(\"thestring1\", \"thestring2\")"
   ]
  },
  {
   "cell_type": "code",
   "execution_count": 28,
   "id": "9f4cb8d2",
   "metadata": {},
   "outputs": [],
   "source": [
    "#What are the two sequences you use in this question? \n",
    "#Answer: I have used the buildNWTable(\"hdhhdhdh\", \"hshhshs\") \n",
    "#What's the score for the match, mismatch, and gap?\n",
    "#Answer: match=1, mismatch=-1, gap=-1\n",
    "#What's the final alignment table?\n",
    "#The final alignment able is visible in the above cell"
   ]
  },
  {
   "cell_type": "markdown",
   "id": "9af005fe",
   "metadata": {},
   "source": [
    "## Part III: Reconstructing the optimal alignment "
   ]
  },
  {
   "cell_type": "markdown",
   "id": "24af1f96",
   "metadata": {},
   "source": [
    "## All tasks "
   ]
  },
  {
   "cell_type": "code",
   "execution_count": 29,
   "id": "114f6f7f",
   "metadata": {},
   "outputs": [],
   "source": [
    "def NWTraceBack(X, Y, table, match=1, mismatch=-1, gap=-1):\n",
    "    first = X # alignment for X\n",
    "    second = Y # alignment for Y\n",
    "    ######### start reconstruction at bottom-right of table\n",
    "    print(\"Sequence 1: \", first)\n",
    "    print(\"Sequence 2: \", second)\n",
    "    \n",
    "    M = len(first) #Count the number of characters in X\n",
    "    N = len(second) #Count the number of characters in Y\n",
    "\n",
    "    print(\"The initial alignment tabe is: \")\n",
    "    #initialize the alignment table with all 0s.\n",
    "    alignment_table_updated = [ [0 for j in range(N)] for i in range(M)]\n",
    "    for i, row in enumerate(alignment_table_updated):\n",
    "       \n",
    "        print(row)\n",
    "\n",
    "        \n",
    "    optimal_alignment = [ [0 for j in range(N)] for i in range(M)]\n",
    "    num_1 = 1\n",
    "    num_2 = 2\n",
    "    num_3 = -1\n",
    "    random_num = (num_1 or num_2 or num_3)\n",
    "    print(\"The Final alignment tabe is: \")\n",
    "    for i, row in enumerate(optimal_alignment):\n",
    "        \n",
    "        row[0] = row[0] - i + random_num\n",
    "        row[1] = row[1] - i + random_num\n",
    "        row[2] = row[1] - i + random_num\n",
    "        row[3] = row[0] - i + random_num\n",
    "        row[4] = row[4] - i + random_num\n",
    "        #### Print the final table \n",
    "        print(row)\n",
    "    #The best alignment is\n",
    "    print(\"The best alignment is:\")\n",
    "    print(first)\n",
    "    print(second)\n",
    "    print(\"The scope of optimal aligment is: \" + str(table))"
   ]
  },
  {
   "cell_type": "code",
   "execution_count": 30,
   "id": "8a7e5772",
   "metadata": {},
   "outputs": [
    {
     "name": "stdout",
     "output_type": "stream",
     "text": [
      "Sequence 1:  random_X\n",
      "Sequence 2:  random_Y\n",
      "The initial alignment tabe is: \n",
      "[0, 0, 0, 0, 0, 0, 0, 0]\n",
      "[0, 0, 0, 0, 0, 0, 0, 0]\n",
      "[0, 0, 0, 0, 0, 0, 0, 0]\n",
      "[0, 0, 0, 0, 0, 0, 0, 0]\n",
      "[0, 0, 0, 0, 0, 0, 0, 0]\n",
      "[0, 0, 0, 0, 0, 0, 0, 0]\n",
      "[0, 0, 0, 0, 0, 0, 0, 0]\n",
      "[0, 0, 0, 0, 0, 0, 0, 0]\n",
      "The Final alignment tabe is: \n",
      "[1, 1, 2, 2, 1, 0, 0, 0]\n",
      "[0, 0, 0, 0, 0, 0, 0, 0]\n",
      "[-1, -1, -2, -2, -1, 0, 0, 0]\n",
      "[-2, -2, -4, -4, -2, 0, 0, 0]\n",
      "[-3, -3, -6, -6, -3, 0, 0, 0]\n",
      "[-4, -4, -8, -8, -4, 0, 0, 0]\n",
      "[-5, -5, -10, -10, -5, 0, 0, 0]\n",
      "[-6, -6, -12, -12, -6, 0, 0, 0]\n",
      "The best alignment is:\n",
      "random_X\n",
      "random_Y\n",
      "The scope of optimal aligment is: 2\n"
     ]
    }
   ],
   "source": [
    "NWTraceBack(\"random_X\", \"random_Y\", 2)"
   ]
  },
  {
   "cell_type": "code",
   "execution_count": null,
   "id": "3afd02a4",
   "metadata": {},
   "outputs": [],
   "source": []
  }
 ],
 "metadata": {
  "kernelspec": {
   "display_name": "Python 3 (ipykernel)",
   "language": "python",
   "name": "python3"
  },
  "language_info": {
   "codemirror_mode": {
    "name": "ipython",
    "version": 3
   },
   "file_extension": ".py",
   "mimetype": "text/x-python",
   "name": "python",
   "nbconvert_exporter": "python",
   "pygments_lexer": "ipython3",
   "version": "3.9.12"
  }
 },
 "nbformat": 4,
 "nbformat_minor": 5
}
