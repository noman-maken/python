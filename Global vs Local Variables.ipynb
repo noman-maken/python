{
 "cells": [
  {
   "cell_type": "code",
   "execution_count": 1,
   "metadata": {},
   "outputs": [
    {
     "name": "stdout",
     "output_type": "stream",
     "text": [
      "15\n"
     ]
    }
   ],
   "source": [
    "def f1():\n",
    "    x=15\n",
    "    print(x)\n",
    "x=12\n",
    "f1()\n",
    "\n",
    "#In the code shown above, x=15 is a local variable whereas x=12 is a global variable. \n",
    "\n",
    "#Preference is given to local variable over global variable. Hence the output of the code shown above is 15."
   ]
  },
  {
   "cell_type": "markdown",
   "metadata": {},
   "source": [
    "Python supports the creation of anonymous functions at runtime, using a construct called __________\n",
    "a) lambda\n",
    "b) pi\n",
    "c) anonymous\n",
    "d) none of the mentioned\n",
    "\n",
    "Python supports the creation of anonymous functions (i.e. functions that are not bound to a name) at runtime, using a construct called lambda. Lambda functions are restricted to a single expression. They can be used wherever normal functions can be used."
   ]
  },
  {
   "cell_type": "code",
   "execution_count": 15,
   "metadata": {},
   "outputs": [
    {
     "name": "stdout",
     "output_type": "stream",
     "text": [
      "125\n"
     ]
    }
   ],
   "source": [
    "lamb = lambda x: x ** 3\n",
    "print(lamb(5))\n",
    "\n"
   ]
  },
  {
   "cell_type": "markdown",
   "metadata": {},
   "source": [
    " What is a variable defined outside a function referred to as?\n",
    "a) A static variable\n",
    "b) A global variable\n",
    "c) A local variable\n",
    "d) An automatic variable\n",
    "\n",
    "The value of a variable defined outside all function definitions is referred to as a global variable and can be used by multiple functions of the program."
   ]
  },
  {
   "cell_type": "markdown",
   "metadata": {},
   "source": [
    "1. Which of the following data structures is returned by the functions globals() and locals()?\n",
    "a) list\n",
    "b) set\n",
    "c) dictionary\n",
    "d) tuple\n",
    "\n",
    "Both the functions, that is, globals() and locals() return value of the data structure dictionary."
   ]
  },
  {
   "cell_type": "code",
   "execution_count": 16,
   "metadata": {},
   "outputs": [
    {
     "data": {
      "text/plain": [
       "2"
      ]
     },
     "execution_count": 16,
     "metadata": {},
     "output_type": "execute_result"
    }
   ],
   "source": [
    "x=1\n",
    "def cg():\n",
    "    global x\n",
    "    x=x+1\n",
    "cg()\n",
    "x\n",
    "\n",
    "#Since ‘x’ has been declared a global variable, \n",
    "#it can be modified very easily within the function. Hence the output is 2."
   ]
  },
  {
   "cell_type": "markdown",
   "metadata": {},
   "source": [
    "On assigning a value to a variable inside a function, it automatically becomes a global variable.\n",
    "a) True\n",
    "b) False\n",
    "\n",
    " On assigning a value to a variable inside a function, t automatically becomes a local variable. Hence the above statement is false."
   ]
  },
  {
   "cell_type": "code",
   "execution_count": 17,
   "metadata": {},
   "outputs": [
    {
     "name": "stdout",
     "output_type": "stream",
     "text": [
      "25\n"
     ]
    }
   ],
   "source": [
    "a=10\n",
    "globals()['a']=25\n",
    "print(a)\n",
    "\n",
    "#In the code shown above, the value of ‘a’ can be changed by using globals() function. \n",
    "#The dictionary returned is accessed using key of the variable ‘a’ and modified to 25."
   ]
  },
  {
   "cell_type": "code",
   "execution_count": 18,
   "metadata": {},
   "outputs": [
    {
     "data": {
      "text/plain": [
       "1"
      ]
     },
     "execution_count": 18,
     "metadata": {},
     "output_type": "execute_result"
    }
   ],
   "source": [
    "def f(): x=4\n",
    "x=1\n",
    "f()\n",
    "x\n",
    "\n",
    "#In the code shown above, when we call the function f, a new namespace is created. \n",
    "#The assignment x=4 is performed in the local namespace and does not affect the global namespace. \n",
    "#Hence the output is 1."
   ]
  },
  {
   "cell_type": "markdown",
   "metadata": {},
   "source": [
    "______________ returns a dictionary of the module namespace.\n",
    "________________ returns a dictionary of the current namespace\n",
    "\n",
    "The function globals() returns a dictionary of the module namespace, whereas the function locals() returns a dictionary of the current namespace."
   ]
  },
  {
   "cell_type": "code",
   "execution_count": 3,
   "metadata": {},
   "outputs": [
    {
     "name": "stdout",
     "output_type": "stream",
     "text": [
      "13\n"
     ]
    }
   ],
   "source": [
    "def san(x):\n",
    "    print(x+1)\n",
    "x=-2\n",
    "x=4\n",
    "san(12)\n",
    "\n",
    "#The value passed to the function san() is 12. \n",
    "\n",
    "#This value is incremented by one and printed. Hence the output of the code shown above is 13."
   ]
  },
  {
   "cell_type": "code",
   "execution_count": 5,
   "metadata": {},
   "outputs": [
    {
     "name": "stdout",
     "output_type": "stream",
     "text": [
      "x\n"
     ]
    }
   ],
   "source": [
    "def f1():\n",
    "    global x\n",
    "    x+=1\n",
    "    print(x)\n",
    "x=12\n",
    "print(\"x\")\n",
    "\n",
    "#In the code shown above, the variable ‘x’ is declared as global within the function. \n",
    "\n",
    "\n",
    "#Hence the output is ‘x’. Had the variable ‘x’ been a local variable"
   ]
  },
  {
   "cell_type": "markdown",
   "metadata": {},
   "source": [
    " What is the type of each element in sys.argv?\n",
    "a) set\n",
    "b) list\n",
    "c) tuple\n",
    "d) string\n",
    "\n",
    " It is a list of strings."
   ]
  },
  {
   "cell_type": "markdown",
   "metadata": {},
   "source": [
    "What is the length of sys.argv?\n",
    "a) number of arguments\n",
    "b) number of arguments + 1\n",
    "c) number of arguments – 1\n",
    "d) none of the mentioned\n",
    "\n",
    "The first argument is the name of the program itself. Therefore the length of sys.argv is one more than the number arguments."
   ]
  },
  {
   "cell_type": "code",
   "execution_count": 20,
   "metadata": {},
   "outputs": [
    {
     "name": "stdout",
     "output_type": "stream",
     "text": [
      "[1]\n"
     ]
    }
   ],
   "source": [
    "def foo(k):\n",
    "    k[0] = 1\n",
    "q = [0]\n",
    "foo(q)\n",
    "print(q)\n",
    "      \n",
    "#Lists are passed by reference."
   ]
  },
  {
   "cell_type": "code",
   "execution_count": null,
   "metadata": {},
   "outputs": [],
   "source": [
    "How are keyword arguments specified in the function heading?\n",
    "a) one-star followed by a valid identifier\n",
    "b) one underscore followed by a valid identifier\n",
    "c) two stars followed by a valid identifier   (Corect Answer Please read documentation)\n",
    "d) two underscores followed by a valid identifier\n",
    "\n"
   ]
  },
  {
   "cell_type": "code",
   "execution_count": null,
   "metadata": {},
   "outputs": [],
   "source": [
    "How many keyword arguments can be passed to a function in a single function call?\n",
    "a) zero\n",
    "b) one\n",
    "c) zero or more \n",
    "d) one or more\n",
    "\n",
    "\n",
    "Zero keyword arguments may be passed if all the arguments have default values."
   ]
  },
  {
   "cell_type": "code",
   "execution_count": 21,
   "metadata": {},
   "outputs": [
    {
     "name": "stdout",
     "output_type": "stream",
     "text": [
      "3\n",
      "1\n"
     ]
    }
   ],
   "source": [
    "def foo(fname, val):\n",
    "    print(fname(val))\n",
    "foo(max, [1, 2, 3])\n",
    "foo(min, [1, 2, 3])\n",
    "\n",
    "#It is possible to pass function names as arguments to other functions."
   ]
  },
  {
   "cell_type": "code",
   "execution_count": 22,
   "metadata": {},
   "outputs": [
    {
     "name": "stdout",
     "output_type": "stream",
     "text": [
      "1\n"
     ]
    }
   ],
   "source": [
    "def foo():\n",
    "    return total + 1\n",
    "total = 0\n",
    "print(foo())\n",
    "\n",
    "#It is possible to read the value of a global variable directly."
   ]
  },
  {
   "cell_type": "code",
   "execution_count": 23,
   "metadata": {},
   "outputs": [
    {
     "ename": "UnboundLocalError",
     "evalue": "local variable 'total' referenced before assignment",
     "output_type": "error",
     "traceback": [
      "\u001b[0;31m---------------------------------------------------------------------------\u001b[0m",
      "\u001b[0;31mUnboundLocalError\u001b[0m                         Traceback (most recent call last)",
      "\u001b[0;32m<ipython-input-23-cafa2261e774>\u001b[0m in \u001b[0;36m<module>\u001b[0;34m()\u001b[0m\n\u001b[1;32m      3\u001b[0m     \u001b[0;32mreturn\u001b[0m \u001b[0mtotal\u001b[0m\u001b[0;34m\u001b[0m\u001b[0;34m\u001b[0m\u001b[0m\n\u001b[1;32m      4\u001b[0m \u001b[0mtotal\u001b[0m \u001b[0;34m=\u001b[0m \u001b[0;36m0\u001b[0m\u001b[0;34m\u001b[0m\u001b[0;34m\u001b[0m\u001b[0m\n\u001b[0;32m----> 5\u001b[0;31m \u001b[0mprint\u001b[0m\u001b[0;34m(\u001b[0m\u001b[0mfoo\u001b[0m\u001b[0;34m(\u001b[0m\u001b[0;34m)\u001b[0m\u001b[0;34m)\u001b[0m\u001b[0;34m\u001b[0m\u001b[0;34m\u001b[0m\u001b[0m\n\u001b[0m\u001b[1;32m      6\u001b[0m \u001b[0;34m\u001b[0m\u001b[0m\n\u001b[1;32m      7\u001b[0m \u001b[0;34m\u001b[0m\u001b[0m\n",
      "\u001b[0;32m<ipython-input-23-cafa2261e774>\u001b[0m in \u001b[0;36mfoo\u001b[0;34m()\u001b[0m\n\u001b[1;32m      1\u001b[0m \u001b[0;32mdef\u001b[0m \u001b[0mfoo\u001b[0m\u001b[0;34m(\u001b[0m\u001b[0;34m)\u001b[0m\u001b[0;34m:\u001b[0m\u001b[0;34m\u001b[0m\u001b[0;34m\u001b[0m\u001b[0m\n\u001b[0;32m----> 2\u001b[0;31m     \u001b[0mtotal\u001b[0m \u001b[0;34m+=\u001b[0m \u001b[0;36m1\u001b[0m\u001b[0;34m\u001b[0m\u001b[0;34m\u001b[0m\u001b[0m\n\u001b[0m\u001b[1;32m      3\u001b[0m     \u001b[0;32mreturn\u001b[0m \u001b[0mtotal\u001b[0m\u001b[0;34m\u001b[0m\u001b[0;34m\u001b[0m\u001b[0m\n\u001b[1;32m      4\u001b[0m \u001b[0mtotal\u001b[0m \u001b[0;34m=\u001b[0m \u001b[0;36m0\u001b[0m\u001b[0;34m\u001b[0m\u001b[0;34m\u001b[0m\u001b[0m\n\u001b[1;32m      5\u001b[0m \u001b[0mprint\u001b[0m\u001b[0;34m(\u001b[0m\u001b[0mfoo\u001b[0m\u001b[0;34m(\u001b[0m\u001b[0;34m)\u001b[0m\u001b[0;34m)\u001b[0m\u001b[0;34m\u001b[0m\u001b[0;34m\u001b[0m\u001b[0m\n",
      "\u001b[0;31mUnboundLocalError\u001b[0m: local variable 'total' referenced before assignment"
     ]
    }
   ],
   "source": [
    "def foo():\n",
    "    total += 1\n",
    "    return total\n",
    "total = 0\n",
    "print(foo())\n",
    "\n",
    "\n",
    "#Error It is not possible to change the value of a global variable without explicitly specifying it."
   ]
  },
  {
   "cell_type": "code",
   "execution_count": 24,
   "metadata": {},
   "outputs": [
    {
     "name": "stdout",
     "output_type": "stream",
     "text": [
      "False\n"
     ]
    }
   ],
   "source": [
    "def foo(x):\n",
    "    x = ['def', 'abc']\n",
    "    return id(x)\n",
    "q = ['abc', 'def']\n",
    "print(id(q) == foo(q))\n",
    "\n",
    "# A new object is created in the function."
   ]
  },
  {
   "cell_type": "code",
   "execution_count": 25,
   "metadata": {},
   "outputs": [
    {
     "name": "stdout",
     "output_type": "stream",
     "text": [
      "[0]\n",
      "[0, 1]\n",
      "[0, 1, 2]\n"
     ]
    }
   ],
   "source": [
    "def foo(i, x=[]):\n",
    "    x.append(i)\n",
    "    return x\n",
    "for i in range(3):\n",
    "    print(foo(i))\n",
    "    \n",
    "#very imp\n",
    "\n",
    "#When a list is a default value, the same list will be reused."
   ]
  },
  {
   "cell_type": "code",
   "execution_count": null,
   "metadata": {},
   "outputs": [],
   "source": []
  }
 ],
 "metadata": {
  "kernelspec": {
   "display_name": "Python 2",
   "language": "python",
   "name": "python2"
  },
  "language_info": {
   "codemirror_mode": {
    "name": "ipython",
    "version": 3
   },
   "file_extension": ".py",
   "mimetype": "text/x-python",
   "name": "python",
   "nbconvert_exporter": "python",
   "pygments_lexer": "ipython3",
   "version": "3.6.9"
  }
 },
 "nbformat": 4,
 "nbformat_minor": 2
}
