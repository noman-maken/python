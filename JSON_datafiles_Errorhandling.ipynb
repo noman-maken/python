{
 "cells": [
  {
   "cell_type": "code",
   "execution_count": 5,
   "metadata": {},
   "outputs": [],
   "source": [
    "f = open(\"xyz.txt\",\"w\")\n",
    "f.write(\"Any data that you had already submitted will be preserved.\")\n",
    "f.close()"
   ]
  },
  {
   "cell_type": "code",
   "execution_count": 6,
   "metadata": {},
   "outputs": [
    {
     "name": "stdout",
     "output_type": "stream",
     "text": [
      "Any data that you had already submitted will be preserved.\n"
     ]
    }
   ],
   "source": [
    "with open(\"xyz.txt\") as data:\n",
    "    print(data.read())"
   ]
  },
  {
   "cell_type": "code",
   "execution_count": 12,
   "metadata": {},
   "outputs": [],
   "source": [
    "import json"
   ]
  },
  {
   "cell_type": "code",
   "execution_count": 16,
   "metadata": {},
   "outputs": [],
   "source": [
    "alphabet_letters = [\"a\", \"b\", \"c\"]\n",
    "\n",
    "with open(\"new.json\", \"w\") as f:\n",
    "    json.dump(alphabet_letters,f)"
   ]
  },
  {
   "cell_type": "code",
   "execution_count": 17,
   "metadata": {},
   "outputs": [
    {
     "name": "stdout",
     "output_type": "stream",
     "text": [
      "['a', 'b', 'c']\n"
     ]
    }
   ],
   "source": [
    "with open(\"new.json\") as f:\n",
    "    print(json.load(f))"
   ]
  },
  {
   "cell_type": "code",
   "execution_count": 21,
   "metadata": {},
   "outputs": [],
   "source": [
    "customer = {\n",
    "\"First Name\": \"Noman\",\n",
    "\"Last Name\": \"Aslam\",\n",
    "\"Address\": \"Sargodha\",\n",
    "}"
   ]
  },
  {
   "cell_type": "code",
   "execution_count": 22,
   "metadata": {},
   "outputs": [],
   "source": [
    "with open(\"dictionary.json\", \"w\") as f:\n",
    "    json.dump(customer, f)"
   ]
  },
  {
   "cell_type": "code",
   "execution_count": 23,
   "metadata": {},
   "outputs": [],
   "source": [
    "with open(\"dictionary.json\") as f:\n",
    "    dictionary = json.load(f)"
   ]
  },
  {
   "cell_type": "code",
   "execution_count": 24,
   "metadata": {},
   "outputs": [
    {
     "data": {
      "text/plain": [
       "{'First Name': 'Noman', 'Last Name': 'Aslam', 'Address': 'Sargodha'}"
      ]
     },
     "execution_count": 24,
     "metadata": {},
     "output_type": "execute_result"
    }
   ],
   "source": [
    "dictionary"
   ]
  },
  {
   "cell_type": "code",
   "execution_count": 26,
   "metadata": {},
   "outputs": [
    {
     "name": "stdout",
     "output_type": "stream",
     "text": [
      "You Can not divided by zero\n"
     ]
    }
   ],
   "source": [
    "try:\n",
    "    print(5/0)\n",
    "except ZeroDivisionError:\n",
    "    print(\"You Can not divided by zero\")"
   ]
  },
  {
   "cell_type": "code",
   "execution_count": 48,
   "metadata": {},
   "outputs": [
    {
     "name": "stdout",
     "output_type": "stream",
     "text": [
      "2.5\n",
      "['Name', 'Roll Number', 'Class']\n",
      "['Noman', 'PIAIC', 'AI']\n",
      "['Rashid', 'PIAIC11222232', 'AIc']\n",
      "['Rashid', 'PIAIC11222232', 'AIc']\n",
      "['Rashid', 'PIAIC11222232', 'AIc']\n",
      "['Rashid', 'PIAIC737373', 'IOT']\n",
      "['Rashid', 'PAIC7374373737', 'CNC']\n",
      "['Rashid', 'PAIC834883', 'BCC']\n",
      "[]\n"
     ]
    }
   ],
   "source": [
    "try:\n",
    "    print(5/2)\n",
    "    with open(\"noman.csv\") as f:\n",
    "        read = csv.reader(f)\n",
    "        for i in read:\n",
    "            print(i)\n",
    "        print(list(read))\n",
    "except ZeroDivisionError:\n",
    "        print(\"You Can not divided by zero\")\n",
    "except FileNotFoundError:\n",
    "    print(\"Sorry File is not Exit\")\n",
    "except Exception as e:\n",
    "    print(\"You have made any mistake\")"
   ]
  },
  {
   "cell_type": "code",
   "execution_count": 43,
   "metadata": {},
   "outputs": [],
   "source": [
    "import csv"
   ]
  },
  {
   "cell_type": "code",
   "execution_count": 44,
   "metadata": {},
   "outputs": [
    {
     "name": "stdout",
     "output_type": "stream",
     "text": [
      "['Name', 'Roll Number', 'Class']\n",
      "['Noman', 'PIAIC', 'AI']\n",
      "['Rashid', 'PIAIC11222232', 'AIc']\n",
      "['Rashid', 'PIAIC11222232', 'AIc']\n",
      "['Rashid', 'PIAIC11222232', 'AIc']\n",
      "['Rashid', 'PIAIC737373', 'IOT']\n",
      "['Rashid', 'PAIC7374373737', 'CNC']\n",
      "['Rashid', 'PAIC834883', 'BCC']\n"
     ]
    }
   ],
   "source": [
    "with open(\"noman.csv\") as f:\n",
    "        read = csv.reader(f)\n",
    "        for i in read:\n",
    "            print(i)"
   ]
  },
  {
   "cell_type": "code",
   "execution_count": 49,
   "metadata": {},
   "outputs": [
    {
     "name": "stdout",
     "output_type": "stream",
     "text": [
      "[['Name', 'Roll Number', 'Class'], ['Noman', 'PIAIC', 'AI'], ['Rashid', 'PIAIC11222232', 'AIc'], ['Rashid', 'PIAIC11222232', 'AIc'], ['Rashid', 'PIAIC11222232', 'AIc'], ['Rashid', 'PIAIC737373', 'IOT'], ['Rashid', 'PAIC7374373737', 'CNC'], ['Rashid', 'PAIC834883', 'BCC']]\n"
     ]
    }
   ],
   "source": [
    "with open(\"noman.csv\") as f:\n",
    "        read = csv.reader(f)\n",
    "        print(list(read))"
   ]
  },
  {
   "cell_type": "code",
   "execution_count": 55,
   "metadata": {},
   "outputs": [
    {
     "name": "stdout",
     "output_type": "stream",
     "text": [
      "2.5\n"
     ]
    }
   ],
   "source": [
    "try:\n",
    "    a = 5/2\n",
    "except ZeroDivisionError:\n",
    "        print(\"You Can not divided by zero\")\n",
    "except FileNotFoundError:\n",
    "    print(\"Sorry File is not Exit\")\n",
    "except Exception as e:\n",
    "    print(\"You have made any mistake\")\n",
    "else:\n",
    "    print(a)\n"
   ]
  },
  {
   "cell_type": "code",
   "execution_count": null,
   "metadata": {},
   "outputs": [],
   "source": []
  }
 ],
 "metadata": {
  "kernelspec": {
   "display_name": "Python 3",
   "language": "python",
   "name": "python3"
  },
  "language_info": {
   "codemirror_mode": {
    "name": "ipython",
    "version": 3
   },
   "file_extension": ".py",
   "mimetype": "text/x-python",
   "name": "python",
   "nbconvert_exporter": "python",
   "pygments_lexer": "ipython3",
   "version": "3.7.6"
  }
 },
 "nbformat": 4,
 "nbformat_minor": 4
}
