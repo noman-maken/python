{
 "cells": [
  {
   "cell_type": "code",
   "execution_count": 1,
   "metadata": {},
   "outputs": [
    {
     "name": "stdout",
     "output_type": "stream",
     "text": [
      "Hello Muhammad Noman Aslam\n",
      "    Your Application is accepted for Pyhton\n"
     ]
    }
   ],
   "source": [
    "name = \"Muhammad Noman Aslam\"\n",
    "Class = \"Pyhton\"\n",
    "msg = \"\"\"Hello {}\n",
    "    Your Application is accepted for {}\"\"\".format(name, Class)\n",
    "print(msg)"
   ]
  },
  {
   "cell_type": "code",
   "execution_count": 2,
   "metadata": {},
   "outputs": [
    {
     "name": "stdout",
     "output_type": "stream",
     "text": [
      "Hello Noman\n",
      "    Your Application is accepted for AI\n"
     ]
    }
   ],
   "source": [
    "msg = \"\"\"Hello {name}\n",
    "    Your Application is accepted for {Class}\"\"\".format(Class=\"AI\", name=\"Noman\")\n",
    "print(msg)"
   ]
  },
  {
   "cell_type": "code",
   "execution_count": 4,
   "metadata": {},
   "outputs": [
    {
     "name": "stdout",
     "output_type": "stream",
     "text": [
      "Hello Muhammad Noman Aslam\n",
      "    Your Application is accepted for Pyhton\n"
     ]
    }
   ],
   "source": [
    "name = \"Muhammad Noman Aslam\"\n",
    "Class = \"Pyhton\"\n",
    "msg = \"\"\"Hello {}\n",
    "    Your Application is accepted for {}\"\"\".format(name, Class)\n",
    "print(msg)\n",
    "\n"
   ]
  },
  {
   "cell_type": "code",
   "execution_count": 6,
   "metadata": {},
   "outputs": [
    {
     "name": "stdout",
     "output_type": "stream",
     "text": [
      "Hello Noman Maken\n",
      "    Your Application is accepted for AIC\n"
     ]
    }
   ],
   "source": [
    "name = \"Noman Maken\"\n",
    "Class = \"AIC\"\n",
    "msg = \"\"\"Hello {a}\n",
    "    Your Application is accepted for {b}\"\"\".format(b=Class, a=name)\n",
    "print(msg)"
   ]
  },
  {
   "cell_type": "code",
   "execution_count": 7,
   "metadata": {},
   "outputs": [
    {
     "name": "stdout",
     "output_type": "stream",
     "text": [
      "Your Name:Noman Maken\n",
      "Your Class:AI\n",
      "Hello Noman Maken\n",
      "    Your Application is accepted for AI\n"
     ]
    }
   ],
   "source": [
    "name = input(\"Your Name:\")\n",
    "Class = input(\"Your Class:\")\n",
    "msg = \"\"\"Hello {a}\n",
    "    Your Application is accepted for {b}\"\"\".format(b=Class, a=name)\n",
    "print(msg)"
   ]
  },
  {
   "cell_type": "code",
   "execution_count": 8,
   "metadata": {},
   "outputs": [
    {
     "data": {
      "text/plain": [
       "str"
      ]
     },
     "execution_count": 8,
     "metadata": {},
     "output_type": "execute_result"
    }
   ],
   "source": [
    "type (name)"
   ]
  },
  {
   "cell_type": "code",
   "execution_count": 9,
   "metadata": {},
   "outputs": [
    {
     "data": {
      "text/plain": [
       "str"
      ]
     },
     "execution_count": 9,
     "metadata": {},
     "output_type": "execute_result"
    }
   ],
   "source": [
    "type(msg)"
   ]
  },
  {
   "cell_type": "code",
   "execution_count": null,
   "metadata": {},
   "outputs": [],
   "source": []
  }
 ],
 "metadata": {
  "kernelspec": {
   "display_name": "Python 3",
   "language": "python",
   "name": "python3"
  },
  "language_info": {
   "codemirror_mode": {
    "name": "ipython",
    "version": 3
   },
   "file_extension": ".py",
   "mimetype": "text/x-python",
   "name": "python",
   "nbconvert_exporter": "python",
   "pygments_lexer": "ipython3",
   "version": "3.7.6"
  }
 },
 "nbformat": 4,
 "nbformat_minor": 4
}
