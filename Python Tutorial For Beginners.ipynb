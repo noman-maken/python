{
 "cells": [
  {
   "cell_type": "code",
   "execution_count": 1,
   "id": "c6665c6c",
   "metadata": {},
   "outputs": [
    {
     "name": "stdout",
     "output_type": "stream",
     "text": [
      "This is print function\n"
     ]
    }
   ],
   "source": [
    "print(\"This is print function\")"
   ]
  },
  {
   "cell_type": "code",
   "execution_count": 2,
   "id": "34cadbf3",
   "metadata": {},
   "outputs": [
    {
     "name": "stdout",
     "output_type": "stream",
     "text": [
      "Python Tutorials for beginners\n"
     ]
    }
   ],
   "source": [
    "print('Python Tutorials for beginners')"
   ]
  },
  {
   "cell_type": "code",
   "execution_count": 3,
   "id": "6d1765e4",
   "metadata": {},
   "outputs": [
    {
     "name": "stdout",
     "output_type": "stream",
     "text": [
      "Sargodha\n"
     ]
    }
   ],
   "source": [
    "city = \"Sargodha\"\n",
    "print(city)"
   ]
  },
  {
   "cell_type": "code",
   "execution_count": 4,
   "id": "9db6f033",
   "metadata": {},
   "outputs": [
    {
     "name": "stdout",
     "output_type": "stream",
     "text": [
      "Islamabad\n"
     ]
    }
   ],
   "source": [
    "city_1 = 'Islamabad'\n",
    "print(city_1)"
   ]
  },
  {
   "cell_type": "code",
   "execution_count": 8,
   "id": "2df4b127",
   "metadata": {},
   "outputs": [
    {
     "name": "stdout",
     "output_type": "stream",
     "text": [
      "This is valid variable\n"
     ]
    }
   ],
   "source": [
    "variable = \"This is valid variable\"\n",
    "print(variable)"
   ]
  },
  {
   "cell_type": "code",
   "execution_count": 10,
   "id": "a2cfc3f3",
   "metadata": {},
   "outputs": [],
   "source": [
    "variable_1 = \"valid Variable\""
   ]
  },
  {
   "cell_type": "code",
   "execution_count": 11,
   "id": "874b09ac",
   "metadata": {},
   "outputs": [
    {
     "name": "stdout",
     "output_type": "stream",
     "text": [
      "valid Variable\n"
     ]
    }
   ],
   "source": [
    "print(variable_1)"
   ]
  },
  {
   "cell_type": "code",
   "execution_count": 15,
   "id": "3b430f22",
   "metadata": {},
   "outputs": [
    {
     "name": "stdout",
     "output_type": "stream",
     "text": [
      "valid Variable\n"
     ]
    }
   ],
   "source": [
    "print(variable_1)"
   ]
  },
  {
   "cell_type": "code",
   "execution_count": 18,
   "id": "26fafd9c",
   "metadata": {},
   "outputs": [
    {
     "name": "stdout",
     "output_type": "stream",
     "text": [
      "valid variable\n"
     ]
    }
   ],
   "source": [
    "variable1 = 'valid variable'\n",
    "print(variable1)"
   ]
  },
  {
   "cell_type": "code",
   "execution_count": 21,
   "id": "0960de10",
   "metadata": {},
   "outputs": [
    {
     "name": "stdout",
     "output_type": "stream",
     "text": [
      "34\n"
     ]
    }
   ],
   "source": [
    "variable___1 = 34\n",
    "print(variable___1)"
   ]
  },
  {
   "cell_type": "code",
   "execution_count": 23,
   "id": "3bc81b85",
   "metadata": {},
   "outputs": [],
   "source": [
    "print = 2"
   ]
  },
  {
   "cell_type": "code",
   "execution_count": 25,
   "id": "2f19b049",
   "metadata": {},
   "outputs": [
    {
     "name": "stdout",
     "output_type": "stream",
     "text": [
      "<built-in function print>\n"
     ]
    }
   ],
   "source": [
    "print(print)"
   ]
  },
  {
   "cell_type": "code",
   "execution_count": 26,
   "id": "a89c97a0",
   "metadata": {},
   "outputs": [
    {
     "name": "stdout",
     "output_type": "stream",
     "text": [
      "4\n"
     ]
    }
   ],
   "source": [
    "operator_1 = 2+2 \n",
    "print(operator_1)"
   ]
  },
  {
   "cell_type": "code",
   "execution_count": 27,
   "id": "0dcce8bd",
   "metadata": {},
   "outputs": [
    {
     "name": "stdout",
     "output_type": "stream",
     "text": [
      "0\n"
     ]
    }
   ],
   "source": [
    "operator_2 = 2-2\n",
    "print(operator_2)"
   ]
  },
  {
   "cell_type": "code",
   "execution_count": 28,
   "id": "c0b8979a",
   "metadata": {},
   "outputs": [
    {
     "name": "stdout",
     "output_type": "stream",
     "text": [
      "33\n"
     ]
    }
   ],
   "source": [
    "operator_3 = '3'+'3'\n",
    "print(operator_3)"
   ]
  },
  {
   "cell_type": "code",
   "execution_count": 30,
   "id": "96065255",
   "metadata": {},
   "outputs": [
    {
     "name": "stdout",
     "output_type": "stream",
     "text": [
      "6\n"
     ]
    }
   ],
   "source": [
    "operator_3 = 3+3\n",
    "print(operator_3)"
   ]
  },
  {
   "cell_type": "code",
   "execution_count": 33,
   "id": "6bea5ded",
   "metadata": {},
   "outputs": [
    {
     "name": "stdout",
     "output_type": "stream",
     "text": [
      "This is valid variable\n"
     ]
    }
   ],
   "source": [
    "print(variable)"
   ]
  },
  {
   "cell_type": "code",
   "execution_count": 34,
   "id": "185f9935",
   "metadata": {},
   "outputs": [
    {
     "data": {
      "text/plain": [
       "str"
      ]
     },
     "execution_count": 34,
     "metadata": {},
     "output_type": "execute_result"
    }
   ],
   "source": [
    "type(variable)"
   ]
  },
  {
   "cell_type": "code",
   "execution_count": 35,
   "id": "af42b749",
   "metadata": {},
   "outputs": [
    {
     "data": {
      "text/plain": [
       "int"
      ]
     },
     "execution_count": 35,
     "metadata": {},
     "output_type": "execute_result"
    }
   ],
   "source": [
    "type(operator_3)"
   ]
  },
  {
   "cell_type": "code",
   "execution_count": 36,
   "id": "9d23d76f",
   "metadata": {},
   "outputs": [
    {
     "name": "stdout",
     "output_type": "stream",
     "text": [
      "4\n"
     ]
    }
   ],
   "source": [
    "operatrr_4 = 2*2\n",
    "print(operatrr_4)"
   ]
  },
  {
   "cell_type": "code",
   "execution_count": 37,
   "id": "d05f1fdd",
   "metadata": {},
   "outputs": [
    {
     "name": "stdout",
     "output_type": "stream",
     "text": [
      "1.0\n"
     ]
    }
   ],
   "source": [
    "operatrr_5 = 2/2\n",
    "print(operatrr_5)"
   ]
  },
  {
   "cell_type": "code",
   "execution_count": 39,
   "id": "9adec8d5",
   "metadata": {},
   "outputs": [
    {
     "data": {
      "text/plain": [
       "float"
      ]
     },
     "execution_count": 39,
     "metadata": {},
     "output_type": "execute_result"
    }
   ],
   "source": [
    "type(operatrr_5)"
   ]
  },
  {
   "cell_type": "code",
   "execution_count": null,
   "id": "db670d08",
   "metadata": {},
   "outputs": [],
   "source": []
  }
 ],
 "metadata": {
  "kernelspec": {
   "display_name": "Python 3",
   "language": "python",
   "name": "python3"
  },
  "language_info": {
   "codemirror_mode": {
    "name": "ipython",
    "version": 3
   },
   "file_extension": ".py",
   "mimetype": "text/x-python",
   "name": "python",
   "nbconvert_exporter": "python",
   "pygments_lexer": "ipython3",
   "version": "3.8.8"
  }
 },
 "nbformat": 4,
 "nbformat_minor": 5
}
