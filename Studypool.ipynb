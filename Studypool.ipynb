{
 "cells": [
  {
   "cell_type": "code",
   "execution_count": 9,
   "id": "4fe9ef9c",
   "metadata": {},
   "outputs": [
    {
     "ename": "ModuleNotFoundError",
     "evalue": "No module named 'AnimalShelter'",
     "output_type": "error",
     "traceback": [
      "\u001b[1;31m---------------------------------------------------------------------------\u001b[0m",
      "\u001b[1;31mModuleNotFoundError\u001b[0m                       Traceback (most recent call last)",
      "\u001b[1;32m<ipython-input-9-5178afc3f53d>\u001b[0m in \u001b[0;36m<module>\u001b[1;34m\u001b[0m\n\u001b[0;32m      1\u001b[0m \u001b[1;32mfrom\u001b[0m \u001b[0mpymongo\u001b[0m \u001b[1;32mimport\u001b[0m \u001b[0mMongoClient\u001b[0m\u001b[1;33m\u001b[0m\u001b[1;33m\u001b[0m\u001b[0m\n\u001b[0;32m      2\u001b[0m \u001b[1;32mfrom\u001b[0m \u001b[0mbson\u001b[0m\u001b[1;33m.\u001b[0m\u001b[0mobjectid\u001b[0m \u001b[1;32mimport\u001b[0m \u001b[0mObjectId\u001b[0m\u001b[1;33m\u001b[0m\u001b[1;33m\u001b[0m\u001b[0m\n\u001b[1;32m----> 3\u001b[1;33m \u001b[1;32mfrom\u001b[0m \u001b[0mAnimalShelter\u001b[0m \u001b[1;32mimport\u001b[0m \u001b[0mAnimalShelter\u001b[0m\u001b[1;33m\u001b[0m\u001b[1;33m\u001b[0m\u001b[0m\n\u001b[0m",
      "\u001b[1;31mModuleNotFoundError\u001b[0m: No module named 'AnimalShelter'"
     ]
    }
   ],
   "source": [
    "from pymongo import MongoClient\n",
    "from bson.objectid import ObjectId\n",
    "from AnimalShelter import AnimalShelter"
   ]
  },
  {
   "cell_type": "code",
   "execution_count": 10,
   "id": "72b5ee8f",
   "metadata": {},
   "outputs": [
    {
     "ename": "NameError",
     "evalue": "name 'animals' is not defined",
     "output_type": "error",
     "traceback": [
      "\u001b[1;31m---------------------------------------------------------------------------\u001b[0m",
      "\u001b[1;31mNameError\u001b[0m                                 Traceback (most recent call last)",
      "\u001b[1;32m<ipython-input-10-7c6d9cc4ca24>\u001b[0m in \u001b[0;36m<module>\u001b[1;34m\u001b[0m\n\u001b[1;32m----> 1\u001b[1;33m \u001b[1;32mclass\u001b[0m \u001b[0mAnimalShelter\u001b[0m\u001b[1;33m(\u001b[0m\u001b[0mobject\u001b[0m\u001b[1;33m)\u001b[0m\u001b[1;33m:\u001b[0m\u001b[1;33m\u001b[0m\u001b[1;33m\u001b[0m\u001b[0m\n\u001b[0m\u001b[0;32m      2\u001b[0m     \u001b[1;34m\"\"\" CRUD operations for Animal collection in MongoDB \"\"\"\u001b[0m\u001b[1;33m\u001b[0m\u001b[1;33m\u001b[0m\u001b[0m\n\u001b[0;32m      3\u001b[0m     \u001b[1;32mdef\u001b[0m \u001b[0mcreateAnimals\u001b[0m\u001b[1;33m(\u001b[0m\u001b[1;33m)\u001b[0m\u001b[1;33m:\u001b[0m\u001b[1;33m\u001b[0m\u001b[1;33m\u001b[0m\u001b[0m\n\u001b[0;32m      4\u001b[0m         \u001b[0manimals\u001b[0m \u001b[1;33m=\u001b[0m \u001b[0mAnimalShelter\u001b[0m\u001b[1;33m(\u001b[0m\u001b[1;33m)\u001b[0m\u001b[1;33m\u001b[0m\u001b[1;33m\u001b[0m\u001b[0m\n\u001b[0;32m      5\u001b[0m         \u001b[0mdata\u001b[0m \u001b[1;33m=\u001b[0m \u001b[1;33m{\u001b[0m\u001b[1;33m}\u001b[0m\u001b[1;33m\u001b[0m\u001b[1;33m\u001b[0m\u001b[0m\n",
      "\u001b[1;32m<ipython-input-10-7c6d9cc4ca24>\u001b[0m in \u001b[0;36mAnimalShelter\u001b[1;34m()\u001b[0m\n\u001b[0;32m     11\u001b[0m         \u001b[0mvalue\u001b[0m \u001b[1;33m=\u001b[0m \u001b[0minput\u001b[0m\u001b[1;33m(\u001b[0m\u001b[1;34m\"Enter Value: \"\u001b[0m\u001b[1;33m)\u001b[0m\u001b[1;33m\u001b[0m\u001b[1;33m\u001b[0m\u001b[0m\n\u001b[0;32m     12\u001b[0m         \u001b[0mdata\u001b[0m\u001b[1;33m[\u001b[0m\u001b[0mkey\u001b[0m\u001b[1;33m]\u001b[0m \u001b[1;33m=\u001b[0m \u001b[0mvalue\u001b[0m\u001b[1;33m\u001b[0m\u001b[1;33m\u001b[0m\u001b[0m\n\u001b[1;32m---> 13\u001b[1;33m     \u001b[0manimals\u001b[0m\u001b[1;33m.\u001b[0m\u001b[0mcreate\u001b[0m\u001b[1;33m(\u001b[0m\u001b[0mdata\u001b[0m\u001b[1;33m)\u001b[0m\u001b[1;33m\u001b[0m\u001b[1;33m\u001b[0m\u001b[0m\n\u001b[0m\u001b[0;32m     14\u001b[0m \u001b[1;33m\u001b[0m\u001b[0m\n\u001b[0;32m     15\u001b[0m \u001b[1;32mdef\u001b[0m \u001b[0msearchAnimals\u001b[0m\u001b[1;33m(\u001b[0m\u001b[1;33m)\u001b[0m\u001b[1;33m:\u001b[0m\u001b[1;33m\u001b[0m\u001b[1;33m\u001b[0m\u001b[0m\n",
      "\u001b[1;31mNameError\u001b[0m: name 'animals' is not defined"
     ]
    }
   ],
   "source": [
    "class AnimalShelter(object):\n",
    "    \"\"\" CRUD operations for Animal collection in MongoDB \"\"\"\n",
    "    def createAnimals():\n",
    "        animals = AnimalShelter()\n",
    "        data = {}\n",
    "        print(\"Enter Data, [Key followed by Value]\")\n",
    "        while (True):\n",
    "            key = input(key)\n",
    "            if key == \"exit\":\n",
    "                break\n",
    "        value = input(\"Enter Value: \")\n",
    "        data[key] = value\n",
    "    animals.create(data)\n",
    "\n",
    "def searchAnimals():\n",
    "    animals = AnimalShelter()\n",
    "    data = {}\n",
    "    print(\"Enter Data, [Key followed by Value]\")\n",
    "    while (True):\n",
    "        key = input(\"Enter Key 'exit' to quit.\")\n",
    "        if key == \"exit\":\n",
    "            break\n",
    "            value = input(\"Enter Value:\\n\")\n",
    "            data[key] = value\n",
    "            animals.read(data)\n",
    "\n",
    "def updateAnimals():\n",
    "    animals = AnimalShelter()\n",
    "    specifications = {}\n",
    "    print(\"Enter Specifications of animal to update: \")\n",
    "    while (True):\n",
    "        key = input(\"Enter Key: \")\n",
    "        if key == \"exit\":\n",
    "            break\n",
    "        value = input(\"Enter Value: \")\n",
    "        specifications[key] = value\n",
    "        \n",
    "    print(\"Enter New Values\")\n",
    "    new_data = {} #empty dictionary\n",
    "    while(True):\n",
    "        key = input(\"Enter Key: \")\n",
    "        if key == \"exit\":\n",
    "            break\n",
    "        value = input(\"Enter Value: \")\n",
    "        new_data[key] = value\n",
    "    animals.read(specifications, new_data)\n",
    "\n",
    "def deleteAnimals():\n",
    "    animals = AnimalShelter()\n",
    "    todelete = {}\n",
    "    print(\"Enter Specifications for animal to be deleted\")\n",
    "    while (True):\n",
    "        key = input(\"Enter Key [exit to quit]:\")\n",
    "        if key == \"exit\":\n",
    "            break\n",
    "        value = input(\"Enter Value:\\n\")\n",
    "        todelete[key] = value\n",
    "    animals.delete(todelete)\n",
    "    read_data = animals.read(todelete)\n",
    "    #Confirm Deletion of Data\n",
    "    if read_data is None:\n",
    "        print(\"Animal Deleted\")\n",
    "    else:\n",
    "        print(\"Animal was not deleted\")\n",
    "    \n",
    "def displayMenu():\n",
    "    print(\"1. Add New Animal\")\n",
    "    print(\"2. Remove Animal(Delete)\")\n",
    "    print(\"3. Update Animal (Modify)\")\n",
    "    print(\"4. Search For An Animal\")\n",
    "    print(\"5. Exit app\")\n",
    "\n",
    "def main():\n",
    "    displayMenu()\n",
    "    user = input(\"Choice\")\n",
    "    while user != \"5\":\n",
    "        if user ==\"1\":\n",
    "            createAnimals()\n",
    "        elif user == \"2\":\n",
    "            deleteAnimals()\n",
    "        elif user == \"3\":\n",
    "            updateAnimals()\n",
    "        elif user == \"4\":\n",
    "            searchAnimals()\n",
    "        else:\n",
    "            print(\"Invalid data\")\n",
    "        displayMenu()\n",
    "        user = input(\"Choice\")\n"
   ]
  },
  {
   "cell_type": "code",
   "execution_count": 11,
   "id": "1f31431c",
   "metadata": {},
   "outputs": [],
   "source": [
    "    def __init__(self, username=None, password=None):\n",
    "        # Initializing the MongoClient. This helps to \n",
    "        # access the MongoDB databases and collections. \n",
    "        self.client = MongoClient('mongodb://localhost:37341')\n",
    "        self.database = self.client['AAC']\n"
   ]
  },
  {
   "cell_type": "code",
   "execution_count": 12,
   "id": "16bc6732",
   "metadata": {},
   "outputs": [],
   "source": [
    "    def __init__(self, username=None, password=None):\n",
    "        # Initializing the MongoClient. This helps to \n",
    "        # access the MongoDB databases and collections. \n",
    "        self.client = MongoClient('mongodb://localhost:37341')\n",
    "        self.database = self.client['AAC']\n"
   ]
  },
  {
   "cell_type": "code",
   "execution_count": 14,
   "id": "6fd6412b",
   "metadata": {},
   "outputs": [],
   "source": [
    "# Complete this read method to implement the R in CRUD.\n",
    "def read(self, criteria):\n",
    "    if criteria is not None:\n",
    "        data = self.database.animal.find(criteria)  # data should be dictionary \n",
    "        for document in data:\n",
    "            print(\">>\")\n",
    "            print(document)\n",
    "            print()\n",
    "        else:\n",
    "            raise Exception(\"nothing to read, hint is empty\")\n"
   ]
  },
  {
   "cell_type": "code",
   "execution_count": 17,
   "id": "51a9f21e",
   "metadata": {},
   "outputs": [],
   "source": [
    "# Complete this update method to implement the U in CRUD.\n",
    "def update(self, criteria, new_data):\n",
    "    if criteria is not None and new_data is not None:\n",
    "        self.database.animal.update_many(_criteria,{'$set':new_data}) \n",
    "        self.read(new_data)\n",
    "            \n",
    "    else:\n",
    "        raise Exception(\"please Enter both key and data to modify the collection\")\n"
   ]
  },
  {
   "cell_type": "code",
   "execution_count": 19,
   "id": "98490d94",
   "metadata": {},
   "outputs": [],
   "source": [
    "# Complete this delete method to implement to D in CRUD.\n",
    "def delete(self, animal):\n",
    "    if animal is not None:\n",
    "        data = self.read(animal) # find animal first\n",
    "        if data is None:\n",
    "            print(\"Animal does not exists\")\n",
    "            return\n",
    "            self.database.animal.delete_many(animal)  # data should be dictionary \n",
    "        else:\n",
    "            raise Exception(\"nothing to delete, animal data is empty\")\n"
   ]
  },
  {
   "cell_type": "code",
   "execution_count": null,
   "id": "eea21d5f",
   "metadata": {},
   "outputs": [],
   "source": []
  }
 ],
 "metadata": {
  "kernelspec": {
   "display_name": "Python 3",
   "language": "python",
   "name": "python3"
  },
  "language_info": {
   "codemirror_mode": {
    "name": "ipython",
    "version": 3
   },
   "file_extension": ".py",
   "mimetype": "text/x-python",
   "name": "python",
   "nbconvert_exporter": "python",
   "pygments_lexer": "ipython3",
   "version": "3.8.8"
  }
 },
 "nbformat": 4,
 "nbformat_minor": 5
}
