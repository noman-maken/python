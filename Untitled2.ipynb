{
 "cells": [
  {
   "cell_type": "code",
   "execution_count": 2,
   "metadata": {},
   "outputs": [
    {
     "name": "stdout",
     "output_type": "stream",
     "text": [
      "Me Tera Me Tera Me Tera Me Tera Me Tera Me Tera Me Tera Me Tera Me Tera Me Tera Me Tera Me Tera Me Tera Me Tera Me Tera Me Tera Me Tera Me Tera Me Tera Me Tera Me Tera Me Tera Me Tera Me Tera Me Tera Me Tera Me Tera Me Tera Me Tera Me Tera Me Tera Me Tera Me Tera Me Tera Me Tera Me Tera Me Tera Me Tera Me Tera Me Tera Me Tera Me Tera Me Tera Me Tera Me Tera Me Tera Me Tera Me Tera Me Tera Me Tera Me Tera Me Tera Me Tera Me Tera Me Tera Me Tera Me Tera Me Tera Me Tera Me Tera Me Tera Me Tera Me Tera Me Tera Me Tera Me Tera Me Tera Me Tera Me Tera Me Tera Me Tera Me Tera Me Tera Me Tera Me Tera Me Tera Me Tera Me Tera Me Tera Me Tera Me Tera Me Tera Me Tera Me Tera Me Tera Me Tera Me Tera Me Tera Me Tera Me Tera Me Tera Me Tera Me Tera Me Tera Me Tera Me Tera Me Tera Me Tera Me Tera Me Tera Me Tera Me Tera Me Tera Me Tera Me Tera Me Tera Me Tera Me Tera Me Tera Me Tera Me Tera Me Tera Me Tera Me Tera Me Tera Me Tera Me Tera Me Tera Me Tera Me Tera Me Tera Me Tera Me Tera Me Tera Me Tera Me Tera Me Tera Me Tera Me Tera Me Tera Me Tera Me Tera Me Tera Me Tera Me Tera Me Tera Me Tera Me Tera Me Tera Me Tera Me Tera Me Tera Me Tera Me Tera Me Tera Me Tera Me Tera Me Tera Me Tera Me Tera Me Tera Me Tera Me Tera Me Tera Me Tera Me Tera Me Tera Me Tera Me Tera Me Tera Me Tera Me Tera Me Tera Me Tera Me Tera Me Tera Me Tera Me Tera Me Tera Me Tera Me Tera Me Tera Me Tera Me Tera Me Tera Me Tera Me Tera Me Tera Me Tera Me Tera Me Tera Me Tera Me Tera Me Tera Me Tera Me Tera Me Tera Me Tera Me Tera Me Tera Me Tera Me Tera Me Tera Me Tera Me Tera Me Tera Me Tera Me Tera Me Tera Me Tera Me Tera Me Tera Me Tera Me Tera Me Tera Me Tera Me Tera Me Tera Me Tera Me Tera Me Tera Me Tera Me Tera Me Tera Me Tera Me Tera Me Tera Me Tera Me Tera Me Tera Me Tera Me Tera Me Tera Me Tera Me Tera Me Tera Me Tera Me Tera Me Tera Me Tera Me Tera Me Tera Me Tera Me Tera Me Tera Me Tera Me Tera Me Tera Me Tera Me Tera Me Tera Me Tera Me Tera Me Tera Me Tera Me Tera Me Tera Me Tera Me Tera Me Tera Me Tera Me Tera Me Tera Me Tera Me Tera Me Tera Me Tera Me Tera Me Tera Me Tera Me Tera Me Tera Me Tera Me Tera Me Tera Me Tera Me Tera Me Tera Me Tera Me Tera Me Tera Me Tera Me Tera Me Tera Me Tera Me Tera Me Tera Me Tera Me Tera Me Tera Me Tera Me Tera Me Tera Me Tera Me Tera Me Tera Me Tera Me Tera Me Tera Me Tera Me Tera Me Tera Me Tera Me Tera Me Tera Me Tera Me Tera Me Tera Me Tera Me Tera Me Tera Me Tera Me Tera Me Tera Me Tera Me Tera Me Tera Me Tera Me Tera Me Tera Me Tera Me Tera Me Tera Me Tera Me Tera Me Tera Me Tera Me Tera Me Tera Me Tera Me Tera Me Tera Me Tera Me Tera Me Tera Me Tera Me Tera Me Tera Me Tera Me Tera Me Tera Me Tera Me Tera Me Tera Me Tera Me Tera Me Tera Me Tera Me Tera Me Tera Me Tera Me Tera Me Tera Me Tera Me Tera Me Tera Me Tera Me Tera Me Tera Me Tera Me Tera Me Tera Me Tera Me Tera Me Tera Me Tera Me Tera Me Tera Me Tera Me Tera Me Tera Me Tera Me Tera Me Tera Me Tera Me Tera Me Tera Me Tera Me Tera Me Tera Me Tera Me Tera Me Tera Me Tera Me Tera Me Tera Me Tera Me Tera Me Tera Me Tera Me Tera Me Tera Me Tera Me Tera Me Tera Me Tera Me Tera Me Tera Me Tera Me Tera Me Tera Me Tera Me Tera Me Tera Me Tera Me Tera Me Tera Me Tera Me Tera Me Tera Me Tera Me Tera Me Tera Me Tera Me Tera Me Tera Me Tera Me Tera Me Tera Me Tera Me Tera Me Tera Me Tera Me Tera Me Tera Me Tera Me Tera Me Tera Me Tera Me Tera Me Tera Me Tera Me Tera Me Tera Me Tera Me Tera Me Tera Me Tera Me Tera Me Tera Me Tera Me Tera Me Tera Me Tera Me Tera Me Tera Me Tera Me Tera Me Tera Me Tera Me Tera Me Tera Me Tera Me Tera Me Tera Me Tera Me Tera Me Tera Me Tera Me Tera Me Tera Me Tera Me Tera Me Tera Me Tera Me Tera Me Tera Me Tera Me Tera Me Tera Me Tera Me Tera Me Tera Me Tera Me Tera Me Tera Me Tera Me Tera Me Tera Me Tera Me Tera Me Tera Me Tera Me Tera Me Tera Me Tera Me Tera Me Tera Me Tera Me Tera Me Tera Me Tera Me Tera Me Tera Me Tera Me Tera Me Tera Me Tera Me Tera Me Tera Me Tera Me Tera Me Tera Me Tera Me Tera Me Tera Me Tera Me Tera Me Tera Me Tera Me Tera Me Tera Me Tera Me Tera Me Tera Me Tera Me Tera Me Tera Me Tera Me Tera Me Tera Me Tera Me Tera Me Tera Me Tera Me Tera Me Tera Me Tera Me Tera Me Tera Me Tera Me Tera Me Tera Me Tera Me Tera Me Tera Me Tera Me Tera Me Tera Me Tera Me Tera Me Tera Me Tera Me Tera Me Tera Me Tera Me Tera Me Tera Me Tera Me Tera Me Tera Me Tera Me Tera Me Tera Me Tera Me Tera Me Tera Me Tera Me Tera Me Tera Me Tera Me Tera Me Tera Me Tera Me Tera Me Tera Me Tera Me Tera Me Tera Me Tera Me Tera Me Tera Me Tera Me Tera Me Tera Me Tera Me Tera Me Tera Me Tera Me Tera Me Tera Me Tera Me Tera Me Tera Me Tera Me Tera Me Tera Me Tera Me Tera Me Tera Me Tera Me Tera Me Tera Me Tera Me Tera Me Tera Me Tera Me Tera Me Tera Me Tera Me Tera Me Tera Me Tera Me Tera Me Tera Me Tera Me Tera Me Tera Me Tera Me Tera Me Tera Me Tera Me Tera Me Tera Me Tera Me Tera Me Tera Me Tera Me Tera Me Tera Me Tera Me Tera Me Tera Me Tera Me Tera Me Tera Me Tera Me Tera Me Tera Me Tera Me Tera Me Tera Me Tera Me Tera Me Tera Me Tera Me Tera Me Tera Me Tera Me Tera Me Tera Me Tera Me Tera Me Tera Me Tera Me Tera Me Tera Me Tera Me Tera Me Tera Me Tera Me Tera Me Tera Me Tera Me Tera Me Tera Me Tera Me Tera Me Tera Me Tera Me Tera Me Tera Me Tera Me Tera Me Tera Me Tera Me Tera Me Tera Me Tera Me Tera Me Tera Me Tera Me Tera Me Tera Me Tera Me Tera Me Tera Me Tera Me Tera Me Tera Me Tera Me Tera Me Tera Me Tera Me Tera Me Tera Me Tera Me Tera Me Tera Me Tera Me Tera Me Tera Me Tera Me Tera Me Tera Me Tera Me Tera Me Tera Me Tera Me Tera Me Tera Me Tera Me Tera Me Tera Me Tera Me Tera Me Tera Me Tera Me Tera Me Tera Me Tera Me Tera Me Tera Me Tera Me Tera Me Tera Me Tera Me Tera Me Tera Me Tera Me Tera Me Tera Me Tera Me Tera Me Tera Me Tera Me Tera Me Tera Me Tera Me Tera Me Tera Me Tera Me Tera Me Tera Me Tera Me Tera Me Tera Me Tera Me Tera Me Tera Me Tera Me Tera Me Tera Me Tera Me Tera Me Tera Me Tera Me Tera Me Tera Me Tera Me Tera Me Tera Me Tera Me Tera Me Tera Me Tera Me Tera Me Tera Me Tera Me Tera Me Tera Me Tera Me Tera Me Tera Me Tera Me Tera Me Tera Me Tera Me Tera Me Tera Me Tera Me Tera Me Tera Me Tera Me Tera Me Tera Me Tera Me Tera Me Tera Me Tera Me Tera Me Tera Me Tera Me Tera Me Tera Me Tera Me Tera Me Tera Me Tera Me Tera Me Tera Me Tera Me Tera Me Tera Me Tera Me Tera Me Tera Me Tera Me Tera Me Tera Me Tera Me Tera Me Tera Me Tera Me Tera Me Tera Me Tera Me Tera Me Tera Me Tera Me Tera Me Tera Me Tera Me Tera Me Tera Me Tera Me Tera Me Tera Me Tera Me Tera Me Tera Me Tera Me Tera Me Tera Me Tera Me Tera Me Tera Me Tera Me Tera Me Tera Me Tera Me Tera Me Tera Me Tera Me Tera Me Tera Me Tera Me Tera Me Tera Me Tera Me Tera Me Tera Me Tera Me Tera Me Tera Me Tera Me Tera Me Tera Me Tera Me Tera Me Tera Me Tera Me Tera Me Tera Me Tera Me Tera Me Tera Me Tera Me Tera Me Tera Me Tera Me Tera Me Tera Me Tera Me Tera Me Tera Me Tera Me Tera Me Tera Me Tera Me Tera Me Tera Me Tera Me Tera Me Tera Me Tera Me Tera Me Tera Me Tera Me Tera Me Tera Me Tera Me Tera Me Tera Me Tera Me Tera Me Tera Me Tera Me Tera Me Tera Me Tera Me Tera Me Tera Me Tera Me Tera Me Tera Me Tera Me Tera Me Tera Me Tera Me Tera Me Tera Me Tera Me Tera Me Tera Me Tera Me Tera Me Tera Me Tera Me Tera Me Tera Me Tera Me Tera Me Tera Me Tera Me Tera Me Tera Me Tera Me Tera Me Tera Me Tera Me Tera Me Tera Me Tera Me Tera Me Tera Me Tera Me Tera Me Tera Me Tera Me Tera Me Tera Me Tera Me Tera Me Tera Me Tera Me Tera Me Tera Me Tera Me Tera Me Tera Me Tera Me Tera Me Tera Me Tera Me Tera Me Tera Me Tera Me Tera Me Tera Me Tera Me Tera Me Tera Me Tera Me Tera Me Tera Me Tera Me Tera Me Tera Me Tera Me Tera Me Tera Me Tera Me Tera Me Tera Me Tera Me Tera Me Tera Me Tera Me Tera Me Tera Me Tera Me Tera Me Tera Me Tera Me Tera Me Tera Me Tera Me Tera Me Tera Me Tera Me Tera Me Tera Me Tera Me Tera Me Tera Me Tera Me Tera Me Tera Me Tera Me Tera Me Tera Me Tera Me Tera Me Tera Me Tera Me Tera Me Tera Me Tera Me Tera Me Tera Me Tera Me Tera Me Tera Me Tera Me Tera Me Tera Me Tera Me Tera \n"
     ]
    }
   ],
   "source": [
    "print(\"Me Tera \" * 999)"
   ]
  },
  {
   "cell_type": "code",
   "execution_count": 3,
   "metadata": {},
   "outputs": [],
   "source": [
    "foo = \"A B C D\"\n",
    "bar = \"E-F-G-H\"\n",
    "\n",
    "# the split() function will return a list\n",
    "foo_list = foo.split()\n",
    "# if you give no arguments, it will separate by whitespaces by default\n",
    "# [\"A\", \"B\", \"C\", \"D\"]\n",
    "\n",
    "bar_list = bar.split(\"-\", 3)\n",
    "# you can specify the maximum amount of elements the split() function will output\n",
    "# [\"E\", \"F\", \"G\"]"
   ]
  },
  {
   "cell_type": "code",
   "execution_count": 4,
   "metadata": {},
   "outputs": [
    {
     "name": "stdout",
     "output_type": "stream",
     "text": [
      "['A', 'B', 'C', 'D']\n"
     ]
    }
   ],
   "source": [
    "print(foo_list)"
   ]
  },
  {
   "cell_type": "code",
   "execution_count": 5,
   "metadata": {},
   "outputs": [
    {
     "ename": "NameError",
     "evalue": "name 'data' is not defined",
     "output_type": "error",
     "traceback": [
      "\u001b[1;31m---------------------------------------------------------------------------\u001b[0m",
      "\u001b[1;31mNameError\u001b[0m                                 Traceback (most recent call last)",
      "\u001b[1;32m<ipython-input-5-472a78a7e4c6>\u001b[0m in \u001b[0;36m<module>\u001b[1;34m\u001b[0m\n\u001b[0;32m      2\u001b[0m \u001b[1;33m\u001b[0m\u001b[0m\n\u001b[0;32m      3\u001b[0m \u001b[1;31m# new data frame with split value columns\u001b[0m\u001b[1;33m\u001b[0m\u001b[1;33m\u001b[0m\u001b[1;33m\u001b[0m\u001b[0m\n\u001b[1;32m----> 4\u001b[1;33m \u001b[0mdata\u001b[0m\u001b[1;33m[\u001b[0m\u001b[1;34m\"Team\"\u001b[0m\u001b[1;33m]\u001b[0m\u001b[1;33m=\u001b[0m \u001b[0mdata\u001b[0m\u001b[1;33m[\u001b[0m\u001b[1;34m\"Team\"\u001b[0m\u001b[1;33m]\u001b[0m\u001b[1;33m.\u001b[0m\u001b[0mstr\u001b[0m\u001b[1;33m.\u001b[0m\u001b[0msplit\u001b[0m\u001b[1;33m(\u001b[0m\u001b[1;34m\" \"\u001b[0m\u001b[1;33m,\u001b[0m \u001b[0mn\u001b[0m \u001b[1;33m=\u001b[0m \u001b[1;36m1\u001b[0m\u001b[1;33m,\u001b[0m \u001b[0mexpand\u001b[0m \u001b[1;33m=\u001b[0m \u001b[1;32mTrue\u001b[0m\u001b[1;33m)\u001b[0m\u001b[1;33m\u001b[0m\u001b[1;33m\u001b[0m\u001b[0m\n\u001b[0m\u001b[0;32m      5\u001b[0m \u001b[1;33m\u001b[0m\u001b[0m\n\u001b[0;32m      6\u001b[0m \u001b[1;31m# df display\u001b[0m\u001b[1;33m\u001b[0m\u001b[1;33m\u001b[0m\u001b[1;33m\u001b[0m\u001b[0m\n",
      "\u001b[1;31mNameError\u001b[0m: name 'data' is not defined"
     ]
    }
   ],
   "source": [
    "import pandas as pd \n",
    "\n",
    "# new data frame with split value columns \n",
    "data[\"Team\"]= data[\"Team\"].str.split(\" \", n = 1, expand = True) \n",
    "\n",
    "# df display \n",
    "data "
   ]
  },
  {
   "cell_type": "code",
   "execution_count": null,
   "metadata": {},
   "outputs": [],
   "source": []
  }
 ],
 "metadata": {
  "kernelspec": {
   "display_name": "Python 3",
   "language": "python",
   "name": "python3"
  },
  "language_info": {
   "codemirror_mode": {
    "name": "ipython",
    "version": 3
   },
   "file_extension": ".py",
   "mimetype": "text/x-python",
   "name": "python",
   "nbconvert_exporter": "python",
   "pygments_lexer": "ipython3",
   "version": "3.8.8"
  }
 },
 "nbformat": 4,
 "nbformat_minor": 4
}
