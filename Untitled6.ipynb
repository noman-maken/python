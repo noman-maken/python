{
 "cells": [
  {
   "cell_type": "code",
   "execution_count": 8,
   "id": "d00b3b67",
   "metadata": {},
   "outputs": [],
   "source": [
    "import os\n",
    "os.getcwd()\n",
    "collection = \"C:/Users/Noman/Pictures/Saved Pictures/\"\n",
    "for i, filename in enumerate(os.listdir(collection)):\n",
    "    os.rename(\"C:/Users/Noman/Pictures/Saved Pictures/\" + filename, \"C:/Users/Noman/Pictures/Saved Pictures/\" + \"Davids Hockney \"+str(370)+str(i) + \".jpg\")"
   ]
  },
  {
   "cell_type": "code",
   "execution_count": null,
   "id": "3dd00449",
   "metadata": {},
   "outputs": [],
   "source": []
  }
 ],
 "metadata": {
  "kernelspec": {
   "display_name": "Python 3",
   "language": "python",
   "name": "python3"
  },
  "language_info": {
   "codemirror_mode": {
    "name": "ipython",
    "version": 3
   },
   "file_extension": ".py",
   "mimetype": "text/x-python",
   "name": "python",
   "nbconvert_exporter": "python",
   "pygments_lexer": "ipython3",
   "version": "3.8.8"
  }
 },
 "nbformat": 4,
 "nbformat_minor": 5
}
