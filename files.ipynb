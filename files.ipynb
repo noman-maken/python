{
 "cells": [
  {
   "cell_type": "code",
   "execution_count": 1,
   "metadata": {},
   "outputs": [],
   "source": [
    "import csv"
   ]
  },
  {
   "cell_type": "code",
   "execution_count": 2,
   "metadata": {},
   "outputs": [
    {
     "name": "stdout",
     "output_type": "stream",
     "text": [
      "<_csv.reader object at 0x000001C04427C748>\n"
     ]
    }
   ],
   "source": [
    "with open(\"contacts.csv\") as f:\n",
    "    read = csv.reader(f)\n",
    "    print(read)"
   ]
  },
  {
   "cell_type": "code",
   "execution_count": 3,
   "metadata": {},
   "outputs": [
    {
     "name": "stdout",
     "output_type": "stream",
     "text": [
      "['BEGIN:VCARD']\n",
      "['VERSION:3.0']\n",
      "['N:Abbas;Waseem;;;']\n",
      "['FN:Waseem Abbas']\n",
      "['EMAIL;TYPE=INTERNET;TYPE=HOME:waseemabbas26272@gmail.com']\n",
      "['END:VCARD']\n",
      "['BEGIN:VCARD']\n",
      "['VERSION:3.0']\n",
      "['N:Ahsan;Noman;;;']\n",
      "['FN:Noman Ahsan']\n",
      "['EMAIL;TYPE=INTERNET;TYPE=HOME:nomanahsan4060@gmail.com']\n",
      "['END:VCARD']\n",
      "['BEGIN:VCARD']\n",
      "['VERSION:3.0']\n",
      "['N:AI;Sajid;;;']\n",
      "['FN:Sajid AI']\n",
      "['EMAIL;TYPE=INTERNET;TYPE=HOME:princesajid116@gmail.com']\n",
      "['END:VCARD']\n",
      "['BEGIN:VCARD']\n",
      "['VERSION:3.0']\n",
      "['N:Amjad;Manahil;;;']\n",
      "['FN:Manahil Amjad']\n",
      "['EMAIL;TYPE=INTERNET;TYPE=HOME:Lorealmalik@gmail.com']\n",
      "['END:VCARD']\n",
      "['BEGIN:VCARD']\n",
      "['VERSION:3.0']\n",
      "['N:Ansari;Hamza;;;']\n",
      "['FN:Hamza Ansari']\n",
      "['EMAIL;TYPE=INTERNET;TYPE=HOME:hamzaansari2076@gmail.com']\n",
      "['END:VCARD']\n",
      "['BEGIN:VCARD']\n",
      "['VERSION:3.0']\n",
      "['N:Aslam Maken;Muhammad Noman;;;']\n",
      "['FN:Muhammad Noman Aslam Maken']\n",
      "['EMAIL;TYPE=INTERNET;TYPE=HOME:mnomanaslam64@gmail.com']\n",
      "['END:VCARD']\n",
      "['BEGIN:VCARD']\n",
      "['VERSION:3.0']\n",
      "['N:;Dawood;;;']\n",
      "['FN:Dawood']\n",
      "['EMAIL;TYPE=INTERNET;TYPE=HOME:dawoodahmad048@gmail.com']\n",
      "['END:VCARD']\n",
      "['BEGIN:VCARD']\n",
      "['VERSION:3.0']\n",
      "['N:;Haroon;;;']\n",
      "['FN:Haroon']\n",
      "['EMAIL;TYPE=INTERNET;TYPE=HOME:bc190204185@vu.edu.pk']\n",
      "['END:VCARD']\n",
      "['BEGIN:VCARD']\n",
      "['VERSION:3.0']\n",
      "['N:Hussain;Atif;;;']\n",
      "['FN:Atif Hussain']\n",
      "['EMAIL;TYPE=INTERNET;TYPE=HOME:atifhussain.paki@gmail.com']\n",
      "['END:VCARD']\n",
      "['BEGIN:VCARD']\n",
      "['VERSION:3.0']\n",
      "['N:;Kamil;;;']\n",
      "['FN:Kamil']\n",
      "['EMAIL;TYPE=INTERNET;TYPE=HOME:malikkamil595@gmail.com']\n",
      "['END:VCARD']\n",
      "['BEGIN:VCARD']\n",
      "['VERSION:3.0']\n",
      "['N:Khan;Bilal;;;']\n",
      "['FN:Bilal Khan']\n",
      "['EMAIL;TYPE=INTERNET;TYPE=HOME:bilalbaloch4748@gmail.com']\n",
      "['END:VCARD']\n",
      "['BEGIN:VCARD']\n",
      "['VERSION:3.0']\n",
      "['N:;Leeza;;;']\n",
      "['FN:Leeza']\n",
      "['EMAIL;TYPE=INTERNET;TYPE=HOME:aleezayqadeer@gmail.com']\n",
      "['END:VCARD']\n",
      "['BEGIN:VCARD']\n",
      "['VERSION:3.0']\n",
      "['N:Mubeen;Urwa;;;']\n",
      "['FN:Urwa Mubeen']\n",
      "['EMAIL;TYPE=INTERNET;TYPE=HOME:urwaurwi0@gmail.com']\n",
      "['END:VCARD']\n",
      "['BEGIN:VCARD']\n",
      "['VERSION:3.0']\n",
      "['N:;Romi;;;']\n",
      "['FN:Romi']\n",
      "['EMAIL;TYPE=INTERNET;TYPE=HOME:romananawaz123@gmail.com']\n",
      "['END:VCARD']\n",
      "['BEGIN:VCARD']\n",
      "['VERSION:3.0']\n",
      "['N:;Shabbir;;;']\n",
      "['FN:Shabbir']\n",
      "['EMAIL;TYPE=INTERNET;TYPE=HOME:shabbirawan698@gmail.com']\n",
      "['END:VCARD']\n",
      "['BEGIN:VCARD']\n",
      "['VERSION:3.0']\n",
      "['N:Sundas;Zeba;;;']\n",
      "['FN:Zeba Sundas']\n",
      "['EMAIL;TYPE=INTERNET;TYPE=HOME:zebasundasbsit@gmail.com']\n",
      "['END:VCARD']\n"
     ]
    }
   ],
   "source": [
    "with open(\"contacts.csv\") as f:\n",
    "    read = csv.reader(f)\n",
    "    # print(read)\n",
    "    for i in read:\n",
    "        print(i)"
   ]
  },
  {
   "cell_type": "code",
   "execution_count": 4,
   "metadata": {},
   "outputs": [
    {
     "name": "stdout",
     "output_type": "stream",
     "text": [
      "[['BEGIN:VCARD'], ['VERSION:3.0'], ['N:Abbas;Waseem;;;'], ['FN:Waseem Abbas'], ['EMAIL;TYPE=INTERNET;TYPE=HOME:waseemabbas26272@gmail.com'], ['END:VCARD'], ['BEGIN:VCARD'], ['VERSION:3.0'], ['N:Ahsan;Noman;;;'], ['FN:Noman Ahsan'], ['EMAIL;TYPE=INTERNET;TYPE=HOME:nomanahsan4060@gmail.com'], ['END:VCARD'], ['BEGIN:VCARD'], ['VERSION:3.0'], ['N:AI;Sajid;;;'], ['FN:Sajid AI'], ['EMAIL;TYPE=INTERNET;TYPE=HOME:princesajid116@gmail.com'], ['END:VCARD'], ['BEGIN:VCARD'], ['VERSION:3.0'], ['N:Amjad;Manahil;;;'], ['FN:Manahil Amjad'], ['EMAIL;TYPE=INTERNET;TYPE=HOME:Lorealmalik@gmail.com'], ['END:VCARD'], ['BEGIN:VCARD'], ['VERSION:3.0'], ['N:Ansari;Hamza;;;'], ['FN:Hamza Ansari'], ['EMAIL;TYPE=INTERNET;TYPE=HOME:hamzaansari2076@gmail.com'], ['END:VCARD'], ['BEGIN:VCARD'], ['VERSION:3.0'], ['N:Aslam Maken;Muhammad Noman;;;'], ['FN:Muhammad Noman Aslam Maken'], ['EMAIL;TYPE=INTERNET;TYPE=HOME:mnomanaslam64@gmail.com'], ['END:VCARD'], ['BEGIN:VCARD'], ['VERSION:3.0'], ['N:;Dawood;;;'], ['FN:Dawood'], ['EMAIL;TYPE=INTERNET;TYPE=HOME:dawoodahmad048@gmail.com'], ['END:VCARD'], ['BEGIN:VCARD'], ['VERSION:3.0'], ['N:;Haroon;;;'], ['FN:Haroon'], ['EMAIL;TYPE=INTERNET;TYPE=HOME:bc190204185@vu.edu.pk'], ['END:VCARD'], ['BEGIN:VCARD'], ['VERSION:3.0'], ['N:Hussain;Atif;;;'], ['FN:Atif Hussain'], ['EMAIL;TYPE=INTERNET;TYPE=HOME:atifhussain.paki@gmail.com'], ['END:VCARD'], ['BEGIN:VCARD'], ['VERSION:3.0'], ['N:;Kamil;;;'], ['FN:Kamil'], ['EMAIL;TYPE=INTERNET;TYPE=HOME:malikkamil595@gmail.com'], ['END:VCARD'], ['BEGIN:VCARD'], ['VERSION:3.0'], ['N:Khan;Bilal;;;'], ['FN:Bilal Khan'], ['EMAIL;TYPE=INTERNET;TYPE=HOME:bilalbaloch4748@gmail.com'], ['END:VCARD'], ['BEGIN:VCARD'], ['VERSION:3.0'], ['N:;Leeza;;;'], ['FN:Leeza'], ['EMAIL;TYPE=INTERNET;TYPE=HOME:aleezayqadeer@gmail.com'], ['END:VCARD'], ['BEGIN:VCARD'], ['VERSION:3.0'], ['N:Mubeen;Urwa;;;'], ['FN:Urwa Mubeen'], ['EMAIL;TYPE=INTERNET;TYPE=HOME:urwaurwi0@gmail.com'], ['END:VCARD'], ['BEGIN:VCARD'], ['VERSION:3.0'], ['N:;Romi;;;'], ['FN:Romi'], ['EMAIL;TYPE=INTERNET;TYPE=HOME:romananawaz123@gmail.com'], ['END:VCARD'], ['BEGIN:VCARD'], ['VERSION:3.0'], ['N:;Shabbir;;;'], ['FN:Shabbir'], ['EMAIL;TYPE=INTERNET;TYPE=HOME:shabbirawan698@gmail.com'], ['END:VCARD'], ['BEGIN:VCARD'], ['VERSION:3.0'], ['N:Sundas;Zeba;;;'], ['FN:Zeba Sundas'], ['EMAIL;TYPE=INTERNET;TYPE=HOME:zebasundasbsit@gmail.com'], ['END:VCARD']]\n"
     ]
    }
   ],
   "source": [
    "with open (\"contacts.csv\") as f:\n",
    "    read = csv.reader(f)\n",
    "    contacts = list(read)\n",
    "    print(contacts)"
   ]
  },
  {
   "cell_type": "code",
   "execution_count": 5,
   "metadata": {},
   "outputs": [
    {
     "name": "stdout",
     "output_type": "stream",
     "text": [
      "['BEGIN:VCARD']\n",
      "['VERSION:3.0']\n",
      "['N:Abbas;Waseem;;;']\n",
      "['FN:Waseem Abbas']\n",
      "['EMAIL;TYPE=INTERNET;TYPE=HOME:waseemabbas26272@gmail.com']\n",
      "['END:VCARD']\n",
      "['BEGIN:VCARD']\n",
      "['VERSION:3.0']\n",
      "['N:Ahsan;Noman;;;']\n",
      "['FN:Noman Ahsan']\n",
      "['EMAIL;TYPE=INTERNET;TYPE=HOME:nomanahsan4060@gmail.com']\n",
      "['END:VCARD']\n",
      "['BEGIN:VCARD']\n",
      "['VERSION:3.0']\n",
      "['N:AI;Sajid;;;']\n",
      "['FN:Sajid AI']\n",
      "['EMAIL;TYPE=INTERNET;TYPE=HOME:princesajid116@gmail.com']\n",
      "['END:VCARD']\n",
      "['BEGIN:VCARD']\n",
      "['VERSION:3.0']\n",
      "['N:Amjad;Manahil;;;']\n",
      "['FN:Manahil Amjad']\n",
      "['EMAIL;TYPE=INTERNET;TYPE=HOME:Lorealmalik@gmail.com']\n",
      "['END:VCARD']\n",
      "['BEGIN:VCARD']\n",
      "['VERSION:3.0']\n",
      "['N:Ansari;Hamza;;;']\n",
      "['FN:Hamza Ansari']\n",
      "['EMAIL;TYPE=INTERNET;TYPE=HOME:hamzaansari2076@gmail.com']\n",
      "['END:VCARD']\n",
      "['BEGIN:VCARD']\n",
      "['VERSION:3.0']\n",
      "['N:Aslam Maken;Muhammad Noman;;;']\n",
      "['FN:Muhammad Noman Aslam Maken']\n",
      "['EMAIL;TYPE=INTERNET;TYPE=HOME:mnomanaslam64@gmail.com']\n",
      "['END:VCARD']\n",
      "['BEGIN:VCARD']\n",
      "['VERSION:3.0']\n",
      "['N:;Dawood;;;']\n",
      "['FN:Dawood']\n",
      "['EMAIL;TYPE=INTERNET;TYPE=HOME:dawoodahmad048@gmail.com']\n",
      "['END:VCARD']\n",
      "['BEGIN:VCARD']\n",
      "['VERSION:3.0']\n",
      "['N:;Haroon;;;']\n",
      "['FN:Haroon']\n",
      "['EMAIL;TYPE=INTERNET;TYPE=HOME:bc190204185@vu.edu.pk']\n",
      "['END:VCARD']\n",
      "['BEGIN:VCARD']\n",
      "['VERSION:3.0']\n",
      "['N:Hussain;Atif;;;']\n",
      "['FN:Atif Hussain']\n",
      "['EMAIL;TYPE=INTERNET;TYPE=HOME:atifhussain.paki@gmail.com']\n",
      "['END:VCARD']\n",
      "['BEGIN:VCARD']\n",
      "['VERSION:3.0']\n",
      "['N:;Kamil;;;']\n",
      "['FN:Kamil']\n",
      "['EMAIL;TYPE=INTERNET;TYPE=HOME:malikkamil595@gmail.com']\n",
      "['END:VCARD']\n",
      "['BEGIN:VCARD']\n",
      "['VERSION:3.0']\n",
      "['N:Khan;Bilal;;;']\n",
      "['FN:Bilal Khan']\n",
      "['EMAIL;TYPE=INTERNET;TYPE=HOME:bilalbaloch4748@gmail.com']\n",
      "['END:VCARD']\n",
      "['BEGIN:VCARD']\n",
      "['VERSION:3.0']\n",
      "['N:;Leeza;;;']\n",
      "['FN:Leeza']\n",
      "['EMAIL;TYPE=INTERNET;TYPE=HOME:aleezayqadeer@gmail.com']\n",
      "['END:VCARD']\n",
      "['BEGIN:VCARD']\n",
      "['VERSION:3.0']\n",
      "['N:Mubeen;Urwa;;;']\n",
      "['FN:Urwa Mubeen']\n",
      "['EMAIL;TYPE=INTERNET;TYPE=HOME:urwaurwi0@gmail.com']\n",
      "['END:VCARD']\n",
      "['BEGIN:VCARD']\n",
      "['VERSION:3.0']\n",
      "['N:;Romi;;;']\n",
      "['FN:Romi']\n",
      "['EMAIL;TYPE=INTERNET;TYPE=HOME:romananawaz123@gmail.com']\n",
      "['END:VCARD']\n",
      "['BEGIN:VCARD']\n",
      "['VERSION:3.0']\n",
      "['N:;Shabbir;;;']\n",
      "['FN:Shabbir']\n",
      "['EMAIL;TYPE=INTERNET;TYPE=HOME:shabbirawan698@gmail.com']\n",
      "['END:VCARD']\n",
      "['BEGIN:VCARD']\n",
      "['VERSION:3.0']\n",
      "['N:Sundas;Zeba;;;']\n",
      "['FN:Zeba Sundas']\n",
      "['EMAIL;TYPE=INTERNET;TYPE=HOME:zebasundasbsit@gmail.com']\n",
      "['END:VCARD']\n"
     ]
    }
   ],
   "source": [
    "with open (\"contacts.csv\") as f:\n",
    "    read = csv.reader(f)\n",
    "    contacts = []\n",
    "    for i in read:\n",
    "        print(i)\n",
    "    "
   ]
  },
  {
   "cell_type": "code",
   "execution_count": 6,
   "metadata": {},
   "outputs": [],
   "source": [
    "f = open(\"contacts.csv\")\n",
    "read = csv.reader(f)\n",
    "contacts = list(read)\n",
    "f.close()"
   ]
  },
  {
   "cell_type": "code",
   "execution_count": 7,
   "metadata": {},
   "outputs": [
    {
     "data": {
      "text/plain": [
       "<_io.TextIOWrapper name='contacts.csv' mode='r' encoding='cp1252'>"
      ]
     },
     "execution_count": 7,
     "metadata": {},
     "output_type": "execute_result"
    }
   ],
   "source": [
    "f"
   ]
  },
  {
   "cell_type": "code",
   "execution_count": 8,
   "metadata": {},
   "outputs": [
    {
     "name": "stdout",
     "output_type": "stream",
     "text": [
      "<_io.TextIOWrapper name='contacts.csv' mode='r' encoding='cp1252'>\n"
     ]
    }
   ],
   "source": [
    "print(f)"
   ]
  },
  {
   "cell_type": "code",
   "execution_count": 9,
   "metadata": {},
   "outputs": [
    {
     "name": "stdout",
     "output_type": "stream",
     "text": [
      "<_csv.reader object at 0x000001C04427CCF8>\n"
     ]
    }
   ],
   "source": [
    "print(read)"
   ]
  },
  {
   "cell_type": "code",
   "execution_count": 10,
   "metadata": {},
   "outputs": [
    {
     "name": "stdout",
     "output_type": "stream",
     "text": [
      "[['BEGIN:VCARD'], ['VERSION:3.0'], ['N:Abbas;Waseem;;;'], ['FN:Waseem Abbas'], ['EMAIL;TYPE=INTERNET;TYPE=HOME:waseemabbas26272@gmail.com'], ['END:VCARD'], ['BEGIN:VCARD'], ['VERSION:3.0'], ['N:Ahsan;Noman;;;'], ['FN:Noman Ahsan'], ['EMAIL;TYPE=INTERNET;TYPE=HOME:nomanahsan4060@gmail.com'], ['END:VCARD'], ['BEGIN:VCARD'], ['VERSION:3.0'], ['N:AI;Sajid;;;'], ['FN:Sajid AI'], ['EMAIL;TYPE=INTERNET;TYPE=HOME:princesajid116@gmail.com'], ['END:VCARD'], ['BEGIN:VCARD'], ['VERSION:3.0'], ['N:Amjad;Manahil;;;'], ['FN:Manahil Amjad'], ['EMAIL;TYPE=INTERNET;TYPE=HOME:Lorealmalik@gmail.com'], ['END:VCARD'], ['BEGIN:VCARD'], ['VERSION:3.0'], ['N:Ansari;Hamza;;;'], ['FN:Hamza Ansari'], ['EMAIL;TYPE=INTERNET;TYPE=HOME:hamzaansari2076@gmail.com'], ['END:VCARD'], ['BEGIN:VCARD'], ['VERSION:3.0'], ['N:Aslam Maken;Muhammad Noman;;;'], ['FN:Muhammad Noman Aslam Maken'], ['EMAIL;TYPE=INTERNET;TYPE=HOME:mnomanaslam64@gmail.com'], ['END:VCARD'], ['BEGIN:VCARD'], ['VERSION:3.0'], ['N:;Dawood;;;'], ['FN:Dawood'], ['EMAIL;TYPE=INTERNET;TYPE=HOME:dawoodahmad048@gmail.com'], ['END:VCARD'], ['BEGIN:VCARD'], ['VERSION:3.0'], ['N:;Haroon;;;'], ['FN:Haroon'], ['EMAIL;TYPE=INTERNET;TYPE=HOME:bc190204185@vu.edu.pk'], ['END:VCARD'], ['BEGIN:VCARD'], ['VERSION:3.0'], ['N:Hussain;Atif;;;'], ['FN:Atif Hussain'], ['EMAIL;TYPE=INTERNET;TYPE=HOME:atifhussain.paki@gmail.com'], ['END:VCARD'], ['BEGIN:VCARD'], ['VERSION:3.0'], ['N:;Kamil;;;'], ['FN:Kamil'], ['EMAIL;TYPE=INTERNET;TYPE=HOME:malikkamil595@gmail.com'], ['END:VCARD'], ['BEGIN:VCARD'], ['VERSION:3.0'], ['N:Khan;Bilal;;;'], ['FN:Bilal Khan'], ['EMAIL;TYPE=INTERNET;TYPE=HOME:bilalbaloch4748@gmail.com'], ['END:VCARD'], ['BEGIN:VCARD'], ['VERSION:3.0'], ['N:;Leeza;;;'], ['FN:Leeza'], ['EMAIL;TYPE=INTERNET;TYPE=HOME:aleezayqadeer@gmail.com'], ['END:VCARD'], ['BEGIN:VCARD'], ['VERSION:3.0'], ['N:Mubeen;Urwa;;;'], ['FN:Urwa Mubeen'], ['EMAIL;TYPE=INTERNET;TYPE=HOME:urwaurwi0@gmail.com'], ['END:VCARD'], ['BEGIN:VCARD'], ['VERSION:3.0'], ['N:;Romi;;;'], ['FN:Romi'], ['EMAIL;TYPE=INTERNET;TYPE=HOME:romananawaz123@gmail.com'], ['END:VCARD'], ['BEGIN:VCARD'], ['VERSION:3.0'], ['N:;Shabbir;;;'], ['FN:Shabbir'], ['EMAIL;TYPE=INTERNET;TYPE=HOME:shabbirawan698@gmail.com'], ['END:VCARD'], ['BEGIN:VCARD'], ['VERSION:3.0'], ['N:Sundas;Zeba;;;'], ['FN:Zeba Sundas'], ['EMAIL;TYPE=INTERNET;TYPE=HOME:zebasundasbsit@gmail.com'], ['END:VCARD']]\n"
     ]
    }
   ],
   "source": [
    "print(contacts)"
   ]
  },
  {
   "cell_type": "code",
   "execution_count": 11,
   "metadata": {},
   "outputs": [
    {
     "data": {
      "text/plain": [
       "[[['BEGIN:VCARD'],\n",
       "  ['VERSION:3.0'],\n",
       "  ['N:Abbas;Waseem;;;'],\n",
       "  ['FN:Waseem Abbas'],\n",
       "  ['EMAIL;TYPE=INTERNET;TYPE=HOME:waseemabbas26272@gmail.com'],\n",
       "  ['END:VCARD'],\n",
       "  ['BEGIN:VCARD'],\n",
       "  ['VERSION:3.0'],\n",
       "  ['N:Ahsan;Noman;;;'],\n",
       "  ['FN:Noman Ahsan'],\n",
       "  ['EMAIL;TYPE=INTERNET;TYPE=HOME:nomanahsan4060@gmail.com'],\n",
       "  ['END:VCARD'],\n",
       "  ['BEGIN:VCARD'],\n",
       "  ['VERSION:3.0'],\n",
       "  ['N:AI;Sajid;;;'],\n",
       "  ['FN:Sajid AI'],\n",
       "  ['EMAIL;TYPE=INTERNET;TYPE=HOME:princesajid116@gmail.com'],\n",
       "  ['END:VCARD'],\n",
       "  ['BEGIN:VCARD'],\n",
       "  ['VERSION:3.0'],\n",
       "  ['N:Amjad;Manahil;;;'],\n",
       "  ['FN:Manahil Amjad'],\n",
       "  ['EMAIL;TYPE=INTERNET;TYPE=HOME:Lorealmalik@gmail.com'],\n",
       "  ['END:VCARD'],\n",
       "  ['BEGIN:VCARD'],\n",
       "  ['VERSION:3.0'],\n",
       "  ['N:Ansari;Hamza;;;'],\n",
       "  ['FN:Hamza Ansari'],\n",
       "  ['EMAIL;TYPE=INTERNET;TYPE=HOME:hamzaansari2076@gmail.com'],\n",
       "  ['END:VCARD'],\n",
       "  ['BEGIN:VCARD'],\n",
       "  ['VERSION:3.0'],\n",
       "  ['N:Aslam Maken;Muhammad Noman;;;'],\n",
       "  ['FN:Muhammad Noman Aslam Maken'],\n",
       "  ['EMAIL;TYPE=INTERNET;TYPE=HOME:mnomanaslam64@gmail.com'],\n",
       "  ['END:VCARD'],\n",
       "  ['BEGIN:VCARD'],\n",
       "  ['VERSION:3.0'],\n",
       "  ['N:;Dawood;;;'],\n",
       "  ['FN:Dawood'],\n",
       "  ['EMAIL;TYPE=INTERNET;TYPE=HOME:dawoodahmad048@gmail.com'],\n",
       "  ['END:VCARD'],\n",
       "  ['BEGIN:VCARD'],\n",
       "  ['VERSION:3.0'],\n",
       "  ['N:;Haroon;;;'],\n",
       "  ['FN:Haroon'],\n",
       "  ['EMAIL;TYPE=INTERNET;TYPE=HOME:bc190204185@vu.edu.pk'],\n",
       "  ['END:VCARD'],\n",
       "  ['BEGIN:VCARD'],\n",
       "  ['VERSION:3.0'],\n",
       "  ['N:Hussain;Atif;;;'],\n",
       "  ['FN:Atif Hussain'],\n",
       "  ['EMAIL;TYPE=INTERNET;TYPE=HOME:atifhussain.paki@gmail.com'],\n",
       "  ['END:VCARD'],\n",
       "  ['BEGIN:VCARD'],\n",
       "  ['VERSION:3.0'],\n",
       "  ['N:;Kamil;;;'],\n",
       "  ['FN:Kamil'],\n",
       "  ['EMAIL;TYPE=INTERNET;TYPE=HOME:malikkamil595@gmail.com'],\n",
       "  ['END:VCARD'],\n",
       "  ['BEGIN:VCARD'],\n",
       "  ['VERSION:3.0'],\n",
       "  ['N:Khan;Bilal;;;'],\n",
       "  ['FN:Bilal Khan'],\n",
       "  ['EMAIL;TYPE=INTERNET;TYPE=HOME:bilalbaloch4748@gmail.com'],\n",
       "  ['END:VCARD'],\n",
       "  ['BEGIN:VCARD'],\n",
       "  ['VERSION:3.0'],\n",
       "  ['N:;Leeza;;;'],\n",
       "  ['FN:Leeza'],\n",
       "  ['EMAIL;TYPE=INTERNET;TYPE=HOME:aleezayqadeer@gmail.com'],\n",
       "  ['END:VCARD'],\n",
       "  ['BEGIN:VCARD'],\n",
       "  ['VERSION:3.0'],\n",
       "  ['N:Mubeen;Urwa;;;'],\n",
       "  ['FN:Urwa Mubeen'],\n",
       "  ['EMAIL;TYPE=INTERNET;TYPE=HOME:urwaurwi0@gmail.com'],\n",
       "  ['END:VCARD'],\n",
       "  ['BEGIN:VCARD'],\n",
       "  ['VERSION:3.0'],\n",
       "  ['N:;Romi;;;'],\n",
       "  ['FN:Romi'],\n",
       "  ['EMAIL;TYPE=INTERNET;TYPE=HOME:romananawaz123@gmail.com'],\n",
       "  ['END:VCARD'],\n",
       "  ['BEGIN:VCARD'],\n",
       "  ['VERSION:3.0'],\n",
       "  ['N:;Shabbir;;;'],\n",
       "  ['FN:Shabbir'],\n",
       "  ['EMAIL;TYPE=INTERNET;TYPE=HOME:shabbirawan698@gmail.com'],\n",
       "  ['END:VCARD'],\n",
       "  ['BEGIN:VCARD'],\n",
       "  ['VERSION:3.0'],\n",
       "  ['N:Sundas;Zeba;;;'],\n",
       "  ['FN:Zeba Sundas'],\n",
       "  ['EMAIL;TYPE=INTERNET;TYPE=HOME:zebasundasbsit@gmail.com'],\n",
       "  ['END:VCARD']]]"
      ]
     },
     "execution_count": 11,
     "metadata": {},
     "output_type": "execute_result"
    }
   ],
   "source": [
    "[contacts]"
   ]
  },
  {
   "cell_type": "code",
   "execution_count": 12,
   "metadata": {},
   "outputs": [
    {
     "data": {
      "text/plain": [
       "[['BEGIN:VCARD'],\n",
       " ['VERSION:3.0'],\n",
       " ['N:Abbas;Waseem;;;'],\n",
       " ['FN:Waseem Abbas'],\n",
       " ['EMAIL;TYPE=INTERNET;TYPE=HOME:waseemabbas26272@gmail.com'],\n",
       " ['END:VCARD'],\n",
       " ['BEGIN:VCARD'],\n",
       " ['VERSION:3.0'],\n",
       " ['N:Ahsan;Noman;;;'],\n",
       " ['FN:Noman Ahsan'],\n",
       " ['EMAIL;TYPE=INTERNET;TYPE=HOME:nomanahsan4060@gmail.com'],\n",
       " ['END:VCARD'],\n",
       " ['BEGIN:VCARD'],\n",
       " ['VERSION:3.0'],\n",
       " ['N:AI;Sajid;;;'],\n",
       " ['FN:Sajid AI'],\n",
       " ['EMAIL;TYPE=INTERNET;TYPE=HOME:princesajid116@gmail.com'],\n",
       " ['END:VCARD'],\n",
       " ['BEGIN:VCARD'],\n",
       " ['VERSION:3.0'],\n",
       " ['N:Amjad;Manahil;;;'],\n",
       " ['FN:Manahil Amjad'],\n",
       " ['EMAIL;TYPE=INTERNET;TYPE=HOME:Lorealmalik@gmail.com'],\n",
       " ['END:VCARD'],\n",
       " ['BEGIN:VCARD'],\n",
       " ['VERSION:3.0'],\n",
       " ['N:Ansari;Hamza;;;'],\n",
       " ['FN:Hamza Ansari'],\n",
       " ['EMAIL;TYPE=INTERNET;TYPE=HOME:hamzaansari2076@gmail.com'],\n",
       " ['END:VCARD'],\n",
       " ['BEGIN:VCARD'],\n",
       " ['VERSION:3.0'],\n",
       " ['N:Aslam Maken;Muhammad Noman;;;'],\n",
       " ['FN:Muhammad Noman Aslam Maken'],\n",
       " ['EMAIL;TYPE=INTERNET;TYPE=HOME:mnomanaslam64@gmail.com'],\n",
       " ['END:VCARD'],\n",
       " ['BEGIN:VCARD'],\n",
       " ['VERSION:3.0'],\n",
       " ['N:;Dawood;;;'],\n",
       " ['FN:Dawood'],\n",
       " ['EMAIL;TYPE=INTERNET;TYPE=HOME:dawoodahmad048@gmail.com'],\n",
       " ['END:VCARD'],\n",
       " ['BEGIN:VCARD'],\n",
       " ['VERSION:3.0'],\n",
       " ['N:;Haroon;;;'],\n",
       " ['FN:Haroon'],\n",
       " ['EMAIL;TYPE=INTERNET;TYPE=HOME:bc190204185@vu.edu.pk'],\n",
       " ['END:VCARD'],\n",
       " ['BEGIN:VCARD'],\n",
       " ['VERSION:3.0'],\n",
       " ['N:Hussain;Atif;;;'],\n",
       " ['FN:Atif Hussain'],\n",
       " ['EMAIL;TYPE=INTERNET;TYPE=HOME:atifhussain.paki@gmail.com'],\n",
       " ['END:VCARD'],\n",
       " ['BEGIN:VCARD'],\n",
       " ['VERSION:3.0'],\n",
       " ['N:;Kamil;;;'],\n",
       " ['FN:Kamil'],\n",
       " ['EMAIL;TYPE=INTERNET;TYPE=HOME:malikkamil595@gmail.com'],\n",
       " ['END:VCARD'],\n",
       " ['BEGIN:VCARD'],\n",
       " ['VERSION:3.0'],\n",
       " ['N:Khan;Bilal;;;'],\n",
       " ['FN:Bilal Khan'],\n",
       " ['EMAIL;TYPE=INTERNET;TYPE=HOME:bilalbaloch4748@gmail.com'],\n",
       " ['END:VCARD'],\n",
       " ['BEGIN:VCARD'],\n",
       " ['VERSION:3.0'],\n",
       " ['N:;Leeza;;;'],\n",
       " ['FN:Leeza'],\n",
       " ['EMAIL;TYPE=INTERNET;TYPE=HOME:aleezayqadeer@gmail.com'],\n",
       " ['END:VCARD'],\n",
       " ['BEGIN:VCARD'],\n",
       " ['VERSION:3.0'],\n",
       " ['N:Mubeen;Urwa;;;'],\n",
       " ['FN:Urwa Mubeen'],\n",
       " ['EMAIL;TYPE=INTERNET;TYPE=HOME:urwaurwi0@gmail.com'],\n",
       " ['END:VCARD'],\n",
       " ['BEGIN:VCARD'],\n",
       " ['VERSION:3.0'],\n",
       " ['N:;Romi;;;'],\n",
       " ['FN:Romi'],\n",
       " ['EMAIL;TYPE=INTERNET;TYPE=HOME:romananawaz123@gmail.com'],\n",
       " ['END:VCARD'],\n",
       " ['BEGIN:VCARD'],\n",
       " ['VERSION:3.0'],\n",
       " ['N:;Shabbir;;;'],\n",
       " ['FN:Shabbir'],\n",
       " ['EMAIL;TYPE=INTERNET;TYPE=HOME:shabbirawan698@gmail.com'],\n",
       " ['END:VCARD'],\n",
       " ['BEGIN:VCARD'],\n",
       " ['VERSION:3.0'],\n",
       " ['N:Sundas;Zeba;;;'],\n",
       " ['FN:Zeba Sundas'],\n",
       " ['EMAIL;TYPE=INTERNET;TYPE=HOME:zebasundasbsit@gmail.com'],\n",
       " ['END:VCARD']]"
      ]
     },
     "execution_count": 12,
     "metadata": {},
     "output_type": "execute_result"
    }
   ],
   "source": [
    "(contacts)"
   ]
  },
  {
   "cell_type": "code",
   "execution_count": 13,
   "metadata": {},
   "outputs": [
    {
     "data": {
      "text/plain": [
       "[['BEGIN:VCARD'],\n",
       " ['VERSION:3.0'],\n",
       " ['N:Abbas;Waseem;;;'],\n",
       " ['FN:Waseem Abbas'],\n",
       " ['EMAIL;TYPE=INTERNET;TYPE=HOME:waseemabbas26272@gmail.com'],\n",
       " ['END:VCARD'],\n",
       " ['BEGIN:VCARD'],\n",
       " ['VERSION:3.0'],\n",
       " ['N:Ahsan;Noman;;;'],\n",
       " ['FN:Noman Ahsan'],\n",
       " ['EMAIL;TYPE=INTERNET;TYPE=HOME:nomanahsan4060@gmail.com'],\n",
       " ['END:VCARD'],\n",
       " ['BEGIN:VCARD'],\n",
       " ['VERSION:3.0'],\n",
       " ['N:AI;Sajid;;;'],\n",
       " ['FN:Sajid AI'],\n",
       " ['EMAIL;TYPE=INTERNET;TYPE=HOME:princesajid116@gmail.com'],\n",
       " ['END:VCARD'],\n",
       " ['BEGIN:VCARD'],\n",
       " ['VERSION:3.0'],\n",
       " ['N:Amjad;Manahil;;;'],\n",
       " ['FN:Manahil Amjad'],\n",
       " ['EMAIL;TYPE=INTERNET;TYPE=HOME:Lorealmalik@gmail.com'],\n",
       " ['END:VCARD'],\n",
       " ['BEGIN:VCARD'],\n",
       " ['VERSION:3.0'],\n",
       " ['N:Ansari;Hamza;;;'],\n",
       " ['FN:Hamza Ansari'],\n",
       " ['EMAIL;TYPE=INTERNET;TYPE=HOME:hamzaansari2076@gmail.com'],\n",
       " ['END:VCARD'],\n",
       " ['BEGIN:VCARD'],\n",
       " ['VERSION:3.0'],\n",
       " ['N:Aslam Maken;Muhammad Noman;;;'],\n",
       " ['FN:Muhammad Noman Aslam Maken'],\n",
       " ['EMAIL;TYPE=INTERNET;TYPE=HOME:mnomanaslam64@gmail.com'],\n",
       " ['END:VCARD'],\n",
       " ['BEGIN:VCARD'],\n",
       " ['VERSION:3.0'],\n",
       " ['N:;Dawood;;;'],\n",
       " ['FN:Dawood'],\n",
       " ['EMAIL;TYPE=INTERNET;TYPE=HOME:dawoodahmad048@gmail.com'],\n",
       " ['END:VCARD'],\n",
       " ['BEGIN:VCARD'],\n",
       " ['VERSION:3.0'],\n",
       " ['N:;Haroon;;;'],\n",
       " ['FN:Haroon'],\n",
       " ['EMAIL;TYPE=INTERNET;TYPE=HOME:bc190204185@vu.edu.pk'],\n",
       " ['END:VCARD'],\n",
       " ['BEGIN:VCARD'],\n",
       " ['VERSION:3.0'],\n",
       " ['N:Hussain;Atif;;;'],\n",
       " ['FN:Atif Hussain'],\n",
       " ['EMAIL;TYPE=INTERNET;TYPE=HOME:atifhussain.paki@gmail.com'],\n",
       " ['END:VCARD'],\n",
       " ['BEGIN:VCARD'],\n",
       " ['VERSION:3.0'],\n",
       " ['N:;Kamil;;;'],\n",
       " ['FN:Kamil'],\n",
       " ['EMAIL;TYPE=INTERNET;TYPE=HOME:malikkamil595@gmail.com'],\n",
       " ['END:VCARD'],\n",
       " ['BEGIN:VCARD'],\n",
       " ['VERSION:3.0'],\n",
       " ['N:Khan;Bilal;;;'],\n",
       " ['FN:Bilal Khan'],\n",
       " ['EMAIL;TYPE=INTERNET;TYPE=HOME:bilalbaloch4748@gmail.com'],\n",
       " ['END:VCARD'],\n",
       " ['BEGIN:VCARD'],\n",
       " ['VERSION:3.0'],\n",
       " ['N:;Leeza;;;'],\n",
       " ['FN:Leeza'],\n",
       " ['EMAIL;TYPE=INTERNET;TYPE=HOME:aleezayqadeer@gmail.com'],\n",
       " ['END:VCARD'],\n",
       " ['BEGIN:VCARD'],\n",
       " ['VERSION:3.0'],\n",
       " ['N:Mubeen;Urwa;;;'],\n",
       " ['FN:Urwa Mubeen'],\n",
       " ['EMAIL;TYPE=INTERNET;TYPE=HOME:urwaurwi0@gmail.com'],\n",
       " ['END:VCARD'],\n",
       " ['BEGIN:VCARD'],\n",
       " ['VERSION:3.0'],\n",
       " ['N:;Romi;;;'],\n",
       " ['FN:Romi'],\n",
       " ['EMAIL;TYPE=INTERNET;TYPE=HOME:romananawaz123@gmail.com'],\n",
       " ['END:VCARD'],\n",
       " ['BEGIN:VCARD'],\n",
       " ['VERSION:3.0'],\n",
       " ['N:;Shabbir;;;'],\n",
       " ['FN:Shabbir'],\n",
       " ['EMAIL;TYPE=INTERNET;TYPE=HOME:shabbirawan698@gmail.com'],\n",
       " ['END:VCARD'],\n",
       " ['BEGIN:VCARD'],\n",
       " ['VERSION:3.0'],\n",
       " ['N:Sundas;Zeba;;;'],\n",
       " ['FN:Zeba Sundas'],\n",
       " ['EMAIL;TYPE=INTERNET;TYPE=HOME:zebasundasbsit@gmail.com'],\n",
       " ['END:VCARD']]"
      ]
     },
     "execution_count": 13,
     "metadata": {},
     "output_type": "execute_result"
    }
   ],
   "source": [
    "contacts"
   ]
  },
  {
   "cell_type": "code",
   "execution_count": 14,
   "metadata": {},
   "outputs": [
    {
     "name": "stdout",
     "output_type": "stream",
     "text": [
      "['BEGIN:VCARD']\n",
      "['VERSION:3.0']\n",
      "['N:Abbas;Waseem;;;']\n",
      "['FN:Waseem Abbas']\n",
      "['EMAIL;TYPE=INTERNET;TYPE=HOME:waseemabbas26272@gmail.com']\n",
      "['END:VCARD']\n",
      "['BEGIN:VCARD']\n",
      "['VERSION:3.0']\n",
      "['N:Ahsan;Noman;;;']\n",
      "['FN:Noman Ahsan']\n",
      "['EMAIL;TYPE=INTERNET;TYPE=HOME:nomanahsan4060@gmail.com']\n",
      "['END:VCARD']\n",
      "['BEGIN:VCARD']\n",
      "['VERSION:3.0']\n",
      "['N:AI;Sajid;;;']\n",
      "['FN:Sajid AI']\n",
      "['EMAIL;TYPE=INTERNET;TYPE=HOME:princesajid116@gmail.com']\n",
      "['END:VCARD']\n",
      "['BEGIN:VCARD']\n",
      "['VERSION:3.0']\n",
      "['N:Amjad;Manahil;;;']\n",
      "['FN:Manahil Amjad']\n",
      "['EMAIL;TYPE=INTERNET;TYPE=HOME:Lorealmalik@gmail.com']\n",
      "['END:VCARD']\n",
      "['BEGIN:VCARD']\n",
      "['VERSION:3.0']\n",
      "['N:Ansari;Hamza;;;']\n",
      "['FN:Hamza Ansari']\n",
      "['EMAIL;TYPE=INTERNET;TYPE=HOME:hamzaansari2076@gmail.com']\n",
      "['END:VCARD']\n",
      "['BEGIN:VCARD']\n",
      "['VERSION:3.0']\n",
      "['N:Aslam Maken;Muhammad Noman;;;']\n",
      "['FN:Muhammad Noman Aslam Maken']\n",
      "['EMAIL;TYPE=INTERNET;TYPE=HOME:mnomanaslam64@gmail.com']\n",
      "['END:VCARD']\n",
      "['BEGIN:VCARD']\n",
      "['VERSION:3.0']\n",
      "['N:;Dawood;;;']\n",
      "['FN:Dawood']\n",
      "['EMAIL;TYPE=INTERNET;TYPE=HOME:dawoodahmad048@gmail.com']\n",
      "['END:VCARD']\n",
      "['BEGIN:VCARD']\n",
      "['VERSION:3.0']\n",
      "['N:;Haroon;;;']\n",
      "['FN:Haroon']\n",
      "['EMAIL;TYPE=INTERNET;TYPE=HOME:bc190204185@vu.edu.pk']\n",
      "['END:VCARD']\n",
      "['BEGIN:VCARD']\n",
      "['VERSION:3.0']\n",
      "['N:Hussain;Atif;;;']\n",
      "['FN:Atif Hussain']\n",
      "['EMAIL;TYPE=INTERNET;TYPE=HOME:atifhussain.paki@gmail.com']\n",
      "['END:VCARD']\n",
      "['BEGIN:VCARD']\n",
      "['VERSION:3.0']\n",
      "['N:;Kamil;;;']\n",
      "['FN:Kamil']\n",
      "['EMAIL;TYPE=INTERNET;TYPE=HOME:malikkamil595@gmail.com']\n",
      "['END:VCARD']\n",
      "['BEGIN:VCARD']\n",
      "['VERSION:3.0']\n",
      "['N:Khan;Bilal;;;']\n",
      "['FN:Bilal Khan']\n",
      "['EMAIL;TYPE=INTERNET;TYPE=HOME:bilalbaloch4748@gmail.com']\n",
      "['END:VCARD']\n",
      "['BEGIN:VCARD']\n",
      "['VERSION:3.0']\n",
      "['N:;Leeza;;;']\n",
      "['FN:Leeza']\n",
      "['EMAIL;TYPE=INTERNET;TYPE=HOME:aleezayqadeer@gmail.com']\n",
      "['END:VCARD']\n",
      "['BEGIN:VCARD']\n",
      "['VERSION:3.0']\n",
      "['N:Mubeen;Urwa;;;']\n",
      "['FN:Urwa Mubeen']\n",
      "['EMAIL;TYPE=INTERNET;TYPE=HOME:urwaurwi0@gmail.com']\n",
      "['END:VCARD']\n",
      "['BEGIN:VCARD']\n",
      "['VERSION:3.0']\n",
      "['N:;Romi;;;']\n",
      "['FN:Romi']\n",
      "['EMAIL;TYPE=INTERNET;TYPE=HOME:romananawaz123@gmail.com']\n",
      "['END:VCARD']\n",
      "['BEGIN:VCARD']\n",
      "['VERSION:3.0']\n",
      "['N:;Shabbir;;;']\n",
      "['FN:Shabbir']\n",
      "['EMAIL;TYPE=INTERNET;TYPE=HOME:shabbirawan698@gmail.com']\n",
      "['END:VCARD']\n",
      "['BEGIN:VCARD']\n",
      "['VERSION:3.0']\n",
      "['N:Sundas;Zeba;;;']\n",
      "['FN:Zeba Sundas']\n",
      "['EMAIL;TYPE=INTERNET;TYPE=HOME:zebasundasbsit@gmail.com']\n",
      "['END:VCARD']\n"
     ]
    }
   ],
   "source": [
    "with open (\"contacts.csv\") as f:\n",
    "    read = csv.reader(f)\n",
    "    contacts = []\n",
    "    for i in read:\n",
    "        print(i)\n",
    "    "
   ]
  },
  {
   "cell_type": "code",
   "execution_count": 15,
   "metadata": {},
   "outputs": [
    {
     "name": "stdout",
     "output_type": "stream",
     "text": [
      "ner.instance_.gameOver = function(){};\n"
     ]
    }
   ],
   "source": [
    "with open(\"game.txt\") as f:\n",
    "    print(f.read())"
   ]
  },
  {
   "cell_type": "code",
   "execution_count": 16,
   "metadata": {},
   "outputs": [
    {
     "name": "stdout",
     "output_type": "stream",
     "text": [
      "game\n"
     ]
    }
   ],
   "source": [
    "print(\"game\")"
   ]
  },
  {
   "cell_type": "code",
   "execution_count": 17,
   "metadata": {},
   "outputs": [
    {
     "name": "stdout",
     "output_type": "stream",
     "text": [
      "<_io.TextIOWrapper name='game.txt' mode='r' encoding='cp1252'>\n"
     ]
    }
   ],
   "source": [
    "print(f)"
   ]
  },
  {
   "cell_type": "code",
   "execution_count": 18,
   "metadata": {},
   "outputs": [],
   "source": [
    "with open(\"saylani.csv\", \"w\", newline = \"\") as file:\n",
    "    w = csv.writer(file,delimiter = \",\")\n",
    "    w.writerow([\"Name\", \"Roll No\", \"Course\"])\n",
    "    w.writerow([\"Noman\", \"PIAIC\" , \"AI\"])"
   ]
  },
  {
   "cell_type": "code",
   "execution_count": 19,
   "metadata": {},
   "outputs": [],
   "source": [
    "with open(\"saylani.csv\", \"w\", newline = \"\") as file:\n",
    "    w = csv.writer(file,delimiter = \",\")\n",
    "    w.writerow([\"Name\", \"Roll No\", \"Course\"])\n",
    "    w.writerow([\"Noman\", \"PIAIC\" , \"AI\"])"
   ]
  },
  {
   "cell_type": "markdown",
   "metadata": {},
   "source": [
    "with open(\"saylani.csv\", \"w\", newline = \"\") as file:\n",
    "    w = csv.writer(file,delimiter = \",\")\n",
    "    w.writerow([\"Razaq\", \"Roll No\", \"Course\"])\n",
    "    w.writerow([\"Noman\", \"PIAIC\" , \"AI\"])  \n",
    "    \n",
    "    Agr hum u likhe to vo overwrite hojae ga"
   ]
  },
  {
   "cell_type": "code",
   "execution_count": 20,
   "metadata": {},
   "outputs": [
    {
     "name": "stdout",
     "output_type": "stream",
     "text": [
      "['Name', 'Roll No', 'Course']\n",
      "['Noman', 'PIAIC', 'AI']\n"
     ]
    }
   ],
   "source": [
    "with open (\"saylani.csv\") as f:\n",
    "    read = csv.reader(f)\n",
    "    saylani = []\n",
    "    for i in read:\n",
    "        print(i)\n",
    "    "
   ]
  },
  {
   "cell_type": "code",
   "execution_count": 21,
   "metadata": {},
   "outputs": [
    {
     "data": {
      "text/plain": [
       "'m'"
      ]
     },
     "execution_count": 21,
     "metadata": {},
     "output_type": "execute_result"
    }
   ],
   "source": [
    "i[0][2]"
   ]
  },
  {
   "cell_type": "code",
   "execution_count": 22,
   "metadata": {},
   "outputs": [
    {
     "data": {
      "text/plain": [
       "['Noman', 'PIAIC', 'AI']"
      ]
     },
     "execution_count": 22,
     "metadata": {},
     "output_type": "execute_result"
    }
   ],
   "source": [
    "i"
   ]
  },
  {
   "cell_type": "code",
   "execution_count": 23,
   "metadata": {},
   "outputs": [
    {
     "data": {
      "text/plain": [
       "[1, 2, 3, 4, 5, 6, 7, 8]"
      ]
     },
     "execution_count": 23,
     "metadata": {},
     "output_type": "execute_result"
    }
   ],
   "source": [
    "[1,2,3,4,5]+[6,7,8]"
   ]
  },
  {
   "cell_type": "markdown",
   "metadata": {},
   "source": [
    "# JSON"
   ]
  },
  {
   "cell_type": "code",
   "execution_count": 24,
   "metadata": {},
   "outputs": [],
   "source": [
    "lst = [1, 2, 3]\n",
    "import json\n",
    "\n",
    "with open(\"Noman.json\", \"w\") as f:\n",
    "    json.dump(lst, f)\n",
    "    "
   ]
  },
  {
   "cell_type": "code",
   "execution_count": 25,
   "metadata": {},
   "outputs": [],
   "source": [
    "with open(\"Noman.json\") as f:\n",
    "    data = json.load(f)"
   ]
  },
  {
   "cell_type": "code",
   "execution_count": 26,
   "metadata": {},
   "outputs": [
    {
     "ename": "IndentationError",
     "evalue": "unexpected indent (<ipython-input-26-a23cae7a8f4d>, line 2)",
     "output_type": "error",
     "traceback": [
      "\u001b[1;36m  File \u001b[1;32m\"<ipython-input-26-a23cae7a8f4d>\"\u001b[1;36m, line \u001b[1;32m2\u001b[0m\n\u001b[1;33m    with open(\"new.json\", \"w\" ) as z:\u001b[0m\n\u001b[1;37m    ^\u001b[0m\n\u001b[1;31mIndentationError\u001b[0m\u001b[1;31m:\u001b[0m unexpected indent\n"
     ]
    }
   ],
   "source": [
    "dictionary = {\"Name\":\"Noman\", \"Cource\":\"A.I\"}\n",
    "    with open(\"new.json\", \"w\" ) as z:\n",
    "        json.dump(dictionary,z)"
   ]
  },
  {
   "cell_type": "markdown",
   "metadata": {},
   "source": [
    "# Try and Except"
   ]
  },
  {
   "cell_type": "code",
   "execution_count": 27,
   "metadata": {},
   "outputs": [
    {
     "data": {
      "text/plain": [
       "2.5"
      ]
     },
     "execution_count": 27,
     "metadata": {},
     "output_type": "execute_result"
    }
   ],
   "source": [
    "5/2"
   ]
  },
  {
   "cell_type": "code",
   "execution_count": 28,
   "metadata": {},
   "outputs": [],
   "source": [
    "# 0 divison run time error hota ha"
   ]
  },
  {
   "cell_type": "code",
   "execution_count": 29,
   "metadata": {},
   "outputs": [
    {
     "ename": "FileNotFoundError",
     "evalue": "[Errno 2] No such file or directory: 'wrong.txt'",
     "output_type": "error",
     "traceback": [
      "\u001b[1;31m---------------------------------------------------------------------------\u001b[0m",
      "\u001b[1;31mFileNotFoundError\u001b[0m                         Traceback (most recent call last)",
      "\u001b[1;32m<ipython-input-29-cff12f22a31d>\u001b[0m in \u001b[0;36m<module>\u001b[1;34m\u001b[0m\n\u001b[1;32m----> 1\u001b[1;33m \u001b[1;32mwith\u001b[0m \u001b[0mopen\u001b[0m\u001b[1;33m(\u001b[0m\u001b[1;34m\"wrong.txt\"\u001b[0m\u001b[1;33m)\u001b[0m \u001b[1;32mas\u001b[0m \u001b[0mf\u001b[0m\u001b[1;33m:\u001b[0m\u001b[1;33m\u001b[0m\u001b[1;33m\u001b[0m\u001b[0m\n\u001b[0m\u001b[0;32m      2\u001b[0m     \u001b[0mprint\u001b[0m\u001b[1;33m(\u001b[0m\u001b[0mf\u001b[0m\u001b[1;33m.\u001b[0m\u001b[0mread\u001b[0m\u001b[1;33m(\u001b[0m\u001b[1;33m)\u001b[0m\u001b[1;33m)\u001b[0m\u001b[1;33m\u001b[0m\u001b[1;33m\u001b[0m\u001b[0m\n\u001b[0;32m      3\u001b[0m \u001b[1;33m\u001b[0m\u001b[0m\n\u001b[0;32m      4\u001b[0m     \u001b[1;31m# file not found error aae ga ye run time error hota ha jb file not found hogi\u001b[0m\u001b[1;33m\u001b[0m\u001b[1;33m\u001b[0m\u001b[1;33m\u001b[0m\u001b[0m\n",
      "\u001b[1;31mFileNotFoundError\u001b[0m: [Errno 2] No such file or directory: 'wrong.txt'"
     ]
    }
   ],
   "source": [
    "with open(\"wrong.txt\") as f:\n",
    "    print(f.read())\n",
    "    \n",
    "    # file not found error aae ga ye run time error hota ha jb file not found hogi"
   ]
  },
  {
   "cell_type": "code",
   "execution_count": 30,
   "metadata": {},
   "outputs": [
    {
     "name": "stdout",
     "output_type": "stream",
     "text": [
      "Please enter value3\n"
     ]
    },
    {
     "data": {
      "text/plain": [
       "1.6666666666666667"
      ]
     },
     "execution_count": 30,
     "metadata": {},
     "output_type": "execute_result"
    }
   ],
   "source": [
    "5/int(input(\"Please enter value\"))"
   ]
  },
  {
   "cell_type": "code",
   "execution_count": 31,
   "metadata": {},
   "outputs": [
    {
     "name": "stdout",
     "output_type": "stream",
     "text": [
      "Please enter value0\n"
     ]
    },
    {
     "ename": "ZeroDivisionError",
     "evalue": "division by zero",
     "output_type": "error",
     "traceback": [
      "\u001b[1;31m---------------------------------------------------------------------------\u001b[0m",
      "\u001b[1;31mZeroDivisionError\u001b[0m                         Traceback (most recent call last)",
      "\u001b[1;32m<ipython-input-31-755bafec4ac6>\u001b[0m in \u001b[0;36m<module>\u001b[1;34m\u001b[0m\n\u001b[1;32m----> 1\u001b[1;33m \u001b[1;36m5\u001b[0m\u001b[1;33m/\u001b[0m\u001b[0mint\u001b[0m\u001b[1;33m(\u001b[0m\u001b[0minput\u001b[0m\u001b[1;33m(\u001b[0m\u001b[1;34m\"Please enter value\"\u001b[0m\u001b[1;33m)\u001b[0m\u001b[1;33m)\u001b[0m\u001b[1;33m\u001b[0m\u001b[1;33m\u001b[0m\u001b[0m\n\u001b[0m\u001b[0;32m      2\u001b[0m \u001b[1;31m# agr 0 hoto run time error hoga\u001b[0m\u001b[1;33m\u001b[0m\u001b[1;33m\u001b[0m\u001b[1;33m\u001b[0m\u001b[0m\n",
      "\u001b[1;31mZeroDivisionError\u001b[0m: division by zero"
     ]
    }
   ],
   "source": [
    "5/int(input(\"Please enter value\")) \n",
    "# agr 0 hoto run time error hoga"
   ]
  },
  {
   "cell_type": "code",
   "execution_count": 32,
   "metadata": {},
   "outputs": [
    {
     "name": "stdout",
     "output_type": "stream",
     "text": [
      "You can not divided by zero\n"
     ]
    }
   ],
   "source": [
    "try:\n",
    "    print(5/0)\n",
    "except ZeroDivisionError:\n",
    "        print(\"You can not divided by zero\")"
   ]
  },
  {
   "cell_type": "code",
   "execution_count": 33,
   "metadata": {},
   "outputs": [
    {
     "name": "stdout",
     "output_type": "stream",
     "text": [
      "Please enter value4\n",
      "1.25\n"
     ]
    }
   ],
   "source": [
    "try:\n",
    "    print(5/int(input(\"Please enter value\")))\n",
    "except ZeroDivisionError:\n",
    "        print(\"You can not divided by zero\")"
   ]
  },
  {
   "cell_type": "code",
   "execution_count": 34,
   "metadata": {},
   "outputs": [
    {
     "name": "stdout",
     "output_type": "stream",
     "text": [
      "Please enter value2\n",
      "0.5\n"
     ]
    }
   ],
   "source": [
    "try:\n",
    "    print(5/5/int(input(\"Please enter value\")))\n",
    "except ZeroDivisionError:\n",
    "        print(\"You can not divided by zero\")"
   ]
  },
  {
   "cell_type": "code",
   "execution_count": 41,
   "metadata": {},
   "outputs": [
    {
     "name": "stdout",
     "output_type": "stream",
     "text": [
      "Please enter value6\n",
      "0.8333333333333334\n"
     ]
    }
   ],
   "source": [
    "try:\n",
    "    print(5/int(input(\"Please enter value\")))\n",
    "except ZeroDivisionError:\n",
    "        print(\"You can not divided by zero\")"
   ]
  },
  {
   "cell_type": "code",
   "execution_count": 43,
   "metadata": {},
   "outputs": [
    {
     "name": "stdout",
     "output_type": "stream",
     "text": [
      "Please enter value0\n",
      "You can not divided by zero\n"
     ]
    }
   ],
   "source": [
    "try:\n",
    "    print(5/int(input(\"Please enter value\")))\n",
    "except ZeroDivisionError:\n",
    "        print(\"You can not divided by zero\")"
   ]
  },
  {
   "cell_type": "code",
   "execution_count": 60,
   "metadata": {},
   "outputs": [
    {
     "name": "stdout",
     "output_type": "stream",
     "text": [
      "4\n"
     ]
    }
   ],
   "source": [
    "lst = [1,2,3,4,5]\n",
    "try:\n",
    "    a= 5/2\n",
    "    b= lst[3]\n",
    "    \n",
    "except:\n",
    "    print(\"You maDe some mistake\")\n",
    "        \n",
    "else: \n",
    "    print(b)"
   ]
  },
  {
   "cell_type": "code",
   "execution_count": 62,
   "metadata": {},
   "outputs": [
    {
     "name": "stdout",
     "output_type": "stream",
     "text": [
      "You made some mistake\n"
     ]
    }
   ],
   "source": [
    "lst = [1,2,3,4,5]\n",
    "try:\n",
    "    a= 5/2\n",
    "    b= lst[7]\n",
    "    \n",
    "except:\n",
    "    print(\"You made some mistake\")\n",
    "        \n",
    "else: \n",
    "    print(b)"
   ]
  },
  {
   "cell_type": "code",
   "execution_count": null,
   "metadata": {},
   "outputs": [],
   "source": []
  }
 ],
 "metadata": {
  "kernelspec": {
   "display_name": "Python 3",
   "language": "python",
   "name": "python3"
  },
  "language_info": {
   "codemirror_mode": {
    "name": "ipython",
    "version": 3
   },
   "file_extension": ".py",
   "mimetype": "text/x-python",
   "name": "python",
   "nbconvert_exporter": "python",
   "pygments_lexer": "ipython3",
   "version": "3.7.6"
  }
 },
 "nbformat": 4,
 "nbformat_minor": 2
}
