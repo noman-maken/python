{
 "cells": [
  {
   "cell_type": "code",
   "execution_count": 1,
   "metadata": {},
   "outputs": [
    {
     "name": "stdout",
     "output_type": "stream",
     "text": [
      "['Bags', 6]\n",
      "['Books', 8]\n",
      "['Laptops', 4]\n"
     ]
    }
   ],
   "source": [
    "list1 = [[\"Bags\", 6], [\"Books\", 8], [\"Laptops\", 4]]\n",
    "for item in list1:\n",
    "    print(item)"
   ]
  },
  {
   "cell_type": "code",
   "execution_count": 4,
   "metadata": {},
   "outputs": [
    {
     "name": "stdout",
     "output_type": "stream",
     "text": [
      "Bags and Quantity is 6\n",
      "Books and Quantity is 8\n",
      "Laptops and Quantity is 4\n"
     ]
    }
   ],
   "source": [
    "list1 = [[\"Bags\", 6], [\"Books\", 8], [\"Laptops\", 4]]\n",
    "for item, Quantity in list1:\n",
    "    print(item, \"and Quantity is\", Quantity)"
   ]
  },
  {
   "cell_type": "code",
   "execution_count": null,
   "metadata": {},
   "outputs": [],
   "source": []
  }
 ],
 "metadata": {
  "kernelspec": {
   "display_name": "Python 3",
   "language": "python",
   "name": "python3"
  },
  "language_info": {
   "codemirror_mode": {
    "name": "ipython",
    "version": 3
   },
   "file_extension": ".py",
   "mimetype": "text/x-python",
   "name": "python",
   "nbconvert_exporter": "python",
   "pygments_lexer": "ipython3",
   "version": "3.7.6"
  }
 },
 "nbformat": 4,
 "nbformat_minor": 4
}
