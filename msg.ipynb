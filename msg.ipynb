{
 "cells": [
  {
   "cell_type": "code",
   "execution_count": 1,
   "metadata": {},
   "outputs": [
    {
     "name": "stdout",
     "output_type": "stream",
     "text": [
      "Eid Mubarak\n"
     ]
    }
   ],
   "source": [
    "message = \"Eid Mubarak\"\n",
    "msg = \"\"\"{}\"\"\".format(message)\n",
    "print(msg)"
   ]
  },
  {
   "cell_type": "code",
   "execution_count": 13,
   "metadata": {},
   "outputs": [
    {
     "name": "stdout",
     "output_type": "stream",
     "text": [
      "I'm Noman\n"
     ]
    }
   ],
   "source": [
    "message = input(\"\")"
   ]
  },
  {
   "cell_type": "code",
   "execution_count": 2,
   "metadata": {},
   "outputs": [],
   "source": [
    "import csv\n",
    "with open(\"noman.csv\", \"w\", newline=\"\") as file:\n",
    "    w = csv.writer(file,delimiter = \",\")\n",
    "    w.writerow([\"Name\",\"Roll Number\", \"Class\"])\n",
    "    w.writerow([\"Noman\",\"PIAIC\", \"AI\"])\n",
    "    w.writerow([\"Rashid\",\"PIAIC11222232\", \"AIc\"])\n"
   ]
  },
  {
   "cell_type": "code",
   "execution_count": null,
   "metadata": {},
   "outputs": [],
   "source": []
  }
 ],
 "metadata": {
  "kernelspec": {
   "display_name": "Python 3",
   "language": "python",
   "name": "python3"
  },
  "language_info": {
   "codemirror_mode": {
    "name": "ipython",
    "version": 3
   },
   "file_extension": ".py",
   "mimetype": "text/x-python",
   "name": "python",
   "nbconvert_exporter": "python",
   "pygments_lexer": "ipython3",
   "version": "3.7.6"
  }
 },
 "nbformat": 4,
 "nbformat_minor": 2
}
