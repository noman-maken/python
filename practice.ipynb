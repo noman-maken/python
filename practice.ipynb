{
 "cells": [
  {
   "cell_type": "code",
   "execution_count": 1,
   "metadata": {},
   "outputs": [
    {
     "name": "stdout",
     "output_type": "stream",
     "text": [
      "Hope you are fine\n"
     ]
    }
   ],
   "source": [
    "variable_1 = \"Hope you are fine\"\n",
    "print(variable_1)"
   ]
  },
  {
   "cell_type": "code",
   "execution_count": 2,
   "metadata": {},
   "outputs": [
    {
     "name": "stdout",
     "output_type": "stream",
     "text": [
      "123abc\n"
     ]
    }
   ],
   "source": [
    "print(\"123\"+\"abc\")"
   ]
  },
  {
   "cell_type": "code",
   "execution_count": 3,
   "metadata": {},
   "outputs": [
    {
     "data": {
      "text/plain": [
       "2"
      ]
     },
     "execution_count": 3,
     "metadata": {},
     "output_type": "execute_result"
    }
   ],
   "source": [
    "42 % 10"
   ]
  },
  {
   "cell_type": "code",
   "execution_count": 4,
   "metadata": {},
   "outputs": [],
   "source": [
    "x = 1 + 2 * 3 - 8 /4"
   ]
  },
  {
   "cell_type": "code",
   "execution_count": 5,
   "metadata": {},
   "outputs": [
    {
     "data": {
      "text/plain": [
       "5.0"
      ]
     },
     "execution_count": 5,
     "metadata": {},
     "output_type": "execute_result"
    }
   ],
   "source": [
    "x"
   ]
  },
  {
   "cell_type": "code",
   "execution_count": 8,
   "metadata": {},
   "outputs": [],
   "source": [
    "x = int(98.6)"
   ]
  },
  {
   "cell_type": "code",
   "execution_count": 9,
   "metadata": {},
   "outputs": [
    {
     "data": {
      "text/plain": [
       "98"
      ]
     },
     "execution_count": 9,
     "metadata": {},
     "output_type": "execute_result"
    }
   ],
   "source": [
    "x"
   ]
  },
  {
   "cell_type": "code",
   "execution_count": 10,
   "metadata": {},
   "outputs": [
    {
     "name": "stdout",
     "output_type": "stream",
     "text": [
      "Enter Hours:96.25\n"
     ]
    }
   ],
   "source": [
    "hrs = input(\"Enter Hours:\")"
   ]
  },
  {
   "cell_type": "code",
   "execution_count": 12,
   "metadata": {},
   "outputs": [
    {
     "name": "stdout",
     "output_type": "stream",
     "text": [
      "Pay: 98.5\n"
     ]
    }
   ],
   "source": [
    "hrs = input(\"Pay: \")"
   ]
  },
  {
   "cell_type": "code",
   "execution_count": 24,
   "metadata": {},
   "outputs": [
    {
     "name": "stdout",
     "output_type": "stream",
     "text": [
      "Enter worked hours: 45\n",
      "Enter Pay rate per hour: 10.50\n",
      "None\n"
     ]
    }
   ],
   "source": [
    "def computepay(h,r):\n",
    "    if h>40.0:\n",
    "        variable_1 = r * 40.0\n",
    "        variable_1 = variable_1 + (1.5 * r * (h - 40))\n",
    "    else:\n",
    "        variable_1 = r * h\n",
    "        return variable_1\n",
    "h = float(input(\"Enter worked hours: \"))\n",
    "r = float(input(\"Enter Pay rate per hour: \"))\n",
    "print (computepay(h,r))"
   ]
  },
  {
   "cell_type": "code",
   "execution_count": 14,
   "metadata": {},
   "outputs": [
    {
     "ename": "SyntaxError",
     "evalue": "invalid syntax (<ipython-input-14-a14916ec96e7>, line 10)",
     "output_type": "error",
     "traceback": [
      "\u001b[1;36m  File \u001b[1;32m\"<ipython-input-14-a14916ec96e7>\"\u001b[1;36m, line \u001b[1;32m10\u001b[0m\n\u001b[1;33m    print computepay(hours,rate)\u001b[0m\n\u001b[1;37m                   ^\u001b[0m\n\u001b[1;31mSyntaxError\u001b[0m\u001b[1;31m:\u001b[0m invalid syntax\n"
     ]
    }
   ],
   "source": [
    "def computepay(hours,rate):\n",
    " if hours>40.0:\n",
    "  p = rate * 40.0\n",
    "  p = p+(1.5*rate*(hours-40))\n",
    " else:\n",
    "  p = rate*hours\n",
    " return p\n",
    "hours = float(raw_input(\"Enter worked hours: \"))\n",
    "rate = float(raw_input(\"Enter Pay rate per hour: \"))\n",
    "print computepay(hours,rate)"
   ]
  },
  {
   "cell_type": "code",
   "execution_count": 26,
   "metadata": {},
   "outputs": [
    {
     "name": "stdout",
     "output_type": "stream",
     "text": [
      "Enter worked hours: 45\n",
      "Enter Pay rate per hour: 10.50\n",
      "Pay:  498.75\n"
     ]
    }
   ],
   "source": [
    "def computepay(h,r):\n",
    " if h > 40.0:\n",
    "  variable_1 = r * 40.0\n",
    "  variable_1 = variable_1 + (1.5 * r * (h - 40))\n",
    " else:\n",
    "  variable_1 = r * h\n",
    " return variable_1\n",
    "h = float(input(\"Enter worked hours: \"))\n",
    "r = float(input(\"Enter Pay rate per hour: \"))\n",
    "print(\"Pay: \",computepay(h,r))"
   ]
  },
  {
   "cell_type": "code",
   "execution_count": 30,
   "metadata": {},
   "outputs": [],
   "source": [
    "def computepay(h,r):\n",
    "    if h > 40.0:\n",
    "        variable_1 = r * 40.0\n",
    "        variable_1 = variable_1 + (1.5 * r * (h - 40))\n",
    "    else:\n",
    "        variable_1 = r * h\n",
    "        return variable_1\n",
    "    h = float(input(\"Enter worked hours: \"))\n",
    "    r = float(input(\"Enter Pay rate per hour: \"))\n",
    "print(\"Pay: \",computepay(h,r))"
   ]
  },
  {
   "cell_type": "code",
   "execution_count": 35,
   "metadata": {},
   "outputs": [
    {
     "name": "stdout",
     "output_type": "stream",
     "text": [
      "Dry Off!\n"
     ]
    }
   ],
   "source": [
    "n = 0\n",
    "while n > 0:\n",
    "    print('Lather')\n",
    "    print('Rinse')\n",
    "print('Dry Off!')"
   ]
  },
  {
   "cell_type": "code",
   "execution_count": 4,
   "metadata": {},
   "outputs": [
    {
     "name": "stdout",
     "output_type": "stream",
     "text": [
      "Enter a number: 7\n",
      "Enter a number: 2\n",
      "Enter a number: bob\n",
      "Invalid input\n",
      "Enter a number: 10\n",
      "Enter a number: 4\n",
      "Enter a number: done\n",
      "Maximum is 10\n",
      "Minimum is 2\n"
     ]
    }
   ],
   "source": [
    "largest = None\n",
    "smallest = None\n",
    "\n",
    "while True:\n",
    "    try:\n",
    "        num = input(\"Enter a number: \")\n",
    "        if num == 'done':\n",
    "            break\n",
    "        n = int(num)\n",
    "        if largest is None or n > largest:\n",
    "            largest = n\n",
    "        elif smallest is None or n < smallest:\n",
    "            smallest = n\n",
    "\n",
    "    except:\n",
    "        print(\"Invalid input\")\n",
    "        continue\n",
    "\n",
    "print(\"Maximum is\", largest)\n",
    "print(\"Minimum is\", smallest)"
   ]
  },
  {
   "cell_type": "code",
   "execution_count": null,
   "metadata": {},
   "outputs": [],
   "source": []
  }
 ],
 "metadata": {
  "kernelspec": {
   "display_name": "Python 3",
   "language": "python",
   "name": "python3"
  },
  "language_info": {
   "codemirror_mode": {
    "name": "ipython",
    "version": 3
   },
   "file_extension": ".py",
   "mimetype": "text/x-python",
   "name": "python",
   "nbconvert_exporter": "python",
   "pygments_lexer": "ipython3",
   "version": "3.7.6"
  }
 },
 "nbformat": 4,
 "nbformat_minor": 4
}
