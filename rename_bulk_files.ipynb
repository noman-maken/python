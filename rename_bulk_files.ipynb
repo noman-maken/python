{
 "cells": [
  {
   "cell_type": "code",
   "execution_count": 3,
   "id": "df7f5e06",
   "metadata": {},
   "outputs": [],
   "source": [
    "import os\n",
    "os.getcwd()\n",
    "collection = \"D:/Datasets/chess-pieces-detection-images-dataset/knight-resize/\"\n",
    "for i, filename in enumerate(os.listdir(collection)):\n",
    "    os.rename(collection + filename, collection + \"\" + str(i) + \".jpg\")"
   ]
  },
  {
   "cell_type": "code",
   "execution_count": null,
   "id": "4bc83d3c",
   "metadata": {},
   "outputs": [],
   "source": []
  }
 ],
 "metadata": {
  "kernelspec": {
   "display_name": "Python 3",
   "language": "python",
   "name": "python3"
  },
  "language_info": {
   "codemirror_mode": {
    "name": "ipython",
    "version": 3
   },
   "file_extension": ".py",
   "mimetype": "text/x-python",
   "name": "python",
   "nbconvert_exporter": "python",
   "pygments_lexer": "ipython3",
   "version": "3.8.8"
  }
 },
 "nbformat": 4,
 "nbformat_minor": 5
}
