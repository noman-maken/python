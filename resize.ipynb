{
 "cells": [
  {
   "cell_type": "code",
   "execution_count": 8,
   "id": "c967dda5",
   "metadata": {},
   "outputs": [],
   "source": [
    "from PIL import Image\n",
    "import glob\n",
    "import os\n",
    "\n",
    "# new folder path (may need to alter for Windows OS)\n",
    "# change path to your path\n",
    "path = 'yourpath/Resized_Shapes' #the path where to save resized images\n",
    "# create new folder\n",
    "if not os.path.exists(path):\n",
    "    os.makedirs(path)\n",
    "\n",
    "# loop over existing images and resize\n",
    "# change path to your path\n",
    "for filename in glob.glob('your_path/*.jpg'): #path of raw images\n",
    "    img = Image.open(filename).resize((306,306))\n",
    "    # save resized images to new folder with existing filename\n",
    "    img.save('{}{}{}'.format(path,'/',os.path.split(filename)[1]))"
   ]
  },
  {
   "cell_type": "code",
   "execution_count": 12,
   "id": "9c716656",
   "metadata": {},
   "outputs": [],
   "source": [
    "from PIL import Image\n",
    "import glob\n",
    "import os\n",
    "\n",
    "# new folder path (may need to alter for Windows OS)\n",
    "# change path to your path\n",
    "path = 'D:/Datasets/the-simpsons-characters-dataset/kaggle_simpson_testset/resize' #the path where to save resized images\n",
    "# create new folder\n",
    "if not os.path.exists(path):\n",
    "    os.makedirs(path)\n",
    "\n",
    "# loop over existing images and resize\n",
    "# change path to your path\n",
    "for filename in glob.glob('D:/Datasets/the-simpsons-characters-dataset/kaggle_simpson_testset/kaggle_simpson_testset/*.jpg'): #path of raw images\n",
    "    img = Image.open(filename).resize((2500,2500))\n",
    "    # save resized images to new folder with existing filename\n",
    "    img.save('{}{}{}'.format(path,'/',os.path.split(filename)[1]))"
   ]
  },
  {
   "cell_type": "code",
   "execution_count": null,
   "id": "c426e737",
   "metadata": {},
   "outputs": [],
   "source": []
  }
 ],
 "metadata": {
  "kernelspec": {
   "display_name": "Python 3",
   "language": "python",
   "name": "python3"
  },
  "language_info": {
   "codemirror_mode": {
    "name": "ipython",
    "version": 3
   },
   "file_extension": ".py",
   "mimetype": "text/x-python",
   "name": "python",
   "nbconvert_exporter": "python",
   "pygments_lexer": "ipython3",
   "version": "3.8.8"
  }
 },
 "nbformat": 4,
 "nbformat_minor": 5
}
