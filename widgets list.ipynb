{
 "cells": [
  {
   "cell_type": "code",
   "execution_count": 2,
   "metadata": {},
   "outputs": [],
   "source": [
    "import ipywidgets as widgets"
   ]
  },
  {
   "cell_type": "code",
   "execution_count": 4,
   "metadata": {},
   "outputs": [
    {
     "ename": "AttributeError",
     "evalue": "'WidgetRegistry' object has no attribute 'values'",
     "output_type": "error",
     "traceback": [
      "\u001b[1;31m---------------------------------------------------------------------------\u001b[0m",
      "\u001b[1;31mAttributeError\u001b[0m                            Traceback (most recent call last)",
      "\u001b[1;32m<ipython-input-4-48ada3aea023>\u001b[0m in \u001b[0;36m<module>\u001b[1;34m\u001b[0m\n\u001b[1;32m----> 1\u001b[1;33m \u001b[0mwidgets\u001b[0m\u001b[1;33m.\u001b[0m\u001b[0mWidget\u001b[0m\u001b[1;33m.\u001b[0m\u001b[0mwidget_types\u001b[0m\u001b[1;33m.\u001b[0m\u001b[0mvalues\u001b[0m\u001b[1;33m(\u001b[0m\u001b[1;33m)\u001b[0m\u001b[1;33m\u001b[0m\u001b[1;33m\u001b[0m\u001b[0m\n\u001b[0m",
      "\u001b[1;31mAttributeError\u001b[0m: 'WidgetRegistry' object has no attribute 'values'"
     ]
    }
   ],
   "source": [
    "widgets.Widget.widget_types.values()"
   ]
  },
  {
   "cell_type": "code",
   "execution_count": 7,
   "metadata": {},
   "outputs": [
    {
     "data": {
      "application/vnd.jupyter.widget-view+json": {
       "model_id": "e075f0b3bd074510ae6de5e8faba25e6",
       "version_major": 2,
       "version_minor": 0
      },
      "text/plain": [
       "FloatProgress(value=8.5, description='Loading', max=12.0, min=5.0)"
      ]
     },
     "metadata": {},
     "output_type": "display_data"
    }
   ],
   "source": [
    "widgets.FloatProgress(\n",
    "    value=8.5,\n",
    "    min= 5.0,\n",
    "    max= 12.0,\n",
    "    step=0.1,\n",
    "    description='Loading',\n",
    ")"
   ]
  },
  {
   "cell_type": "code",
   "execution_count": 9,
   "metadata": {},
   "outputs": [
    {
     "data": {
      "application/vnd.jupyter.widget-view+json": {
       "model_id": "e0656500fa5840f0b82500303ac92bf5",
       "version_major": 2,
       "version_minor": 0
      },
      "text/plain": [
       "BoundedFloatText(value=7.5, description='Text', max=10.0, min=5.0)"
      ]
     },
     "metadata": {},
     "output_type": "display_data"
    }
   ],
   "source": [
    "widgets.BoundedFloatText(\n",
    "    value= 7.5,\n",
    "    min = 5.0,\n",
    "    max=10.0,\n",
    "    description='Text',\n",
    ")"
   ]
  },
  {
   "cell_type": "code",
   "execution_count": 12,
   "metadata": {},
   "outputs": [
    {
     "data": {
      "application/vnd.jupyter.widget-view+json": {
       "model_id": "553c78ca753a4e63bf3047c374866399",
       "version_major": 2,
       "version_minor": 0
      },
      "text/plain": [
       "FloatText(value=7.5, description='Any')"
      ]
     },
     "metadata": {},
     "output_type": "display_data"
    }
   ],
   "source": [
    "widgets.FloatText(\n",
    "    value= 7.5,\n",
    "    description='Any',\n",
    ")"
   ]
  },
  {
   "cell_type": "code",
   "execution_count": 20,
   "metadata": {},
   "outputs": [
    {
     "data": {
      "application/vnd.jupyter.widget-view+json": {
       "model_id": "f1b92a77d722467cb3e338e85e6bf50b",
       "version_major": 2,
       "version_minor": 0
      },
      "text/plain": [
       "ToggleButton(value=False, description='Submit')"
      ]
     },
     "metadata": {},
     "output_type": "display_data"
    }
   ],
   "source": [
    "widgets.ToggleButton(\n",
    "    description='Submit',\n",
    ")"
   ]
  },
  {
   "cell_type": "code",
   "execution_count": 23,
   "metadata": {},
   "outputs": [
    {
     "data": {
      "application/vnd.jupyter.widget-view+json": {
       "model_id": "5ab11e8b296046989b89feea62a3c3d5",
       "version_major": 2,
       "version_minor": 0
      },
      "text/plain": [
       "Checkbox(value=False, description='Check Me')"
      ]
     },
     "metadata": {},
     "output_type": "display_data"
    }
   ],
   "source": [
    "widgets.Checkbox(\n",
    "    description='Check Me',\n",
    "    value=False\n",
    ")"
   ]
  },
  {
   "cell_type": "code",
   "execution_count": 25,
   "metadata": {},
   "outputs": [
    {
     "data": {
      "application/vnd.jupyter.widget-view+json": {
       "model_id": "5ebf9da4dea34e7a976b1955126c28ab",
       "version_major": 2,
       "version_minor": 0
      },
      "text/plain": [
       "Valid(value=False)"
      ]
     },
     "metadata": {},
     "output_type": "display_data"
    }
   ],
   "source": [
    "widgets.Valid(\n",
    "    value=False\n",
    ")"
   ]
  },
  {
   "cell_type": "code",
   "execution_count": 31,
   "metadata": {},
   "outputs": [
    {
     "data": {
      "application/vnd.jupyter.widget-view+json": {
       "model_id": "042ec6b203004fa9b04991aeba2359c0",
       "version_major": 2,
       "version_minor": 0
      },
      "text/plain": [
       "Dropdown(description='Number', index=1, options=('1', '2', '3', '4', '5'), value='2')"
      ]
     },
     "metadata": {},
     "output_type": "display_data"
    }
   ],
   "source": [
    "from IPython.display import display\n",
    "\n",
    "w = widgets.Dropdown(\n",
    "    options=['1','2','3','4','5'],\n",
    "    value= '2',\n",
    "    description = 'Number'\n",
    "\n",
    ")\n",
    "display(w)"
   ]
  },
  {
   "cell_type": "code",
   "execution_count": 34,
   "metadata": {},
   "outputs": [
    {
     "data": {
      "text/plain": [
       "'3'"
      ]
     },
     "execution_count": 34,
     "metadata": {},
     "output_type": "execute_result"
    }
   ],
   "source": [
    "w.value"
   ]
  },
  {
   "cell_type": "code",
   "execution_count": 3,
   "metadata": {},
   "outputs": [
    {
     "ename": "AttributeError",
     "evalue": "module 'ipywidgets' has no attribute 'Latex'",
     "output_type": "error",
     "traceback": [
      "\u001b[1;31m---------------------------------------------------------------------------\u001b[0m",
      "\u001b[1;31mAttributeError\u001b[0m                            Traceback (most recent call last)",
      "\u001b[1;32m<ipython-input-3-ca8f6dc0e4df>\u001b[0m in \u001b[0;36m<module>\u001b[1;34m\u001b[0m\n\u001b[1;32m----> 1\u001b[1;33m widgets.Latex(\n\u001b[0m\u001b[0;32m      2\u001b[0m     \u001b[0mvalue\u001b[0m\u001b[1;33m=\u001b[0m\u001b[1;34m\"x = a^2  + 2ab + b^2\"\u001b[0m\u001b[1;33m\u001b[0m\u001b[1;33m\u001b[0m\u001b[0m\n\u001b[0;32m      3\u001b[0m )\n\u001b[0;32m      4\u001b[0m \u001b[1;33m\u001b[0m\u001b[0m\n",
      "\u001b[1;31mAttributeError\u001b[0m: module 'ipywidgets' has no attribute 'Latex'"
     ]
    }
   ],
   "source": [
    "widgets.Latex(\n",
    "    value=\"x = a^2  + 2ab + b^2\"\n",
    ")\n",
    "\n"
   ]
  },
  {
   "cell_type": "code",
   "execution_count": 36,
   "metadata": {},
   "outputs": [
    {
     "name": "stdout",
     "output_type": "stream",
     "text": [
      "Collecting Latex\n",
      "  Downloading latex-0.7.0.tar.gz (6.5 kB)\n",
      "Collecting tempdir\n",
      "  Downloading tempdir-0.7.1.tar.gz (5.9 kB)\n",
      "Collecting data\n",
      "  Downloading data-0.4.tar.gz (7.0 kB)\n",
      "Requirement already satisfied: future in c:\\programdata\\anaconda3\\lib\\site-packages (from Latex) (0.18.2)\n",
      "Collecting shutilwhich\n",
      "  Downloading shutilwhich-1.1.0.tar.gz (2.3 kB)\n",
      "Requirement already satisfied: six in c:\\programdata\\anaconda3\\lib\\site-packages (from data->Latex) (1.14.0)\n",
      "Requirement already satisfied: decorator in c:\\programdata\\anaconda3\\lib\\site-packages (from data->Latex) (4.4.1)\n",
      "Collecting funcsigs\n",
      "  Downloading funcsigs-1.0.2-py2.py3-none-any.whl (17 kB)\n",
      "Building wheels for collected packages: Latex, tempdir, data, shutilwhich\n",
      "  Building wheel for Latex (setup.py): started\n",
      "  Building wheel for Latex (setup.py): finished with status 'done'\n",
      "  Created wheel for Latex: filename=latex-0.7.0-py3-none-any.whl size=7610 sha256=3c5dcaa456f042bcea849d33c84aa18d4184b3f413739f81b84cce539b5be040\n",
      "  Stored in directory: c:\\users\\noman\\appdata\\local\\pip\\cache\\wheels\\57\\d6\\11\\5d5718227890d9e479b6137cb406410c37a0b84b2ab35b872b\n",
      "  Building wheel for tempdir (setup.py): started\n",
      "  Building wheel for tempdir (setup.py): finished with status 'done'\n",
      "  Created wheel for tempdir: filename=tempdir-0.7.1-py3-none-any.whl size=2218 sha256=7da0007bcd9f48e50f69ef089d7fc4bb876e3f0f5ef5ed54f929fe758d8d4154\n",
      "  Stored in directory: c:\\users\\noman\\appdata\\local\\pip\\cache\\wheels\\7a\\f1\\d7\\124b54c21a9ba4973bc60fcda6cdc264271f3c4d607be0486d\n",
      "  Building wheel for data (setup.py): started\n",
      "  Building wheel for data (setup.py): finished with status 'done'\n",
      "  Created wheel for data: filename=data-0.4-py3-none-any.whl size=7251 sha256=3c5c88b4afb5dafea6d98d7e8daa6ea21329ccff8ce3731c9b6ed0fd03aa0a1d\n",
      "  Stored in directory: c:\\users\\noman\\appdata\\local\\pip\\cache\\wheels\\28\\76\\4b\\7db27e02c1de4d2181559d108fcdfed1680ff7d3534553d460\n",
      "  Building wheel for shutilwhich (setup.py): started\n",
      "  Building wheel for shutilwhich (setup.py): finished with status 'done'\n",
      "  Created wheel for shutilwhich: filename=shutilwhich-1.1.0-py3-none-any.whl size=2789 sha256=7a3e784dc0a6f5b38004eabdee22c27d0f464947805b194d74ede396938075f8\n",
      "  Stored in directory: c:\\users\\noman\\appdata\\local\\pip\\cache\\wheels\\4c\\c0\\ce\\5a47f35186acbe73e38811df30daaf798c81a7599bb2d5995a\n",
      "Successfully built Latex tempdir data shutilwhich\n",
      "Installing collected packages: tempdir, funcsigs, data, shutilwhich, Latex\n",
      "Successfully installed Latex-0.7.0 data-0.4 funcsigs-1.0.2 shutilwhich-1.1.0 tempdir-0.7.1\n",
      "Note: you may need to restart the kernel to use updated packages.\n"
     ]
    }
   ],
   "source": [
    "pip install Latex"
   ]
  },
  {
   "cell_type": "code",
   "execution_count": null,
   "metadata": {},
   "outputs": [],
   "source": []
  }
 ],
 "metadata": {
  "kernelspec": {
   "display_name": "Python 3",
   "language": "python",
   "name": "python3"
  },
  "language_info": {
   "codemirror_mode": {
    "name": "ipython",
    "version": 3
   },
   "file_extension": ".py",
   "mimetype": "text/x-python",
   "name": "python",
   "nbconvert_exporter": "python",
   "pygments_lexer": "ipython3",
   "version": "3.7.6"
  }
 },
 "nbformat": 4,
 "nbformat_minor": 4
}
